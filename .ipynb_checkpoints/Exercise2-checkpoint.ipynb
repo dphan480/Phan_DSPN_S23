{
 "cells": [
  {
   "cell_type": "markdown",
   "metadata": {
    "id": "gNswkijkcFGO"
   },
   "source": [
    "# Exercise 2: Coding Habits & Functions"
   ]
  },
  {
   "cell_type": "markdown",
   "metadata": {
    "id": "butNj3aJcFGR"
   },
   "source": [
    "This assignment will give you some practice writing your own functions and using the coding best practices discussed in the tutorial.\n",
    "\n",
    "---"
   ]
  },
  {
   "cell_type": "markdown",
   "metadata": {
    "id": "3AIqVCvjcFGT"
   },
   "source": [
    "## 1. Summary statistics (4 pts)\n",
    "\n",
    "Write a function that takes a vector of numbers `x` and returns the length, mean, and standard deviation of `x` as a new vector.\n",
    "\n",
    "In keeping with our best practices, give the function a short but descriptive name, and use snake case if it involves multiple words. \n",
    "\n",
    "Hint: Vectors are defined in R using the `c()` command."
   ]
  },
  {
   "cell_type": "code",
   "execution_count": 3,
   "metadata": {
    "id": "1203v2aGcFGV"
   },
   "outputs": [],
   "source": [
    "length_mean_sd <- function(x){\n",
    "    x = na.omit(x) #not sure whether to omit completely or to still factor in the NA for length\n",
    "    length = length(x);\n",
    "    mean = mean(x);\n",
    "    sd = sd(x);\n",
    "    return(c(length,mean,sd))\n",
    "}\n"
   ]
  },
  {
   "cell_type": "markdown",
   "metadata": {
    "id": "iLV6gZtMcFGZ"
   },
   "source": [
    "Calculate the summary statistics of vector `v1`."
   ]
  },
  {
   "cell_type": "code",
   "execution_count": 4,
   "metadata": {
    "id": "l7_PDVBecFGa",
    "scrolled": false
   },
   "outputs": [
    {
     "data": {
      "text/html": [
       "<style>\n",
       ".list-inline {list-style: none; margin:0; padding: 0}\n",
       ".list-inline>li {display: inline-block}\n",
       ".list-inline>li:not(:last-child)::after {content: \"\\00b7\"; padding: 0 .5ex}\n",
       "</style>\n",
       "<ol class=list-inline><li>4</li><li>7.75</li><li>2.75378527364305</li></ol>\n"
      ],
      "text/latex": [
       "\\begin{enumerate*}\n",
       "\\item 4\n",
       "\\item 7.75\n",
       "\\item 2.75378527364305\n",
       "\\end{enumerate*}\n"
      ],
      "text/markdown": [
       "1. 4\n",
       "2. 7.75\n",
       "3. 2.75378527364305\n",
       "\n",
       "\n"
      ],
      "text/plain": [
       "[1] 4.000000 7.750000 2.753785"
      ]
     },
     "metadata": {},
     "output_type": "display_data"
    }
   ],
   "source": [
    "v1  <- c(5, 11, 6, NA, 9)\n",
    "\n",
    "length_mean_sd(v1)"
   ]
  },
  {
   "cell_type": "markdown",
   "metadata": {
    "id": "IZHwf4k9cFGa"
   },
   "source": [
    "---\n",
    "## 2. T-test function (4 pts)\n",
    "\n",
    "The formula for a t-test is:"
   ]
  },
  {
   "cell_type": "markdown",
   "metadata": {
    "id": "asJBtmYMcFGa"
   },
   "source": [
    "$$ \\frac{m- \\mu}{ \\frac{s}{\\sqrt{n}}} $$"
   ]
  },
  {
   "cell_type": "markdown",
   "metadata": {
    "id": "7nbvpbw7cFGb"
   },
   "source": [
    "Where m is the sample mean, $\\mu$ (mu) is the population mean, s is the standard deviation, and n is the sample size.\n",
    "\n",
    "Using your function above as a starting point, write a new function `ttest_fun` that compares a vector `x` to a given population mean `mu` and calculates the t-statistic. Keep the coding best practices in mind.\n",
    "\n",
    "Hint: You will need to add another argument for mu."
   ]
  },
  {
   "cell_type": "code",
   "execution_count": 42,
   "metadata": {
    "id": "Fz5En5kucFGf"
   },
   "outputs": [],
   "source": [
    "ttest_fun <- function(x,mu){\n",
    "    numer = x[2] - mu\n",
    "    denom = x[3] / sqrt(x[1])\n",
    "    return(numer/denom)\n",
    "}\n"
   ]
  },
  {
   "cell_type": "markdown",
   "metadata": {
    "id": "l4Br-E0QcFGg"
   },
   "source": [
    "Use your function to compare the mean of v1 to 10."
   ]
  },
  {
   "cell_type": "code",
   "execution_count": 43,
   "metadata": {
    "id": "a0XNynFgcFGh"
   },
   "outputs": [
    {
     "data": {
      "text/html": [
       "0.372677996249965"
      ],
      "text/latex": [
       "0.372677996249965"
      ],
      "text/markdown": [
       "0.372677996249965"
      ],
      "text/plain": [
       "[1] 0.372678"
      ]
     },
     "metadata": {},
     "output_type": "display_data"
    }
   ],
   "source": [
    "ttest_fun(v1, 10) "
   ]
  },
  {
   "cell_type": "markdown",
   "metadata": {
    "id": "mv6m5s4dcFGi"
   },
   "source": [
    "---\n",
    "## 3. Setting default values (2 pts)\n",
    "\n",
    "Set the default value of mu to 0. Test your modified function below by supplying only `v2` as an argument."
   ]
  },
  {
   "cell_type": "code",
   "execution_count": 45,
   "metadata": {
    "id": "GvmYNwzKcFGj"
   },
   "outputs": [],
   "source": [
    "ttest_fun <- function(x,mu=0){\n",
    "    numer = x[2] - mu\n",
    "    denom = x[3] / sqrt(x[1])\n",
    "    return(numer/denom)\n",
    "}"
   ]
  },
  {
   "cell_type": "code",
   "execution_count": 46,
   "metadata": {
    "id": "1boJIr7jcFGk"
   },
   "outputs": [
    {
     "data": {
      "text/html": [
       "4.09945795874961"
      ],
      "text/latex": [
       "4.09945795874961"
      ],
      "text/markdown": [
       "4.09945795874961"
      ],
      "text/plain": [
       "[1] 4.099458"
      ]
     },
     "metadata": {},
     "output_type": "display_data"
    }
   ],
   "source": [
    "ttest_fun(v1)"
   ]
  },
  {
   "cell_type": "markdown",
   "metadata": {
    "id": "vvYdV7uncFGl"
   },
   "source": [
    "How does your result compare to R's built-in `t.test()` function?"
   ]
  },
  {
   "cell_type": "code",
   "execution_count": 47,
   "metadata": {
    "id": "XAiCDiVucFGm",
    "scrolled": true
   },
   "outputs": [
    {
     "data": {
      "text/plain": [
       "\n",
       "\tOne Sample t-test\n",
       "\n",
       "data:  v1\n",
       "t = 4.208, df = 4, p-value = 0.01361\n",
       "alternative hypothesis: true mean is not equal to 0\n",
       "95 percent confidence interval:\n",
       "  2.245316 10.954684\n",
       "sample estimates:\n",
       "mean of x \n",
       "      6.6 \n"
      ]
     },
     "metadata": {},
     "output_type": "display_data"
    }
   ],
   "source": [
    "t.test(v1)"
   ]
  },
  {
   "cell_type": "markdown",
   "metadata": {
    "id": "2slWzsoYGuLt"
   },
   "source": [
    "When you are finished, save the notebook as Exercise2.ipynb, push it to your class GitHub repository (the one you made for Exercise 1) and send the instructors a link to your notebook via Canvas. You can send messages via Canvas by clicking \"Inbox\" on the left and then pressing the icon with a pencil inside a square."
   ]
  },
  {
   "cell_type": "markdown",
   "metadata": {
    "id": "C4MPECMmZXqe"
   },
   "source": [
    "**DUE:** 5pm EST, Feb 6, 2023"
   ]
  },
  {
   "cell_type": "markdown",
   "metadata": {
    "id": "r9GUofXN4BVy"
   },
   "source": [
    "**IMPORTANT** Did you collaborate with anyone on this assignment? If so, list their names here. \n",
    "> *Someone's Name*"
   ]
  }
 ],
 "metadata": {
  "colab": {
   "provenance": []
  },
  "kernelspec": {
   "display_name": "R",
   "language": "R",
   "name": "ir"
  },
  "language_info": {
   "codemirror_mode": "r",
   "file_extension": ".r",
   "mimetype": "text/x-r-source",
   "name": "R",
   "pygments_lexer": "r",
   "version": "4.2.1"
  }
 },
 "nbformat": 4,
 "nbformat_minor": 1
}
