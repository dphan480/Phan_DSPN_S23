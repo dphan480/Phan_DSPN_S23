{
 "cells": [
  {
   "cell_type": "markdown",
   "metadata": {
    "id": "S5Fpqv6H_cZA"
   },
   "source": [
    "# Exercise 11: The Beauty of kNN\n",
    "\n",
    "In this exercise, you'll gain practice working with kNN. We'll use the [diamonds](https://ggplot2.tidyverse.org/reference/diamonds.html) dataset, which comes as part of `ggplot2`. This dataset provides information on the quality and price of 50,000 diamonds\n"
   ]
  },
  {
   "cell_type": "markdown",
   "metadata": {
    "id": "is-1Gkl6_cZC"
   },
   "source": [
    "## 1. Data, Plotting, and Train/Test Sets (2 pts)\n",
    "-----\n",
    "* Load the the `class` and `tidyverse` packages.\n",
    "* Assign the `diamonds` data set to a simpler name. Then, create a new variable `price_bin` that splits the `price` variable into a binary variable, where 1 indicates that the diamond costs greater than the mean price, and 0 indicates that the diamond costs less than the mean price. Set `price_bin` to be a factor. (*Hint: use the if_else() function*)\n",
    "* Select just the `carat`, `depth`, `table`, `x`, `y`, and your new `price_bin` variables\n",
    "* Print the first few lines of the data set\n",
    "* Print the dimensions of the data set\n"
   ]
  },
  {
   "cell_type": "code",
   "execution_count": 81,
   "metadata": {
    "id": "076b5Q2i_cZC",
    "scrolled": false
   },
   "outputs": [
    {
     "name": "stdout",
     "output_type": "stream",
     "text": [
      "\u001b[90m# A tibble: 6 × 6\u001b[39m\n",
      "  carat depth table     x     y price_bin\n",
      "  \u001b[3m\u001b[90m<dbl>\u001b[39m\u001b[23m \u001b[3m\u001b[90m<dbl>\u001b[39m\u001b[23m \u001b[3m\u001b[90m<dbl>\u001b[39m\u001b[23m \u001b[3m\u001b[90m<dbl>\u001b[39m\u001b[23m \u001b[3m\u001b[90m<dbl>\u001b[39m\u001b[23m \u001b[3m\u001b[90m<fct>\u001b[39m\u001b[23m    \n",
      "\u001b[90m1\u001b[39m  0.23  61.5    55  3.95  3.98 0        \n",
      "\u001b[90m2\u001b[39m  0.21  59.8    61  3.89  3.84 0        \n",
      "\u001b[90m3\u001b[39m  0.23  56.9    65  4.05  4.07 0        \n",
      "\u001b[90m4\u001b[39m  0.29  62.4    58  4.2   4.23 0        \n",
      "\u001b[90m5\u001b[39m  0.31  63.3    58  4.34  4.35 0        \n",
      "\u001b[90m6\u001b[39m  0.24  62.8    57  3.94  3.96 0        \n",
      "[1] 53940     6\n"
     ]
    }
   ],
   "source": [
    "# INSERT CODE HERE\n",
    "library(class)\n",
    "library(tidyverse)\n",
    "\n",
    "d <- diamonds\n",
    "d$price_bin = if_else(d$price > mean(d$price), 1, 0) %>% as.factor()\n",
    "d = d %>% select(carat,depth,table,x,y,price_bin)\n",
    "print(head(d))\n",
    "print(dim(d))"
   ]
  },
  {
   "cell_type": "markdown",
   "metadata": {
    "id": "OE--UOxM_cZD"
   },
   "source": [
    "### Plot\n",
    "Create a scatterplot of the link between `carat` and `depth`, and use the `color` aesthetics mapping to differentiate between diamonds that cost above versus below the mean price. "
   ]
  },
  {
   "cell_type": "code",
   "execution_count": 82,
   "metadata": {
    "id": "SZQl5C9H_cZD"
   },
   "outputs": [
    {
     "data": {
      "image/png": "[encoded data removed]",
      "text/plain": [
       "plot without title"
      ]
     },
     "metadata": {
      "image/png": {
       "height": 420,
       "width": 420
      }
     },
     "output_type": "display_data"
    }
   ],
   "source": [
    "# INSERT CODE HERE\n",
    "ggplot(d,aes(x=carat,y=depth,color=price_bin)) +\n",
    "    geom_point()"
   ]
  },
  {
   "cell_type": "markdown",
   "metadata": {
    "id": "j-K6NEON_cZD"
   },
   "source": [
    "Based on the above scatterplot, how do you think kNN will perform using only these two variables to predict diabetes diagnosis? Which variable, carat or depth, gives us the most information about which price class the diamond will belong to?\n",
    "> Diabetes diagnoses?  \n",
    "> I think kNN will do a great job predicting price_bin from depth and carat. I think Carat will definitely give the most info about the price class.\n"
   ]
  },
  {
   "cell_type": "markdown",
   "metadata": {
    "id": "wT7O-CHO_cZE"
   },
   "source": [
    "### Test vs Train\n",
    "\n",
    "Before we run KNN on these data, we need to set aside a portion of the observations as our test set. Below, randomly divide the data such that 30% are allotted to the `test` set and the rest are allotted to the `train` set. Print the first few lines of each set, and print the dimensions of each set to double check your division of the data."
   ]
  },
  {
   "cell_type": "code",
   "execution_count": 86,
   "metadata": {
    "id": "Oj3YcEP0_cZE"
   },
   "outputs": [
    {
     "name": "stdout",
     "output_type": "stream",
     "text": [
      "     [,1] [,2]\n",
      "[1,] 0.23 61.5\n",
      "[2,] 0.23 56.9\n",
      "[3,] 0.29 62.4\n",
      "[4,] 0.31 63.3\n",
      "[5,] 0.24 62.8\n",
      "[6,] 0.24 62.3\n",
      "     [,1] [,2]\n",
      "[1,] 1.22 62.3\n",
      "[2,] 1.57 62.3\n",
      "[3,] 1.11 62.4\n",
      "[4,] 0.42 60.6\n",
      "[5,] 0.32 62.6\n",
      "[6,] 0.90 62.7\n",
      "[1] 0 0 0 0 0 0\n",
      "Levels: 0 1\n",
      "[1] 37758     2\n",
      "[1] 16182     2\n",
      "NULL\n"
     ]
    }
   ],
   "source": [
    "set.seed(2023)\n",
    "\n",
    "# INSERT CODE HERE\n",
    "test.i = sample(1:nrow(d), size = 0.3 * nrow(d), replace = FALSE)\n",
    "\n",
    "train.x = cbind(d$carat[-test.i], d$depth[-test.i])\n",
    "test.x = cbind(d$carat[test.i], d$depth[test.i])\n",
    "train.y = d$price_bin[-test.i]\n",
    "test.y = d$price_bin[test.i]\n",
    "\n",
    "print(head(train.x))\n",
    "print(head(test.x))\n",
    "print(head(train.y))\n",
    "\n",
    "print(dim(train.x))\n",
    "print(dim(test.x))\n",
    "print(dim(train.y))"
   ]
  },
  {
   "cell_type": "markdown",
   "metadata": {
    "id": "lFtmRUBN_cZF"
   },
   "source": [
    "## 2: KNN (3 points)\n",
    "----\n",
    "Now, use the `knn()` function from the `class` library to predict `price_bin` from the `carat` and `depth`. Set `k = 3`. \n",
    "\n",
    "*Hint: Review the format required for the arguments of knn()*"
   ]
  },
  {
   "cell_type": "code",
   "execution_count": 84,
   "metadata": {
    "id": "9pcL8AM9_cZG",
    "scrolled": true
   },
   "outputs": [],
   "source": [
    "set.seed(2023)\n",
    "# INSERT CODE HERE\n",
    "knn = knn(train.x, test.x, train.y, k = 3)"
   ]
  },
  {
   "cell_type": "markdown",
   "metadata": {
    "id": "RXnTKbdi_cZG"
   },
   "source": [
    "Now, output a confusion matrix and calculate the test error to evaluate model performance. "
   ]
  },
  {
   "cell_type": "code",
   "execution_count": 88,
   "metadata": {
    "id": "qhwTYq9B_cZH"
   },
   "outputs": [
    {
     "data": {
      "text/plain": [
       "   test.y\n",
       "knn    0    1\n",
       "  0 9707  316\n",
       "  1  539 5620"
      ]
     },
     "metadata": {},
     "output_type": "display_data"
    },
    {
     "name": "stdout",
     "output_type": "stream",
     "text": [
      "[1] 0.9471635\n",
      "[1] 0.05283648\n"
     ]
    }
   ],
   "source": [
    "# INSERT CODE HERE\n",
    "table(knn, test.y)\n",
    "print(mean(knn == test.y))\n",
    "print(1 - mean(knn == test.y))"
   ]
  },
  {
   "cell_type": "markdown",
   "metadata": {
    "id": "mOQSLQ37_cZK"
   },
   "source": [
    "How did your model perform?\n",
    "> Our model performed very well with a success rate of 94.72%.\n"
   ]
  },
  {
   "cell_type": "markdown",
   "metadata": {
    "id": "p0lvEh3F_cZL"
   },
   "source": [
    "Let's try to improve our model by adding all of the other variables in our data set as predictors. Rerun your `knn()` below, keeping `k = 3`. Again, output a confusion matrix and error rate for your updated model fit."
   ]
  },
  {
   "cell_type": "code",
   "execution_count": 91,
   "metadata": {
    "id": "KWsncoDP_cZL"
   },
   "outputs": [
    {
     "data": {
      "text/plain": [
       "       test.y\n",
       "knn_all    0    1\n",
       "      0 9728  391\n",
       "      1  518 5545"
      ]
     },
     "metadata": {},
     "output_type": "display_data"
    },
    {
     "name": "stdout",
     "output_type": "stream",
     "text": [
      "[1] 0.9438265\n",
      "[1] 0.05617353\n"
     ]
    }
   ],
   "source": [
    "set.seed(2023)\n",
    "\n",
    "train.x_all = d %>% select(-price_bin) %>% .[-test.i,]\n",
    "test.x_all = d %>% select(-price_bin) %>% .[test.i,]\n",
    "\n",
    "knn_all = knn(train.x_all, test.x_all, train.y, k = 3)\n",
    "table(knn_all, test.y)\n",
    "print(mean(knn_all == test.y))\n",
    "print(1 - mean(knn_all == test.y))"
   ]
  },
  {
   "cell_type": "markdown",
   "metadata": {
    "id": "t2Dyykaf_cZM"
   },
   "source": [
    "Did your model predictions improve?\n",
    "> Our model still did well at 94.38%, but it did worse than our previous model, likely due to overfitting.\n"
   ]
  },
  {
   "cell_type": "markdown",
   "metadata": {
    "id": "WYHprC4m_cZN"
   },
   "source": [
    "# 3: for loop (3 points)\n",
    "----\n",
    "\n",
    "So adding additional predictors didn't shift our error much. Let's see if adjusting `k` has a larger impact on model accuracy. \n",
    "\n",
    "Using your initial model above with just `carat` and `depth`, run a `for loop` that runs the same model 30 times, for `k = 1:30`. \n",
    "\n",
    "Output a data frame that has `k` and the overall `error` as columns.\n",
    "\n",
    "The structure of the output data frame and `for loop` are provided for you below. Note that your loop will take a minute or two to run because there are so many observations in the dataset. It may be helpful while you are writing and testing your loop to run it on a subset of the data with only a handful of rows."
   ]
  },
  {
   "cell_type": "code",
   "execution_count": 41,
   "metadata": {
    "id": "D-GAvxGH_cZN",
    "scrolled": false
   },
   "outputs": [
    {
     "data": {
      "text/html": [
       "<table class=\"dataframe\">\n",
       "<caption>A data.frame: 6 × 2</caption>\n",
       "<thead>\n",
       "\t<tr><th></th><th scope=col>k</th><th scope=col>error</th></tr>\n",
       "\t<tr><th></th><th scope=col>&lt;int&gt;</th><th scope=col>&lt;lgl&gt;</th></tr>\n",
       "</thead>\n",
       "<tbody>\n",
       "\t<tr><th scope=row>1</th><td>1</td><td>NA</td></tr>\n",
       "\t<tr><th scope=row>2</th><td>2</td><td>NA</td></tr>\n",
       "\t<tr><th scope=row>3</th><td>3</td><td>NA</td></tr>\n",
       "\t<tr><th scope=row>4</th><td>4</td><td>NA</td></tr>\n",
       "\t<tr><th scope=row>5</th><td>5</td><td>NA</td></tr>\n",
       "\t<tr><th scope=row>6</th><td>6</td><td>NA</td></tr>\n",
       "</tbody>\n",
       "</table>\n"
      ],
      "text/latex": [
       "A data.frame: 6 × 2\n",
       "\\begin{tabular}{r|ll}\n",
       "  & k & error\\\\\n",
       "  & <int> & <lgl>\\\\\n",
       "\\hline\n",
       "\t1 & 1 & NA\\\\\n",
       "\t2 & 2 & NA\\\\\n",
       "\t3 & 3 & NA\\\\\n",
       "\t4 & 4 & NA\\\\\n",
       "\t5 & 5 & NA\\\\\n",
       "\t6 & 6 & NA\\\\\n",
       "\\end{tabular}\n"
      ],
      "text/markdown": [
       "\n",
       "A data.frame: 6 × 2\n",
       "\n",
       "| <!--/--> | k &lt;int&gt; | error &lt;lgl&gt; |\n",
       "|---|---|---|\n",
       "| 1 | 1 | NA |\n",
       "| 2 | 2 | NA |\n",
       "| 3 | 3 | NA |\n",
       "| 4 | 4 | NA |\n",
       "| 5 | 5 | NA |\n",
       "| 6 | 6 | NA |\n",
       "\n"
      ],
      "text/plain": [
       "  k error\n",
       "1 1 NA   \n",
       "2 2 NA   \n",
       "3 3 NA   \n",
       "4 4 NA   \n",
       "5 5 NA   \n",
       "6 6 NA   "
      ]
     },
     "metadata": {},
     "output_type": "display_data"
    }
   ],
   "source": [
    "# this is provided\n",
    "# setting up empty table to store for loop output\n",
    "output  <- data.frame(k = seq(1:30),\n",
    "                     error = rep(NA, 30))\n",
    "head(output)"
   ]
  },
  {
   "cell_type": "code",
   "execution_count": 94,
   "metadata": {
    "id": "we6mzfCJ_cZN"
   },
   "outputs": [
    {
     "data": {
      "text/html": [
       "<table class=\"dataframe\">\n",
       "<caption>A data.frame: 6 × 2</caption>\n",
       "<thead>\n",
       "\t<tr><th></th><th scope=col>k</th><th scope=col>error</th></tr>\n",
       "\t<tr><th></th><th scope=col>&lt;int&gt;</th><th scope=col>&lt;dbl&gt;</th></tr>\n",
       "</thead>\n",
       "<tbody>\n",
       "\t<tr><th scope=row>1</th><td>1</td><td>0.05289828</td></tr>\n",
       "\t<tr><th scope=row>2</th><td>2</td><td>0.05376344</td></tr>\n",
       "\t<tr><th scope=row>3</th><td>3</td><td>0.05308367</td></tr>\n",
       "\t<tr><th scope=row>4</th><td>4</td><td>0.05326906</td></tr>\n",
       "\t<tr><th scope=row>5</th><td>5</td><td>0.05234211</td></tr>\n",
       "\t<tr><th scope=row>6</th><td>6</td><td>0.05252750</td></tr>\n",
       "</tbody>\n",
       "</table>\n"
      ],
      "text/latex": [
       "A data.frame: 6 × 2\n",
       "\\begin{tabular}{r|ll}\n",
       "  & k & error\\\\\n",
       "  & <int> & <dbl>\\\\\n",
       "\\hline\n",
       "\t1 & 1 & 0.05289828\\\\\n",
       "\t2 & 2 & 0.05376344\\\\\n",
       "\t3 & 3 & 0.05308367\\\\\n",
       "\t4 & 4 & 0.05326906\\\\\n",
       "\t5 & 5 & 0.05234211\\\\\n",
       "\t6 & 6 & 0.05252750\\\\\n",
       "\\end{tabular}\n"
      ],
      "text/markdown": [
       "\n",
       "A data.frame: 6 × 2\n",
       "\n",
       "| <!--/--> | k &lt;int&gt; | error &lt;dbl&gt; |\n",
       "|---|---|---|\n",
       "| 1 | 1 | 0.05289828 |\n",
       "| 2 | 2 | 0.05376344 |\n",
       "| 3 | 3 | 0.05308367 |\n",
       "| 4 | 4 | 0.05326906 |\n",
       "| 5 | 5 | 0.05234211 |\n",
       "| 6 | 6 | 0.05252750 |\n",
       "\n"
      ],
      "text/plain": [
       "  k error     \n",
       "1 1 0.05289828\n",
       "2 2 0.05376344\n",
       "3 3 0.05308367\n",
       "4 4 0.05326906\n",
       "5 5 0.05234211\n",
       "6 6 0.05252750"
      ]
     },
     "metadata": {},
     "output_type": "display_data"
    },
    {
     "data": {
      "text/html": [
       "<table class=\"dataframe\">\n",
       "<caption>A data.frame: 1 × 2</caption>\n",
       "<thead>\n",
       "\t<tr><th></th><th scope=col>k</th><th scope=col>error</th></tr>\n",
       "\t<tr><th></th><th scope=col>&lt;int&gt;</th><th scope=col>&lt;dbl&gt;</th></tr>\n",
       "</thead>\n",
       "<tbody>\n",
       "\t<tr><th scope=row>16</th><td>16</td><td>0.05116796</td></tr>\n",
       "</tbody>\n",
       "</table>\n"
      ],
      "text/latex": [
       "A data.frame: 1 × 2\n",
       "\\begin{tabular}{r|ll}\n",
       "  & k & error\\\\\n",
       "  & <int> & <dbl>\\\\\n",
       "\\hline\n",
       "\t16 & 16 & 0.05116796\\\\\n",
       "\\end{tabular}\n"
      ],
      "text/markdown": [
       "\n",
       "A data.frame: 1 × 2\n",
       "\n",
       "| <!--/--> | k &lt;int&gt; | error &lt;dbl&gt; |\n",
       "|---|---|---|\n",
       "| 16 | 16 | 0.05116796 |\n",
       "\n"
      ],
      "text/plain": [
       "   k  error     \n",
       "16 16 0.05116796"
      ]
     },
     "metadata": {},
     "output_type": "display_data"
    }
   ],
   "source": [
    "for (k in seq(1:30)) {\n",
    "    knn_temp <- knn(train.x, test.x, train.y, k = k)\n",
    "    \n",
    "    #overall error\n",
    "    conf_df <- table(knn_temp, test.y)\n",
    "    output$error[k]  <- 1 - mean(knn_temp == test.y)   \n",
    "}\n",
    "\n",
    "head(output)"
   ]
  },
  {
   "cell_type": "markdown",
   "metadata": {
    "id": "Ofk0jafy_cZN"
   },
   "source": [
    "Create a line plot of your `output` object using `ggplot`. Add a (non-linear) `geom_smooth` layer. "
   ]
  },
  {
   "cell_type": "code",
   "execution_count": 95,
   "metadata": {
    "id": "9Oia_P98_cZN",
    "scrolled": false
   },
   "outputs": [
    {
     "name": "stderr",
     "output_type": "stream",
     "text": [
      "\u001b[1m\u001b[22m`geom_smooth()` using method = 'loess' and formula = 'y ~ x'\n"
     ]
    },
    {
     "data": {
      "image/png": "[encoded data removed]",
      "text/plain": [
       "plot without title"
      ]
     },
     "metadata": {
      "image/png": {
       "height": 420,
       "width": 420
      }
     },
     "output_type": "display_data"
    }
   ],
   "source": [
    "ggplot(output,aes(x=k, y=error)) +\n",
    "    geom_line() +\n",
    "    geom_smooth()"
   ]
  },
  {
   "cell_type": "markdown",
   "metadata": {
    "id": "EG2gQhU0_cZO"
   },
   "source": [
    "Interpret your plot. What would you select as the best value of `k`? How much does this improve your test error?\n",
    "> I would be comfortable choosing k=16. That would take our error rate from ~0.0536 at k = 1 to ~0.0512.\n"
   ]
  },
  {
   "cell_type": "markdown",
   "metadata": {
    "id": "R5GYp8mt_cZO"
   },
   "source": [
    "# 4: Standardizing predictors (2)\n",
    "-----\n",
    "\n",
    "Because knn is based on distances between points, it is very sensitive to the scale of your variables. Looking at our predictor variables, we can see that `carat` and `depth` are orders of magnitude different in terms of scales. Maybe we can improve our fit even more by addressing this!\n",
    "\n",
    "Below, use the `scale()` function to standardize your predictors. (Note that you don't need to standardize `price_bin`.)\n",
    "\n",
    "Then, run your model a final time with your standardized predictors (just `carat` and `depth` still). Set `k` to the optimal value you determined in your plot above. Output the confusion matrix and error rate again."
   ]
  },
  {
   "cell_type": "code",
   "execution_count": 97,
   "metadata": {
    "id": "DVAfP_iB_cZO"
   },
   "outputs": [
    {
     "data": {
      "text/plain": [
       "     test.y\n",
       "knn_s    0    1\n",
       "    0 9722  288\n",
       "    1  524 5648"
      ]
     },
     "metadata": {},
     "output_type": "display_data"
    },
    {
     "name": "stdout",
     "output_type": "stream",
     "text": [
      "[1] 0.9498208\n",
      "[1] 0.05017921\n",
      "    k      error\n",
      "16 16 0.05116796\n"
     ]
    }
   ],
   "source": [
    "set.seed(2023)\n",
    "#INSERT CODE HERE\n",
    "s = d %>% select(-price_bin) %>% scale() %>% data.frame()\n",
    "\n",
    "train.x_s = cbind(s$carat[-test.i], s$depth[-test.i])\n",
    "test.x_s = cbind(s$carat[test.i], s$depth[test.i])\n",
    "\n",
    "knn_s = knn(train.x_s, test.x_s, train.y, k = 16)\n",
    "\n",
    "table(knn_s, test.y)\n",
    "print(mean(knn_s == test.y))\n",
    "print(1 - mean(knn_s == test.y))\n",
    "print(output[16,])"
   ]
  },
  {
   "cell_type": "markdown",
   "metadata": {
    "id": "yl3pqjEA_cZO"
   },
   "source": [
    "What impact did rescaling the data have on your error rate?\n",
    "> Rescaling the data cut our error from 0.0512 for the un-scaled kNN to 0.0502 for the scaled kNN.\n"
   ]
  },
  {
   "cell_type": "markdown",
   "metadata": {
    "id": "XSFcQXke_cZO"
   },
   "source": [
    "**DUE:** 5pm March 22, 2023\n",
    "\n",
    "**IMPORTANT** Did you collaborate with anyone on this assignment? If so, list their names here.\n",
    "> *Someone's Name*\n",
    ">\n",
    ">\n"
   ]
  }
 ],
 "metadata": {
  "colab": {
   "provenance": []
  },
  "kernelspec": {
   "display_name": "R",
   "language": "R",
   "name": "ir"
  },
  "language_info": {
   "codemirror_mode": "r",
   "file_extension": ".r",
   "mimetype": "text/x-r-source",
   "name": "R",
   "pygments_lexer": "r",
   "version": "4.2.1"
  }
 },
 "nbformat": 4,
 "nbformat_minor": 1
}
