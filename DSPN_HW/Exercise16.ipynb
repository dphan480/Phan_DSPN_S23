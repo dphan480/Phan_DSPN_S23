{
 "cells": [
  {
   "cell_type": "markdown",
   "id": "ffed788b",
   "metadata": {
    "id": "614c6a4a"
   },
   "source": [
    "# Exercise 16: Model selection"
   ]
  },
  {
   "cell_type": "markdown",
   "id": "72edcd9e",
   "metadata": {
    "id": "7e861f62"
   },
   "source": [
    "This homework is designed to give you practice implementing model selection techniques, including best subset selection and forward/backward stepwise selection.\n",
    "\n",
    "You won't need to load in any data for this homework, we will be simulating our own."
   ]
  },
  {
   "cell_type": "markdown",
   "id": "b2f6b74e",
   "metadata": {
    "id": "b065256e"
   },
   "source": [
    "---\n",
    "## 1. Best subset selection (4 points)"
   ]
  },
  {
   "cell_type": "markdown",
   "id": "334e22c5",
   "metadata": {
    "id": "bfe412c5"
   },
   "source": [
    "In this question, we will first generate simulated data, and then use it to perform best subset selection.\n",
    "\n",
    "a) Use `rnorm()` to generate a dataset including a predictor $X$ of length $n = 100$ and a noise vector $\\epsilon$ of length $n = 100$. Generate data for a response variable $Y$ of length $n = 100$ according to the model\n",
    "\n",
    "$Y = \\beta_0 + \\beta_1X + \\beta_2X^2 + \\beta_3X^3 + \\epsilon$\n",
    "\n",
    "where $\\beta_0$, $\\beta_1$, $\\beta_2$, and $\\beta_3$ are constants of your choice.\n"
   ]
  },
  {
   "cell_type": "code",
   "execution_count": 1,
   "id": "d3cdcf72",
   "metadata": {
    "id": "82a01047"
   },
   "outputs": [
    {
     "data": {
      "text/html": [
       "<table class=\"dataframe\">\n",
       "<caption>A data.frame: 6 × 3</caption>\n",
       "<thead>\n",
       "\t<tr><th></th><th scope=col>X</th><th scope=col>e</th><th scope=col>Y</th></tr>\n",
       "\t<tr><th></th><th scope=col>&lt;dbl&gt;</th><th scope=col>&lt;dbl&gt;</th><th scope=col>&lt;dbl&gt;</th></tr>\n",
       "</thead>\n",
       "<tbody>\n",
       "\t<tr><th scope=row>1</th><td>-0.6264538</td><td>-0.62036668</td><td> 2.039312</td></tr>\n",
       "\t<tr><th scope=row>2</th><td> 0.1836433</td><td> 0.04211587</td><td> 4.666689</td></tr>\n",
       "\t<tr><th scope=row>3</th><td>-0.8356286</td><td>-0.91092165</td><td> 1.395244</td></tr>\n",
       "\t<tr><th scope=row>4</th><td> 1.5952808</td><td> 0.15802877</td><td>18.093576</td></tr>\n",
       "\t<tr><th scope=row>5</th><td> 0.3295078</td><td>-0.65458464</td><td> 4.586866</td></tr>\n",
       "\t<tr><th scope=row>6</th><td>-0.8204684</td><td> 1.76728727</td><td> 4.099905</td></tr>\n",
       "</tbody>\n",
       "</table>\n"
      ],
      "text/latex": [
       "A data.frame: 6 × 3\n",
       "\\begin{tabular}{r|lll}\n",
       "  & X & e & Y\\\\\n",
       "  & <dbl> & <dbl> & <dbl>\\\\\n",
       "\\hline\n",
       "\t1 & -0.6264538 & -0.62036668 &  2.039312\\\\\n",
       "\t2 &  0.1836433 &  0.04211587 &  4.666689\\\\\n",
       "\t3 & -0.8356286 & -0.91092165 &  1.395244\\\\\n",
       "\t4 &  1.5952808 &  0.15802877 & 18.093576\\\\\n",
       "\t5 &  0.3295078 & -0.65458464 &  4.586866\\\\\n",
       "\t6 & -0.8204684 &  1.76728727 &  4.099905\\\\\n",
       "\\end{tabular}\n"
      ],
      "text/markdown": [
       "\n",
       "A data.frame: 6 × 3\n",
       "\n",
       "| <!--/--> | X &lt;dbl&gt; | e &lt;dbl&gt; | Y &lt;dbl&gt; |\n",
       "|---|---|---|---|\n",
       "| 1 | -0.6264538 | -0.62036668 |  2.039312 |\n",
       "| 2 |  0.1836433 |  0.04211587 |  4.666689 |\n",
       "| 3 | -0.8356286 | -0.91092165 |  1.395244 |\n",
       "| 4 |  1.5952808 |  0.15802877 | 18.093576 |\n",
       "| 5 |  0.3295078 | -0.65458464 |  4.586866 |\n",
       "| 6 | -0.8204684 |  1.76728727 |  4.099905 |\n",
       "\n"
      ],
      "text/plain": [
       "  X          e           Y        \n",
       "1 -0.6264538 -0.62036668  2.039312\n",
       "2  0.1836433  0.04211587  4.666689\n",
       "3 -0.8356286 -0.91092165  1.395244\n",
       "4  1.5952808  0.15802877 18.093576\n",
       "5  0.3295078 -0.65458464  4.586866\n",
       "6 -0.8204684  1.76728727  4.099905"
      ]
     },
     "metadata": {},
     "output_type": "display_data"
    }
   ],
   "source": [
    "# WRITE YOUR CODE HERE\n",
    "set.seed(1)\n",
    "X = c(rnorm(100))\n",
    "e = c(rnorm(100))\n",
    "Y = 4 + 3*X + 2*X^2 + X^3 + e\n",
    "data = data.frame(X,e,Y)\n",
    "head(data)"
   ]
  },
  {
   "cell_type": "markdown",
   "id": "f49e55c8",
   "metadata": {
    "id": "19065c60"
   },
   "source": [
    "b) Use `regsubsets()` to perform best subset selection to determine the best model that contains the predictor variables $X$, $X^2$, . . . , $X^{10}$. Print the model summary."
   ]
  },
  {
   "cell_type": "code",
   "execution_count": 2,
   "id": "4e7f9aa9",
   "metadata": {
    "id": "2d0ea51f"
   },
   "outputs": [
    {
     "name": "stderr",
     "output_type": "stream",
     "text": [
      "Warning message:\n",
      "\"package 'leaps' was built under R version 4.2.3\"\n"
     ]
    },
    {
     "data": {
      "text/plain": [
       "Subset selection object\n",
       "Call: regsubsets.formula(Y ~ poly(X, 10, raw = TRUE), data)\n",
       "10 Variables  (and intercept)\n",
       "                          Forced in Forced out\n",
       "poly(X, 10, raw = TRUE)1      FALSE      FALSE\n",
       "poly(X, 10, raw = TRUE)2      FALSE      FALSE\n",
       "poly(X, 10, raw = TRUE)3      FALSE      FALSE\n",
       "poly(X, 10, raw = TRUE)4      FALSE      FALSE\n",
       "poly(X, 10, raw = TRUE)5      FALSE      FALSE\n",
       "poly(X, 10, raw = TRUE)6      FALSE      FALSE\n",
       "poly(X, 10, raw = TRUE)7      FALSE      FALSE\n",
       "poly(X, 10, raw = TRUE)8      FALSE      FALSE\n",
       "poly(X, 10, raw = TRUE)9      FALSE      FALSE\n",
       "poly(X, 10, raw = TRUE)10     FALSE      FALSE\n",
       "1 subsets of each size up to 8\n",
       "Selection Algorithm: exhaustive\n",
       "         poly(X, 10, raw = TRUE)1 poly(X, 10, raw = TRUE)2\n",
       "1  ( 1 ) \" \"                      \" \"                     \n",
       "2  ( 1 ) \"*\"                      \" \"                     \n",
       "3  ( 1 ) \"*\"                      \"*\"                     \n",
       "4  ( 1 ) \"*\"                      \"*\"                     \n",
       "5  ( 1 ) \"*\"                      \"*\"                     \n",
       "6  ( 1 ) \"*\"                      \"*\"                     \n",
       "7  ( 1 ) \"*\"                      \"*\"                     \n",
       "8  ( 1 ) \"*\"                      \"*\"                     \n",
       "         poly(X, 10, raw = TRUE)3 poly(X, 10, raw = TRUE)4\n",
       "1  ( 1 ) \"*\"                      \" \"                     \n",
       "2  ( 1 ) \" \"                      \"*\"                     \n",
       "3  ( 1 ) \"*\"                      \" \"                     \n",
       "4  ( 1 ) \"*\"                      \" \"                     \n",
       "5  ( 1 ) \"*\"                      \" \"                     \n",
       "6  ( 1 ) \"*\"                      \" \"                     \n",
       "7  ( 1 ) \"*\"                      \" \"                     \n",
       "8  ( 1 ) \"*\"                      \"*\"                     \n",
       "         poly(X, 10, raw = TRUE)5 poly(X, 10, raw = TRUE)6\n",
       "1  ( 1 ) \" \"                      \" \"                     \n",
       "2  ( 1 ) \" \"                      \" \"                     \n",
       "3  ( 1 ) \" \"                      \" \"                     \n",
       "4  ( 1 ) \"*\"                      \" \"                     \n",
       "5  ( 1 ) \"*\"                      \"*\"                     \n",
       "6  ( 1 ) \" \"                      \" \"                     \n",
       "7  ( 1 ) \"*\"                      \"*\"                     \n",
       "8  ( 1 ) \" \"                      \"*\"                     \n",
       "         poly(X, 10, raw = TRUE)7 poly(X, 10, raw = TRUE)8\n",
       "1  ( 1 ) \" \"                      \" \"                     \n",
       "2  ( 1 ) \" \"                      \" \"                     \n",
       "3  ( 1 ) \" \"                      \" \"                     \n",
       "4  ( 1 ) \" \"                      \" \"                     \n",
       "5  ( 1 ) \" \"                      \" \"                     \n",
       "6  ( 1 ) \"*\"                      \"*\"                     \n",
       "7  ( 1 ) \" \"                      \"*\"                     \n",
       "8  ( 1 ) \" \"                      \"*\"                     \n",
       "         poly(X, 10, raw = TRUE)9 poly(X, 10, raw = TRUE)10\n",
       "1  ( 1 ) \" \"                      \" \"                      \n",
       "2  ( 1 ) \" \"                      \" \"                      \n",
       "3  ( 1 ) \" \"                      \" \"                      \n",
       "4  ( 1 ) \" \"                      \" \"                      \n",
       "5  ( 1 ) \" \"                      \" \"                      \n",
       "6  ( 1 ) \"*\"                      \" \"                      \n",
       "7  ( 1 ) \" \"                      \"*\"                      \n",
       "8  ( 1 ) \"*\"                      \"*\"                      "
      ]
     },
     "metadata": {},
     "output_type": "display_data"
    }
   ],
   "source": [
    "# WRITE YOUR CODE HERE\n",
    "library(leaps)\n",
    "reg = regsubsets(Y~poly(X,10,raw=TRUE),data)\n",
    "summary = summary(reg)\n",
    "summary"
   ]
  },
  {
   "cell_type": "markdown",
   "id": "5c48009a",
   "metadata": {
    "id": "3528231b"
   },
   "source": [
    "c) Plot the Mallows' Cp, Bayesian Information Criteria (BIC) and the adjusted coefficient of determination, $R^2$, for each model tested. Which is the best model? Report the coefficients of the best model. "
   ]
  },
  {
   "cell_type": "code",
   "execution_count": 3,
   "id": "870cfbe1",
   "metadata": {
    "id": "6a817913"
   },
   "outputs": [
    {
     "data": {
      "image/png": "[encoded data removed]",
      "text/plain": [
       "plot without title"
      ]
     },
     "metadata": {
      "image/png": {
       "height": 420,
       "width": 420
      }
     },
     "output_type": "display_data"
    },
    {
     "data": {
      "image/png": "[encoded data removed]",
      "text/plain": [
       "plot without title"
      ]
     },
     "metadata": {
      "image/png": {
       "height": 420,
       "width": 420
      }
     },
     "output_type": "display_data"
    },
    {
     "data": {
      "text/html": [
       "4"
      ],
      "text/latex": [
       "4"
      ],
      "text/markdown": [
       "4"
      ],
      "text/plain": [
       "[1] 4"
      ]
     },
     "metadata": {},
     "output_type": "display_data"
    },
    {
     "data": {
      "text/html": [
       "3"
      ],
      "text/latex": [
       "3"
      ],
      "text/markdown": [
       "3"
      ],
      "text/plain": [
       "[1] 3"
      ]
     },
     "metadata": {},
     "output_type": "display_data"
    },
    {
     "data": {
      "text/html": [
       "4"
      ],
      "text/latex": [
       "4"
      ],
      "text/markdown": [
       "4"
      ],
      "text/plain": [
       "[1] 4"
      ]
     },
     "metadata": {},
     "output_type": "display_data"
    },
    {
     "data": {
      "text/html": [
       "<style>\n",
       ".dl-inline {width: auto; margin:0; padding: 0}\n",
       ".dl-inline>dt, .dl-inline>dd {float: none; width: auto; display: inline-block}\n",
       ".dl-inline>dt::after {content: \":\\0020\"; padding-right: .5ex}\n",
       ".dl-inline>dt:not(:first-of-type) {padding-left: .5ex}\n",
       "</style><dl class=dl-inline><dt>(Intercept)</dt><dd>4.07200774585589</dd><dt>poly(X, 10, raw = TRUE)1</dt><dd>3.38745595852059</dd><dt>poly(X, 10, raw = TRUE)2</dt><dd>1.84575641037524</dd><dt>poly(X, 10, raw = TRUE)3</dt><dd>0.557974261277223</dd><dt>poly(X, 10, raw = TRUE)5</dt><dd>0.0807229152064741</dd></dl>\n"
      ],
      "text/latex": [
       "\\begin{description*}\n",
       "\\item[(Intercept)] 4.07200774585589\n",
       "\\item[poly(X, 10, raw = TRUE)1] 3.38745595852059\n",
       "\\item[poly(X, 10, raw = TRUE)2] 1.84575641037524\n",
       "\\item[poly(X, 10, raw = TRUE)3] 0.557974261277223\n",
       "\\item[poly(X, 10, raw = TRUE)5] 0.0807229152064741\n",
       "\\end{description*}\n"
      ],
      "text/markdown": [
       "(Intercept)\n",
       ":   4.07200774585589poly(X, 10, raw = TRUE)1\n",
       ":   3.38745595852059poly(X, 10, raw = TRUE)2\n",
       ":   1.84575641037524poly(X, 10, raw = TRUE)3\n",
       ":   0.557974261277223poly(X, 10, raw = TRUE)5\n",
       ":   0.0807229152064741\n",
       "\n"
      ],
      "text/plain": [
       "             (Intercept) poly(X, 10, raw = TRUE)1 poly(X, 10, raw = TRUE)2 \n",
       "              4.07200775               3.38745596               1.84575641 \n",
       "poly(X, 10, raw = TRUE)3 poly(X, 10, raw = TRUE)5 \n",
       "              0.55797426               0.08072292 "
      ]
     },
     "metadata": {},
     "output_type": "display_data"
    },
    {
     "data": {
      "image/png": "[encoded data removed]",
      "text/plain": [
       "plot without title"
      ]
     },
     "metadata": {
      "image/png": {
       "height": 420,
       "width": 420
      }
     },
     "output_type": "display_data"
    }
   ],
   "source": [
    "# WRITE YOUR CODE HERE\n",
    "cp = c(summary$cp)\n",
    "bic = c(summary$bic)\n",
    "adjr2 = c(summary$adjr2)\n",
    "\n",
    "plot(cp)\n",
    "plot(bic)\n",
    "plot(adjr2)\n",
    "\n",
    "which.min(summary$cp)\n",
    "which.min(summary$bic)\n",
    "which.max(summary$adjr2)\n",
    "\n",
    "coef(reg,4)"
   ]
  },
  {
   "cell_type": "markdown",
   "id": "257317d7",
   "metadata": {
    "id": "e7f16d76"
   },
   "source": [
    "> The model is Y = 4.07 + 3.39X + 1.85X^2 + 0.56X^3 + 0.08X^4"
   ]
  },
  {
   "cell_type": "markdown",
   "id": "ffaeeb70",
   "metadata": {
    "id": "19d388b0"
   },
   "source": [
    "---\n",
    "## 2. Forward and backwards stepwise selection (3 points)"
   ]
  },
  {
   "cell_type": "markdown",
   "id": "22427388",
   "metadata": {
    "id": "620dc14c"
   },
   "source": [
    "Using the same simulated data from question 1, use forward stepwise selection, and backwards stepwise selections to determine the best model. Again, for both model selection methods, plot the Mallows' Cp, Bayesian Information Criteria (BIC) and the adjusted coefficient of determination, $R^2$, for each model tested. Report the coefficients of the best model. "
   ]
  },
  {
   "cell_type": "markdown",
   "id": "1e1907a1",
   "metadata": {
    "id": "d734954e"
   },
   "source": [
    "a) Forward stepwise selection:"
   ]
  },
  {
   "cell_type": "code",
   "execution_count": 4,
   "id": "fb8541c2",
   "metadata": {
    "id": "8018ba62"
   },
   "outputs": [
    {
     "data": {
      "text/plain": [
       "Subset selection object\n",
       "Call: regsubsets.formula(Y ~ poly(X, 10, raw = TRUE), data, method = \"forward\")\n",
       "10 Variables  (and intercept)\n",
       "                          Forced in Forced out\n",
       "poly(X, 10, raw = TRUE)1      FALSE      FALSE\n",
       "poly(X, 10, raw = TRUE)2      FALSE      FALSE\n",
       "poly(X, 10, raw = TRUE)3      FALSE      FALSE\n",
       "poly(X, 10, raw = TRUE)4      FALSE      FALSE\n",
       "poly(X, 10, raw = TRUE)5      FALSE      FALSE\n",
       "poly(X, 10, raw = TRUE)6      FALSE      FALSE\n",
       "poly(X, 10, raw = TRUE)7      FALSE      FALSE\n",
       "poly(X, 10, raw = TRUE)8      FALSE      FALSE\n",
       "poly(X, 10, raw = TRUE)9      FALSE      FALSE\n",
       "poly(X, 10, raw = TRUE)10     FALSE      FALSE\n",
       "1 subsets of each size up to 8\n",
       "Selection Algorithm: forward\n",
       "         poly(X, 10, raw = TRUE)1 poly(X, 10, raw = TRUE)2\n",
       "1  ( 1 ) \" \"                      \" \"                     \n",
       "2  ( 1 ) \" \"                      \"*\"                     \n",
       "3  ( 1 ) \"*\"                      \"*\"                     \n",
       "4  ( 1 ) \"*\"                      \"*\"                     \n",
       "5  ( 1 ) \"*\"                      \"*\"                     \n",
       "6  ( 1 ) \"*\"                      \"*\"                     \n",
       "7  ( 1 ) \"*\"                      \"*\"                     \n",
       "8  ( 1 ) \"*\"                      \"*\"                     \n",
       "         poly(X, 10, raw = TRUE)3 poly(X, 10, raw = TRUE)4\n",
       "1  ( 1 ) \"*\"                      \" \"                     \n",
       "2  ( 1 ) \"*\"                      \" \"                     \n",
       "3  ( 1 ) \"*\"                      \" \"                     \n",
       "4  ( 1 ) \"*\"                      \" \"                     \n",
       "5  ( 1 ) \"*\"                      \" \"                     \n",
       "6  ( 1 ) \"*\"                      \" \"                     \n",
       "7  ( 1 ) \"*\"                      \" \"                     \n",
       "8  ( 1 ) \"*\"                      \" \"                     \n",
       "         poly(X, 10, raw = TRUE)5 poly(X, 10, raw = TRUE)6\n",
       "1  ( 1 ) \" \"                      \" \"                     \n",
       "2  ( 1 ) \" \"                      \" \"                     \n",
       "3  ( 1 ) \" \"                      \" \"                     \n",
       "4  ( 1 ) \"*\"                      \" \"                     \n",
       "5  ( 1 ) \"*\"                      \"*\"                     \n",
       "6  ( 1 ) \"*\"                      \"*\"                     \n",
       "7  ( 1 ) \"*\"                      \"*\"                     \n",
       "8  ( 1 ) \"*\"                      \"*\"                     \n",
       "         poly(X, 10, raw = TRUE)7 poly(X, 10, raw = TRUE)8\n",
       "1  ( 1 ) \" \"                      \" \"                     \n",
       "2  ( 1 ) \" \"                      \" \"                     \n",
       "3  ( 1 ) \" \"                      \" \"                     \n",
       "4  ( 1 ) \" \"                      \" \"                     \n",
       "5  ( 1 ) \" \"                      \" \"                     \n",
       "6  ( 1 ) \" \"                      \" \"                     \n",
       "7  ( 1 ) \"*\"                      \" \"                     \n",
       "8  ( 1 ) \"*\"                      \"*\"                     \n",
       "         poly(X, 10, raw = TRUE)9 poly(X, 10, raw = TRUE)10\n",
       "1  ( 1 ) \" \"                      \" \"                      \n",
       "2  ( 1 ) \" \"                      \" \"                      \n",
       "3  ( 1 ) \" \"                      \" \"                      \n",
       "4  ( 1 ) \" \"                      \" \"                      \n",
       "5  ( 1 ) \" \"                      \" \"                      \n",
       "6  ( 1 ) \"*\"                      \" \"                      \n",
       "7  ( 1 ) \"*\"                      \" \"                      \n",
       "8  ( 1 ) \"*\"                      \" \"                      "
      ]
     },
     "metadata": {},
     "output_type": "display_data"
    },
    {
     "data": {
      "image/png": "[encoded data removed]",
      "text/plain": [
       "plot without title"
      ]
     },
     "metadata": {
      "image/png": {
       "height": 420,
       "width": 420
      }
     },
     "output_type": "display_data"
    },
    {
     "data": {
      "image/png": "[encoded data removed]",
      "text/plain": [
       "plot without title"
      ]
     },
     "metadata": {
      "image/png": {
       "height": 420,
       "width": 420
      }
     },
     "output_type": "display_data"
    },
    {
     "data": {
      "text/html": [
       "4"
      ],
      "text/latex": [
       "4"
      ],
      "text/markdown": [
       "4"
      ],
      "text/plain": [
       "[1] 4"
      ]
     },
     "metadata": {},
     "output_type": "display_data"
    },
    {
     "data": {
      "text/html": [
       "3"
      ],
      "text/latex": [
       "3"
      ],
      "text/markdown": [
       "3"
      ],
      "text/plain": [
       "[1] 3"
      ]
     },
     "metadata": {},
     "output_type": "display_data"
    },
    {
     "data": {
      "text/html": [
       "4"
      ],
      "text/latex": [
       "4"
      ],
      "text/markdown": [
       "4"
      ],
      "text/plain": [
       "[1] 4"
      ]
     },
     "metadata": {},
     "output_type": "display_data"
    },
    {
     "data": {
      "text/html": [
       "<style>\n",
       ".dl-inline {width: auto; margin:0; padding: 0}\n",
       ".dl-inline>dt, .dl-inline>dd {float: none; width: auto; display: inline-block}\n",
       ".dl-inline>dt::after {content: \":\\0020\"; padding-right: .5ex}\n",
       ".dl-inline>dt:not(:first-of-type) {padding-left: .5ex}\n",
       "</style><dl class=dl-inline><dt>(Intercept)</dt><dd>4.07200774585589</dd><dt>poly(X, 10, raw = TRUE)1</dt><dd>3.38745595852059</dd><dt>poly(X, 10, raw = TRUE)2</dt><dd>1.84575641037524</dd><dt>poly(X, 10, raw = TRUE)3</dt><dd>0.557974261277221</dd><dt>poly(X, 10, raw = TRUE)5</dt><dd>0.0807229152064746</dd></dl>\n"
      ],
      "text/latex": [
       "\\begin{description*}\n",
       "\\item[(Intercept)] 4.07200774585589\n",
       "\\item[poly(X, 10, raw = TRUE)1] 3.38745595852059\n",
       "\\item[poly(X, 10, raw = TRUE)2] 1.84575641037524\n",
       "\\item[poly(X, 10, raw = TRUE)3] 0.557974261277221\n",
       "\\item[poly(X, 10, raw = TRUE)5] 0.0807229152064746\n",
       "\\end{description*}\n"
      ],
      "text/markdown": [
       "(Intercept)\n",
       ":   4.07200774585589poly(X, 10, raw = TRUE)1\n",
       ":   3.38745595852059poly(X, 10, raw = TRUE)2\n",
       ":   1.84575641037524poly(X, 10, raw = TRUE)3\n",
       ":   0.557974261277221poly(X, 10, raw = TRUE)5\n",
       ":   0.0807229152064746\n",
       "\n"
      ],
      "text/plain": [
       "             (Intercept) poly(X, 10, raw = TRUE)1 poly(X, 10, raw = TRUE)2 \n",
       "              4.07200775               3.38745596               1.84575641 \n",
       "poly(X, 10, raw = TRUE)3 poly(X, 10, raw = TRUE)5 \n",
       "              0.55797426               0.08072292 "
      ]
     },
     "metadata": {},
     "output_type": "display_data"
    },
    {
     "data": {
      "image/png": "[encoded data removed]",
      "text/plain": [
       "plot without title"
      ]
     },
     "metadata": {
      "image/png": {
       "height": 420,
       "width": 420
      }
     },
     "output_type": "display_data"
    }
   ],
   "source": [
    "# WRITE YOUR CODE HERE\n",
    "reg_f = regsubsets(Y~poly(X,10,raw=TRUE),data,method=\"forward\")\n",
    "summary_f = summary(reg_f)\n",
    "summary_f\n",
    "\n",
    "cp_f = c(summary_f$cp)\n",
    "bic_f = c(summary_f$bic)\n",
    "adjr2_f = c(summary_f$adjr2)\n",
    "\n",
    "plot(cp_f)\n",
    "plot(bic_f)\n",
    "plot(adjr2_f)\n",
    "\n",
    "which.min(summary_f$cp)\n",
    "which.min(summary_f$bic)\n",
    "which.max(summary_f$adjr2)\n",
    "\n",
    "coef(reg_f,4)"
   ]
  },
  {
   "cell_type": "markdown",
   "id": "39945b18",
   "metadata": {
    "id": "955e381d"
   },
   "source": [
    "b) Backwards stepwise selection:"
   ]
  },
  {
   "cell_type": "code",
   "execution_count": 5,
   "id": "0cd0229f",
   "metadata": {
    "id": "c9a50756"
   },
   "outputs": [
    {
     "data": {
      "text/plain": [
       "Subset selection object\n",
       "Call: regsubsets.formula(Y ~ poly(X, 10, raw = TRUE), data, method = \"backward\")\n",
       "10 Variables  (and intercept)\n",
       "                          Forced in Forced out\n",
       "poly(X, 10, raw = TRUE)1      FALSE      FALSE\n",
       "poly(X, 10, raw = TRUE)2      FALSE      FALSE\n",
       "poly(X, 10, raw = TRUE)3      FALSE      FALSE\n",
       "poly(X, 10, raw = TRUE)4      FALSE      FALSE\n",
       "poly(X, 10, raw = TRUE)5      FALSE      FALSE\n",
       "poly(X, 10, raw = TRUE)6      FALSE      FALSE\n",
       "poly(X, 10, raw = TRUE)7      FALSE      FALSE\n",
       "poly(X, 10, raw = TRUE)8      FALSE      FALSE\n",
       "poly(X, 10, raw = TRUE)9      FALSE      FALSE\n",
       "poly(X, 10, raw = TRUE)10     FALSE      FALSE\n",
       "1 subsets of each size up to 8\n",
       "Selection Algorithm: backward\n",
       "         poly(X, 10, raw = TRUE)1 poly(X, 10, raw = TRUE)2\n",
       "1  ( 1 ) \"*\"                      \" \"                     \n",
       "2  ( 1 ) \"*\"                      \" \"                     \n",
       "3  ( 1 ) \"*\"                      \" \"                     \n",
       "4  ( 1 ) \"*\"                      \" \"                     \n",
       "5  ( 1 ) \"*\"                      \" \"                     \n",
       "6  ( 1 ) \"*\"                      \" \"                     \n",
       "7  ( 1 ) \"*\"                      \" \"                     \n",
       "8  ( 1 ) \"*\"                      \" \"                     \n",
       "         poly(X, 10, raw = TRUE)3 poly(X, 10, raw = TRUE)4\n",
       "1  ( 1 ) \" \"                      \" \"                     \n",
       "2  ( 1 ) \" \"                      \"*\"                     \n",
       "3  ( 1 ) \" \"                      \"*\"                     \n",
       "4  ( 1 ) \" \"                      \"*\"                     \n",
       "5  ( 1 ) \" \"                      \"*\"                     \n",
       "6  ( 1 ) \" \"                      \"*\"                     \n",
       "7  ( 1 ) \" \"                      \"*\"                     \n",
       "8  ( 1 ) \" \"                      \"*\"                     \n",
       "         poly(X, 10, raw = TRUE)5 poly(X, 10, raw = TRUE)6\n",
       "1  ( 1 ) \" \"                      \" \"                     \n",
       "2  ( 1 ) \" \"                      \" \"                     \n",
       "3  ( 1 ) \"*\"                      \" \"                     \n",
       "4  ( 1 ) \"*\"                      \"*\"                     \n",
       "5  ( 1 ) \"*\"                      \"*\"                     \n",
       "6  ( 1 ) \"*\"                      \"*\"                     \n",
       "7  ( 1 ) \"*\"                      \"*\"                     \n",
       "8  ( 1 ) \"*\"                      \"*\"                     \n",
       "         poly(X, 10, raw = TRUE)7 poly(X, 10, raw = TRUE)8\n",
       "1  ( 1 ) \" \"                      \" \"                     \n",
       "2  ( 1 ) \" \"                      \" \"                     \n",
       "3  ( 1 ) \" \"                      \" \"                     \n",
       "4  ( 1 ) \" \"                      \" \"                     \n",
       "5  ( 1 ) \" \"                      \"*\"                     \n",
       "6  ( 1 ) \" \"                      \"*\"                     \n",
       "7  ( 1 ) \"*\"                      \"*\"                     \n",
       "8  ( 1 ) \"*\"                      \"*\"                     \n",
       "         poly(X, 10, raw = TRUE)9 poly(X, 10, raw = TRUE)10\n",
       "1  ( 1 ) \" \"                      \" \"                      \n",
       "2  ( 1 ) \" \"                      \" \"                      \n",
       "3  ( 1 ) \" \"                      \" \"                      \n",
       "4  ( 1 ) \" \"                      \" \"                      \n",
       "5  ( 1 ) \" \"                      \" \"                      \n",
       "6  ( 1 ) \" \"                      \"*\"                      \n",
       "7  ( 1 ) \" \"                      \"*\"                      \n",
       "8  ( 1 ) \"*\"                      \"*\"                      "
      ]
     },
     "metadata": {},
     "output_type": "display_data"
    },
    {
     "data": {
      "image/png": "[encoded data removed]",
      "text/plain": [
       "plot without title"
      ]
     },
     "metadata": {
      "image/png": {
       "height": 420,
       "width": 420
      }
     },
     "output_type": "display_data"
    },
    {
     "data": {
      "image/png": "[encoded data removed]",
      "text/plain": [
       "plot without title"
      ]
     },
     "metadata": {
      "image/png": {
       "height": 420,
       "width": 420
      }
     },
     "output_type": "display_data"
    },
    {
     "data": {
      "text/html": [
       "6"
      ],
      "text/latex": [
       "6"
      ],
      "text/markdown": [
       "6"
      ],
      "text/plain": [
       "[1] 6"
      ]
     },
     "metadata": {},
     "output_type": "display_data"
    },
    {
     "data": {
      "text/html": [
       "6"
      ],
      "text/latex": [
       "6"
      ],
      "text/markdown": [
       "6"
      ],
      "text/plain": [
       "[1] 6"
      ]
     },
     "metadata": {},
     "output_type": "display_data"
    },
    {
     "data": {
      "text/html": [
       "8"
      ],
      "text/latex": [
       "8"
      ],
      "text/markdown": [
       "8"
      ],
      "text/plain": [
       "[1] 8"
      ]
     },
     "metadata": {},
     "output_type": "display_data"
    },
    {
     "data": {
      "text/html": [
       "<style>\n",
       ".dl-inline {width: auto; margin:0; padding: 0}\n",
       ".dl-inline>dt, .dl-inline>dd {float: none; width: auto; display: inline-block}\n",
       ".dl-inline>dt::after {content: \":\\0020\"; padding-right: .5ex}\n",
       ".dl-inline>dt:not(:first-of-type) {padding-left: .5ex}\n",
       "</style><dl class=dl-inline><dt>(Intercept)</dt><dd>4.26752199131926</dd><dt>poly(X, 10, raw = TRUE)1</dt><dd>3.89353770468543</dd><dt>poly(X, 10, raw = TRUE)4</dt><dd>3.06370327860307</dd><dt>poly(X, 10, raw = TRUE)5</dt><dd>0.183965059252554</dd><dt>poly(X, 10, raw = TRUE)6</dt><dd>-1.78860132729791</dd><dt>poly(X, 10, raw = TRUE)8</dt><dd>0.413264266297514</dd><dt>poly(X, 10, raw = TRUE)10</dt><dd>-0.0324920019790233</dd></dl>\n"
      ],
      "text/latex": [
       "\\begin{description*}\n",
       "\\item[(Intercept)] 4.26752199131926\n",
       "\\item[poly(X, 10, raw = TRUE)1] 3.89353770468543\n",
       "\\item[poly(X, 10, raw = TRUE)4] 3.06370327860307\n",
       "\\item[poly(X, 10, raw = TRUE)5] 0.183965059252554\n",
       "\\item[poly(X, 10, raw = TRUE)6] -1.78860132729791\n",
       "\\item[poly(X, 10, raw = TRUE)8] 0.413264266297514\n",
       "\\item[poly(X, 10, raw = TRUE)10] -0.0324920019790233\n",
       "\\end{description*}\n"
      ],
      "text/markdown": [
       "(Intercept)\n",
       ":   4.26752199131926poly(X, 10, raw = TRUE)1\n",
       ":   3.89353770468543poly(X, 10, raw = TRUE)4\n",
       ":   3.06370327860307poly(X, 10, raw = TRUE)5\n",
       ":   0.183965059252554poly(X, 10, raw = TRUE)6\n",
       ":   -1.78860132729791poly(X, 10, raw = TRUE)8\n",
       ":   0.413264266297514poly(X, 10, raw = TRUE)10\n",
       ":   -0.0324920019790233\n",
       "\n"
      ],
      "text/plain": [
       "              (Intercept)  poly(X, 10, raw = TRUE)1  poly(X, 10, raw = TRUE)4 \n",
       "                4.2675220                 3.8935377                 3.0637033 \n",
       " poly(X, 10, raw = TRUE)5  poly(X, 10, raw = TRUE)6  poly(X, 10, raw = TRUE)8 \n",
       "                0.1839651                -1.7886013                 0.4132643 \n",
       "poly(X, 10, raw = TRUE)10 \n",
       "               -0.0324920 "
      ]
     },
     "metadata": {},
     "output_type": "display_data"
    },
    {
     "data": {
      "image/png": "[encoded data removed]",
      "text/plain": [
       "plot without title"
      ]
     },
     "metadata": {
      "image/png": {
       "height": 420,
       "width": 420
      }
     },
     "output_type": "display_data"
    }
   ],
   "source": [
    "# WRITE YOUR CODE HERE\n",
    "reg_b = regsubsets(Y~poly(X,10,raw=TRUE),data,method=\"backward\")\n",
    "summary_b = summary(reg_b)\n",
    "summary_b\n",
    "\n",
    "cp_b = c(summary_b$cp)\n",
    "bic_b = c(summary_b$bic)\n",
    "adjr2_b = c(summary_b$adjr2)\n",
    "\n",
    "plot(cp_b)\n",
    "plot(bic_b)\n",
    "plot(adjr2_b)\n",
    "\n",
    "which.min(summary_b$cp)\n",
    "which.min(summary_b$bic)\n",
    "which.max(summary_b$adjr2)\n",
    "\n",
    "coef(reg_b,6)"
   ]
  },
  {
   "cell_type": "markdown",
   "id": "a644e921",
   "metadata": {
    "id": "25dbc027"
   },
   "source": [
    "c) Compare your results from parts a and b with those of question 1."
   ]
  },
  {
   "cell_type": "markdown",
   "id": "a069654a",
   "metadata": {
    "id": "34ac850e"
   },
   "source": [
    "> The forward selection gave the same results as the exhaustive one. The backward selection gave a different best model using X, X^4, X^5, X^6, X^8, and X^10"
   ]
  },
  {
   "cell_type": "markdown",
   "id": "13681308",
   "metadata": {
    "id": "630f4909"
   },
   "source": [
    "---\n",
    "## 3. Training and test error (3 points)"
   ]
  },
  {
   "cell_type": "markdown",
   "id": "c6a7cc75",
   "metadata": {
    "id": "cdea3f49"
   },
   "source": [
    "This question will explore the relationship between training and test error and the number of features included in a model. We will again use a simulated dataset. \n",
    "\n",
    "a) Simulate dataset with features $p = 20$ and observations $n = 1,000$. Generate data for a response variable $Y$ according to the model\n",
    "\n",
    "$Y = X\\beta + \\epsilon$ \n",
    "\n",
    "where $\\beta$ is random with some elements that are exactly zero.\n",
    "\n",
    "Split your simulated dataset into a training set containing $n=100$ observations and a test set containing $n=900$ observations."
   ]
  },
  {
   "cell_type": "code",
   "execution_count": 49,
   "id": "9463cd09",
   "metadata": {
    "id": "3f113879"
   },
   "outputs": [
    {
     "data": {
      "text/html": [
       "<table class=\"dataframe\">\n",
       "<caption>A matrix: 6 × 20 of type dbl</caption>\n",
       "<thead>\n",
       "\t<tr><th scope=col>X 1</th><th scope=col>X 2</th><th scope=col>X 3</th><th scope=col>X 4</th><th scope=col>X 5</th><th scope=col>X 6</th><th scope=col>X 7</th><th scope=col>X 8</th><th scope=col>X 9</th><th scope=col>X 10</th><th scope=col>X 11</th><th scope=col>X 12</th><th scope=col>X 13</th><th scope=col>X 14</th><th scope=col>X 15</th><th scope=col>X 16</th><th scope=col>X 17</th><th scope=col>X 18</th><th scope=col>X 19</th><th scope=col>X 20</th></tr>\n",
       "</thead>\n",
       "<tbody>\n",
       "\t<tr><td>-0.6264538</td><td> 1.13496509</td><td>-0.88614959</td><td> 0.7391149</td><td>-1.1346302</td><td>-1.5163733</td><td>-0.61882708</td><td>-1.3254177</td><td> 0.2637034</td><td>-1.2171201</td><td>-0.8043316</td><td>-1.4115219</td><td>-0.93910663</td><td> 0.2264537</td><td> 0.5232667</td><td>-0.2139090</td><td> 0.8576341</td><td> 1.0496171</td><td> 0.9514099</td><td>-2.07771241</td></tr>\n",
       "\t<tr><td> 0.1836433</td><td> 1.11193185</td><td>-1.92225490</td><td> 0.3866087</td><td> 0.7645571</td><td> 0.6291412</td><td>-1.10942196</td><td> 0.9519797</td><td>-0.8294518</td><td>-0.9462293</td><td>-1.0565257</td><td> 1.0838697</td><td> 1.39366493</td><td>-0.8185942</td><td> 0.9935537</td><td>-0.1067233</td><td>-1.6253951</td><td> 0.2903237</td><td> 0.4570987</td><td>-0.45446091</td></tr>\n",
       "\t<tr><td>-0.8356286</td><td>-0.87077763</td><td> 1.61970074</td><td> 1.2963972</td><td> 0.5707101</td><td>-1.6781940</td><td>-2.17033523</td><td> 0.8600044</td><td>-1.4616348</td><td> 0.0914098</td><td>-1.0353958</td><td> 1.1702224</td><td> 1.62581486</td><td>-0.8471526</td><td> 0.2737370</td><td>-0.4645893</td><td>-0.2342783</td><td> 1.2421262</td><td>-0.3586935</td><td>-0.16555991</td></tr>\n",
       "\t<tr><td> 1.5952808</td><td> 0.21073159</td><td> 0.51926990</td><td>-0.8035584</td><td>-1.3516939</td><td> 1.1797811</td><td>-0.03130307</td><td> 1.0607903</td><td> 1.6839902</td><td> 0.7013513</td><td>-1.1855604</td><td> 0.2947545</td><td> 0.40900106</td><td>-1.9843326</td><td>-0.6949193</td><td>-0.6842725</td><td>-1.0326545</td><td>-0.6850857</td><td>-1.0458614</td><td> 0.89765209</td></tr>\n",
       "\t<tr><td> 0.3295078</td><td> 0.06939565</td><td>-0.05584993</td><td>-1.6026257</td><td>-2.0298855</td><td> 1.1176545</td><td>-0.26039848</td><td>-0.3505840</td><td>-1.5443243</td><td> 0.6734224</td><td>-0.5004395</td><td>-0.5544277</td><td>-0.09255856</td><td>-0.8127788</td><td>-0.7180502</td><td>-0.7908007</td><td>-1.1411412</td><td>-0.6677681</td><td> 0.3075345</td><td>-0.02948916</td></tr>\n",
       "\t<tr><td>-0.8204684</td><td>-1.66264885</td><td> 0.69641761</td><td> 0.9332510</td><td> 0.5904787</td><td>-1.2377359</td><td> 0.53443047</td><td>-0.1307656</td><td>-0.1908871</td><td> 1.2655534</td><td>-0.5249887</td><td>-0.4034407</td><td> 0.20609871</td><td> 1.4616707</td><td>-0.1019895</td><td>-0.3389638</td><td>-1.5219369</td><td> 0.9409138</td><td> 1.9943876</td><td> 1.85838843</td></tr>\n",
       "</tbody>\n",
       "</table>\n"
      ],
      "text/latex": [
       "A matrix: 6 × 20 of type dbl\n",
       "\\begin{tabular}{llllllllllllllllllll}\n",
       " X 1 & X 2 & X 3 & X 4 & X 5 & X 6 & X 7 & X 8 & X 9 & X 10 & X 11 & X 12 & X 13 & X 14 & X 15 & X 16 & X 17 & X 18 & X 19 & X 20\\\\\n",
       "\\hline\n",
       "\t -0.6264538 &  1.13496509 & -0.88614959 &  0.7391149 & -1.1346302 & -1.5163733 & -0.61882708 & -1.3254177 &  0.2637034 & -1.2171201 & -0.8043316 & -1.4115219 & -0.93910663 &  0.2264537 &  0.5232667 & -0.2139090 &  0.8576341 &  1.0496171 &  0.9514099 & -2.07771241\\\\\n",
       "\t  0.1836433 &  1.11193185 & -1.92225490 &  0.3866087 &  0.7645571 &  0.6291412 & -1.10942196 &  0.9519797 & -0.8294518 & -0.9462293 & -1.0565257 &  1.0838697 &  1.39366493 & -0.8185942 &  0.9935537 & -0.1067233 & -1.6253951 &  0.2903237 &  0.4570987 & -0.45446091\\\\\n",
       "\t -0.8356286 & -0.87077763 &  1.61970074 &  1.2963972 &  0.5707101 & -1.6781940 & -2.17033523 &  0.8600044 & -1.4616348 &  0.0914098 & -1.0353958 &  1.1702224 &  1.62581486 & -0.8471526 &  0.2737370 & -0.4645893 & -0.2342783 &  1.2421262 & -0.3586935 & -0.16555991\\\\\n",
       "\t  1.5952808 &  0.21073159 &  0.51926990 & -0.8035584 & -1.3516939 &  1.1797811 & -0.03130307 &  1.0607903 &  1.6839902 &  0.7013513 & -1.1855604 &  0.2947545 &  0.40900106 & -1.9843326 & -0.6949193 & -0.6842725 & -1.0326545 & -0.6850857 & -1.0458614 &  0.89765209\\\\\n",
       "\t  0.3295078 &  0.06939565 & -0.05584993 & -1.6026257 & -2.0298855 &  1.1176545 & -0.26039848 & -0.3505840 & -1.5443243 &  0.6734224 & -0.5004395 & -0.5544277 & -0.09255856 & -0.8127788 & -0.7180502 & -0.7908007 & -1.1411412 & -0.6677681 &  0.3075345 & -0.02948916\\\\\n",
       "\t -0.8204684 & -1.66264885 &  0.69641761 &  0.9332510 &  0.5904787 & -1.2377359 &  0.53443047 & -0.1307656 & -0.1908871 &  1.2655534 & -0.5249887 & -0.4034407 &  0.20609871 &  1.4616707 & -0.1019895 & -0.3389638 & -1.5219369 &  0.9409138 &  1.9943876 &  1.85838843\\\\\n",
       "\\end{tabular}\n"
      ],
      "text/markdown": [
       "\n",
       "A matrix: 6 × 20 of type dbl\n",
       "\n",
       "| X 1 | X 2 | X 3 | X 4 | X 5 | X 6 | X 7 | X 8 | X 9 | X 10 | X 11 | X 12 | X 13 | X 14 | X 15 | X 16 | X 17 | X 18 | X 19 | X 20 |\n",
       "|---|---|---|---|---|---|---|---|---|---|---|---|---|---|---|---|---|---|---|---|\n",
       "| -0.6264538 |  1.13496509 | -0.88614959 |  0.7391149 | -1.1346302 | -1.5163733 | -0.61882708 | -1.3254177 |  0.2637034 | -1.2171201 | -0.8043316 | -1.4115219 | -0.93910663 |  0.2264537 |  0.5232667 | -0.2139090 |  0.8576341 |  1.0496171 |  0.9514099 | -2.07771241 |\n",
       "|  0.1836433 |  1.11193185 | -1.92225490 |  0.3866087 |  0.7645571 |  0.6291412 | -1.10942196 |  0.9519797 | -0.8294518 | -0.9462293 | -1.0565257 |  1.0838697 |  1.39366493 | -0.8185942 |  0.9935537 | -0.1067233 | -1.6253951 |  0.2903237 |  0.4570987 | -0.45446091 |\n",
       "| -0.8356286 | -0.87077763 |  1.61970074 |  1.2963972 |  0.5707101 | -1.6781940 | -2.17033523 |  0.8600044 | -1.4616348 |  0.0914098 | -1.0353958 |  1.1702224 |  1.62581486 | -0.8471526 |  0.2737370 | -0.4645893 | -0.2342783 |  1.2421262 | -0.3586935 | -0.16555991 |\n",
       "|  1.5952808 |  0.21073159 |  0.51926990 | -0.8035584 | -1.3516939 |  1.1797811 | -0.03130307 |  1.0607903 |  1.6839902 |  0.7013513 | -1.1855604 |  0.2947545 |  0.40900106 | -1.9843326 | -0.6949193 | -0.6842725 | -1.0326545 | -0.6850857 | -1.0458614 |  0.89765209 |\n",
       "|  0.3295078 |  0.06939565 | -0.05584993 | -1.6026257 | -2.0298855 |  1.1176545 | -0.26039848 | -0.3505840 | -1.5443243 |  0.6734224 | -0.5004395 | -0.5544277 | -0.09255856 | -0.8127788 | -0.7180502 | -0.7908007 | -1.1411412 | -0.6677681 |  0.3075345 | -0.02948916 |\n",
       "| -0.8204684 | -1.66264885 |  0.69641761 |  0.9332510 |  0.5904787 | -1.2377359 |  0.53443047 | -0.1307656 | -0.1908871 |  1.2655534 | -0.5249887 | -0.4034407 |  0.20609871 |  1.4616707 | -0.1019895 | -0.3389638 | -1.5219369 |  0.9409138 |  1.9943876 |  1.85838843 |\n",
       "\n"
      ],
      "text/plain": [
       "     X 1        X 2         X 3         X 4        X 5        X 6       \n",
       "[1,] -0.6264538  1.13496509 -0.88614959  0.7391149 -1.1346302 -1.5163733\n",
       "[2,]  0.1836433  1.11193185 -1.92225490  0.3866087  0.7645571  0.6291412\n",
       "[3,] -0.8356286 -0.87077763  1.61970074  1.2963972  0.5707101 -1.6781940\n",
       "[4,]  1.5952808  0.21073159  0.51926990 -0.8035584 -1.3516939  1.1797811\n",
       "[5,]  0.3295078  0.06939565 -0.05584993 -1.6026257 -2.0298855  1.1176545\n",
       "[6,] -0.8204684 -1.66264885  0.69641761  0.9332510  0.5904787 -1.2377359\n",
       "     X 7         X 8        X 9        X 10       X 11       X 12      \n",
       "[1,] -0.61882708 -1.3254177  0.2637034 -1.2171201 -0.8043316 -1.4115219\n",
       "[2,] -1.10942196  0.9519797 -0.8294518 -0.9462293 -1.0565257  1.0838697\n",
       "[3,] -2.17033523  0.8600044 -1.4616348  0.0914098 -1.0353958  1.1702224\n",
       "[4,] -0.03130307  1.0607903  1.6839902  0.7013513 -1.1855604  0.2947545\n",
       "[5,] -0.26039848 -0.3505840 -1.5443243  0.6734224 -0.5004395 -0.5544277\n",
       "[6,]  0.53443047 -0.1307656 -0.1908871  1.2655534 -0.5249887 -0.4034407\n",
       "     X 13        X 14       X 15       X 16       X 17       X 18      \n",
       "[1,] -0.93910663  0.2264537  0.5232667 -0.2139090  0.8576341  1.0496171\n",
       "[2,]  1.39366493 -0.8185942  0.9935537 -0.1067233 -1.6253951  0.2903237\n",
       "[3,]  1.62581486 -0.8471526  0.2737370 -0.4645893 -0.2342783  1.2421262\n",
       "[4,]  0.40900106 -1.9843326 -0.6949193 -0.6842725 -1.0326545 -0.6850857\n",
       "[5,] -0.09255856 -0.8127788 -0.7180502 -0.7908007 -1.1411412 -0.6677681\n",
       "[6,]  0.20609871  1.4616707 -0.1019895 -0.3389638 -1.5219369  0.9409138\n",
       "     X 19       X 20       \n",
       "[1,]  0.9514099 -2.07771241\n",
       "[2,]  0.4570987 -0.45446091\n",
       "[3,] -0.3586935 -0.16555991\n",
       "[4,] -1.0458614  0.89765209\n",
       "[5,]  0.3075345 -0.02948916\n",
       "[6,]  1.9943876  1.85838843"
      ]
     },
     "metadata": {},
     "output_type": "display_data"
    },
    {
     "data": {
      "text/html": [
       "<style>\n",
       ".list-inline {list-style: none; margin:0; padding: 0}\n",
       ".list-inline>li {display: inline-block}\n",
       ".list-inline>li:not(:last-child)::after {content: \"\\00b7\"; padding: 0 .5ex}\n",
       "</style>\n",
       "<ol class=list-inline><li>0.235348522634884</li><li>0.244825017471591</li><li>-0.642186888816392</li><li>-1.93480850364367</li><li>1.03869565173409</li><li>-0.283550120316366</li></ol>\n"
      ],
      "text/latex": [
       "\\begin{enumerate*}\n",
       "\\item 0.235348522634884\n",
       "\\item 0.244825017471591\n",
       "\\item -0.642186888816392\n",
       "\\item -1.93480850364367\n",
       "\\item 1.03869565173409\n",
       "\\item -0.283550120316366\n",
       "\\end{enumerate*}\n"
      ],
      "text/markdown": [
       "1. 0.235348522634884\n",
       "2. 0.244825017471591\n",
       "3. -0.642186888816392\n",
       "4. -1.93480850364367\n",
       "5. 1.03869565173409\n",
       "6. -0.283550120316366\n",
       "\n",
       "\n"
      ],
      "text/plain": [
       "[1]  0.2353485  0.2448250 -0.6421869 -1.9348085  1.0386957 -0.2835501"
      ]
     },
     "metadata": {},
     "output_type": "display_data"
    },
    {
     "data": {
      "text/html": [
       "<style>\n",
       ".list-inline {list-style: none; margin:0; padding: 0}\n",
       ".list-inline>li {display: inline-block}\n",
       ".list-inline>li:not(:last-child)::after {content: \"\\00b7\"; padding: 0 .5ex}\n",
       "</style>\n",
       "<ol class=list-inline><li>0.72611048980616</li><li>0</li><li>0.00282772886566818</li><li>0.941650526598096</li><li>0.572021482279524</li><li>0.883971441537142</li><li>0</li><li>0.207158199744299</li><li>0.761758722597733</li><li>0</li><li>0.876419524662197</li><li>0.740631338907406</li><li>0.599081831751391</li><li>0.10540821030736</li><li>0.13585326820612</li><li>0.328763283323497</li><li>0.645211214432493</li><li>0.498389847110957</li><li>0</li><li>0</li></ol>\n"
      ],
      "text/latex": [
       "\\begin{enumerate*}\n",
       "\\item 0.72611048980616\n",
       "\\item 0\n",
       "\\item 0.00282772886566818\n",
       "\\item 0.941650526598096\n",
       "\\item 0.572021482279524\n",
       "\\item 0.883971441537142\n",
       "\\item 0\n",
       "\\item 0.207158199744299\n",
       "\\item 0.761758722597733\n",
       "\\item 0\n",
       "\\item 0.876419524662197\n",
       "\\item 0.740631338907406\n",
       "\\item 0.599081831751391\n",
       "\\item 0.10540821030736\n",
       "\\item 0.13585326820612\n",
       "\\item 0.328763283323497\n",
       "\\item 0.645211214432493\n",
       "\\item 0.498389847110957\n",
       "\\item 0\n",
       "\\item 0\n",
       "\\end{enumerate*}\n"
      ],
      "text/markdown": [
       "1. 0.72611048980616\n",
       "2. 0\n",
       "3. 0.00282772886566818\n",
       "4. 0.941650526598096\n",
       "5. 0.572021482279524\n",
       "6. 0.883971441537142\n",
       "7. 0\n",
       "8. 0.207158199744299\n",
       "9. 0.761758722597733\n",
       "10. 0\n",
       "11. 0.876419524662197\n",
       "12. 0.740631338907406\n",
       "13. 0.599081831751391\n",
       "14. 0.10540821030736\n",
       "15. 0.13585326820612\n",
       "16. 0.328763283323497\n",
       "17. 0.645211214432493\n",
       "18. 0.498389847110957\n",
       "19. 0\n",
       "20. 0\n",
       "\n",
       "\n"
      ],
      "text/plain": [
       " [1] 0.726110490 0.000000000 0.002827729 0.941650527 0.572021482 0.883971442\n",
       " [7] 0.000000000 0.207158200 0.761758723 0.000000000 0.876419525 0.740631339\n",
       "[13] 0.599081832 0.105408210 0.135853268 0.328763283 0.645211214 0.498389847\n",
       "[19] 0.000000000 0.000000000"
      ]
     },
     "metadata": {},
     "output_type": "display_data"
    },
    {
     "data": {
      "text/html": [
       "<table class=\"dataframe\">\n",
       "<caption>A matrix: 6 × 1 of type dbl</caption>\n",
       "<thead>\n",
       "\t<tr><th scope=col>Y</th></tr>\n",
       "</thead>\n",
       "<tbody>\n",
       "\t<tr><td>-2.8010455</td></tr>\n",
       "\t<tr><td> 1.1169222</td></tr>\n",
       "\t<tr><td>-0.9195718</td></tr>\n",
       "\t<tr><td>-1.8713950</td></tr>\n",
       "\t<tr><td>-4.0704756</td></tr>\n",
       "\t<tr><td>-2.0470835</td></tr>\n",
       "</tbody>\n",
       "</table>\n"
      ],
      "text/latex": [
       "A matrix: 6 × 1 of type dbl\n",
       "\\begin{tabular}{l}\n",
       " Y\\\\\n",
       "\\hline\n",
       "\t -2.8010455\\\\\n",
       "\t  1.1169222\\\\\n",
       "\t -0.9195718\\\\\n",
       "\t -1.8713950\\\\\n",
       "\t -4.0704756\\\\\n",
       "\t -2.0470835\\\\\n",
       "\\end{tabular}\n"
      ],
      "text/markdown": [
       "\n",
       "A matrix: 6 × 1 of type dbl\n",
       "\n",
       "| Y |\n",
       "|---|\n",
       "| -2.8010455 |\n",
       "|  1.1169222 |\n",
       "| -0.9195718 |\n",
       "| -1.8713950 |\n",
       "| -4.0704756 |\n",
       "| -2.0470835 |\n",
       "\n"
      ],
      "text/plain": [
       "     Y         \n",
       "[1,] -2.8010455\n",
       "[2,]  1.1169222\n",
       "[3,] -0.9195718\n",
       "[4,] -1.8713950\n",
       "[5,] -4.0704756\n",
       "[6,] -2.0470835"
      ]
     },
     "metadata": {},
     "output_type": "display_data"
    },
    {
     "data": {
      "text/html": [
       "<table class=\"dataframe\">\n",
       "<caption>A data.frame: 6 × 22</caption>\n",
       "<thead>\n",
       "\t<tr><th></th><th scope=col>Y</th><th scope=col>X.1</th><th scope=col>X.2</th><th scope=col>X.3</th><th scope=col>X.4</th><th scope=col>X.5</th><th scope=col>X.6</th><th scope=col>X.7</th><th scope=col>X.8</th><th scope=col>X.9</th><th scope=col>⋯</th><th scope=col>X.12</th><th scope=col>X.13</th><th scope=col>X.14</th><th scope=col>X.15</th><th scope=col>X.16</th><th scope=col>X.17</th><th scope=col>X.18</th><th scope=col>X.19</th><th scope=col>X.20</th><th scope=col>e</th></tr>\n",
       "\t<tr><th></th><th scope=col>&lt;dbl&gt;</th><th scope=col>&lt;dbl&gt;</th><th scope=col>&lt;dbl&gt;</th><th scope=col>&lt;dbl&gt;</th><th scope=col>&lt;dbl&gt;</th><th scope=col>&lt;dbl&gt;</th><th scope=col>&lt;dbl&gt;</th><th scope=col>&lt;dbl&gt;</th><th scope=col>&lt;dbl&gt;</th><th scope=col>&lt;dbl&gt;</th><th scope=col>⋯</th><th scope=col>&lt;dbl&gt;</th><th scope=col>&lt;dbl&gt;</th><th scope=col>&lt;dbl&gt;</th><th scope=col>&lt;dbl&gt;</th><th scope=col>&lt;dbl&gt;</th><th scope=col>&lt;dbl&gt;</th><th scope=col>&lt;dbl&gt;</th><th scope=col>&lt;dbl&gt;</th><th scope=col>&lt;dbl&gt;</th><th scope=col>&lt;dbl&gt;</th></tr>\n",
       "</thead>\n",
       "<tbody>\n",
       "\t<tr><th scope=row>1</th><td>-2.8010455</td><td>-0.6264538</td><td> 1.13496509</td><td>-0.88614959</td><td> 0.7391149</td><td>-1.1346302</td><td>-1.5163733</td><td>-0.61882708</td><td>-1.3254177</td><td> 0.2637034</td><td>⋯</td><td>-1.4115219</td><td>-0.93910663</td><td> 0.2264537</td><td> 0.5232667</td><td>-0.2139090</td><td> 0.8576341</td><td> 1.0496171</td><td> 0.9514099</td><td>-2.07771241</td><td> 0.2353485</td></tr>\n",
       "\t<tr><th scope=row>2</th><td> 1.1169222</td><td> 0.1836433</td><td> 1.11193185</td><td>-1.92225490</td><td> 0.3866087</td><td> 0.7645571</td><td> 0.6291412</td><td>-1.10942196</td><td> 0.9519797</td><td>-0.8294518</td><td>⋯</td><td> 1.0838697</td><td> 1.39366493</td><td>-0.8185942</td><td> 0.9935537</td><td>-0.1067233</td><td>-1.6253951</td><td> 0.2903237</td><td> 0.4570987</td><td>-0.45446091</td><td> 0.2448250</td></tr>\n",
       "\t<tr><th scope=row>3</th><td>-0.9195718</td><td>-0.8356286</td><td>-0.87077763</td><td> 1.61970074</td><td> 1.2963972</td><td> 0.5707101</td><td>-1.6781940</td><td>-2.17033523</td><td> 0.8600044</td><td>-1.4616348</td><td>⋯</td><td> 1.1702224</td><td> 1.62581486</td><td>-0.8471526</td><td> 0.2737370</td><td>-0.4645893</td><td>-0.2342783</td><td> 1.2421262</td><td>-0.3586935</td><td>-0.16555991</td><td>-0.6421869</td></tr>\n",
       "\t<tr><th scope=row>4</th><td>-1.8713950</td><td> 1.5952808</td><td> 0.21073159</td><td> 0.51926990</td><td>-0.8035584</td><td>-1.3516939</td><td> 1.1797811</td><td>-0.03130307</td><td> 1.0607903</td><td> 1.6839902</td><td>⋯</td><td> 0.2947545</td><td> 0.40900106</td><td>-1.9843326</td><td>-0.6949193</td><td>-0.6842725</td><td>-1.0326545</td><td>-0.6850857</td><td>-1.0458614</td><td> 0.89765209</td><td>-1.9348085</td></tr>\n",
       "\t<tr><th scope=row>5</th><td>-4.0704756</td><td> 0.3295078</td><td> 0.06939565</td><td>-0.05584993</td><td>-1.6026257</td><td>-2.0298855</td><td> 1.1176545</td><td>-0.26039848</td><td>-0.3505840</td><td>-1.5443243</td><td>⋯</td><td>-0.5544277</td><td>-0.09255856</td><td>-0.8127788</td><td>-0.7180502</td><td>-0.7908007</td><td>-1.1411412</td><td>-0.6677681</td><td> 0.3075345</td><td>-0.02948916</td><td> 1.0386957</td></tr>\n",
       "\t<tr><th scope=row>6</th><td>-2.0470835</td><td>-0.8204684</td><td>-1.66264885</td><td> 0.69641761</td><td> 0.9332510</td><td> 0.5904787</td><td>-1.2377359</td><td> 0.53443047</td><td>-0.1307656</td><td>-0.1908871</td><td>⋯</td><td>-0.4034407</td><td> 0.20609871</td><td> 1.4616707</td><td>-0.1019895</td><td>-0.3389638</td><td>-1.5219369</td><td> 0.9409138</td><td> 1.9943876</td><td> 1.85838843</td><td>-0.2835501</td></tr>\n",
       "</tbody>\n",
       "</table>\n"
      ],
      "text/latex": [
       "A data.frame: 6 × 22\n",
       "\\begin{tabular}{r|lllllllllllllllllllll}\n",
       "  & Y & X.1 & X.2 & X.3 & X.4 & X.5 & X.6 & X.7 & X.8 & X.9 & ⋯ & X.12 & X.13 & X.14 & X.15 & X.16 & X.17 & X.18 & X.19 & X.20 & e\\\\\n",
       "  & <dbl> & <dbl> & <dbl> & <dbl> & <dbl> & <dbl> & <dbl> & <dbl> & <dbl> & <dbl> & ⋯ & <dbl> & <dbl> & <dbl> & <dbl> & <dbl> & <dbl> & <dbl> & <dbl> & <dbl> & <dbl>\\\\\n",
       "\\hline\n",
       "\t1 & -2.8010455 & -0.6264538 &  1.13496509 & -0.88614959 &  0.7391149 & -1.1346302 & -1.5163733 & -0.61882708 & -1.3254177 &  0.2637034 & ⋯ & -1.4115219 & -0.93910663 &  0.2264537 &  0.5232667 & -0.2139090 &  0.8576341 &  1.0496171 &  0.9514099 & -2.07771241 &  0.2353485\\\\\n",
       "\t2 &  1.1169222 &  0.1836433 &  1.11193185 & -1.92225490 &  0.3866087 &  0.7645571 &  0.6291412 & -1.10942196 &  0.9519797 & -0.8294518 & ⋯ &  1.0838697 &  1.39366493 & -0.8185942 &  0.9935537 & -0.1067233 & -1.6253951 &  0.2903237 &  0.4570987 & -0.45446091 &  0.2448250\\\\\n",
       "\t3 & -0.9195718 & -0.8356286 & -0.87077763 &  1.61970074 &  1.2963972 &  0.5707101 & -1.6781940 & -2.17033523 &  0.8600044 & -1.4616348 & ⋯ &  1.1702224 &  1.62581486 & -0.8471526 &  0.2737370 & -0.4645893 & -0.2342783 &  1.2421262 & -0.3586935 & -0.16555991 & -0.6421869\\\\\n",
       "\t4 & -1.8713950 &  1.5952808 &  0.21073159 &  0.51926990 & -0.8035584 & -1.3516939 &  1.1797811 & -0.03130307 &  1.0607903 &  1.6839902 & ⋯ &  0.2947545 &  0.40900106 & -1.9843326 & -0.6949193 & -0.6842725 & -1.0326545 & -0.6850857 & -1.0458614 &  0.89765209 & -1.9348085\\\\\n",
       "\t5 & -4.0704756 &  0.3295078 &  0.06939565 & -0.05584993 & -1.6026257 & -2.0298855 &  1.1176545 & -0.26039848 & -0.3505840 & -1.5443243 & ⋯ & -0.5544277 & -0.09255856 & -0.8127788 & -0.7180502 & -0.7908007 & -1.1411412 & -0.6677681 &  0.3075345 & -0.02948916 &  1.0386957\\\\\n",
       "\t6 & -2.0470835 & -0.8204684 & -1.66264885 &  0.69641761 &  0.9332510 &  0.5904787 & -1.2377359 &  0.53443047 & -0.1307656 & -0.1908871 & ⋯ & -0.4034407 &  0.20609871 &  1.4616707 & -0.1019895 & -0.3389638 & -1.5219369 &  0.9409138 &  1.9943876 &  1.85838843 & -0.2835501\\\\\n",
       "\\end{tabular}\n"
      ],
      "text/markdown": [
       "\n",
       "A data.frame: 6 × 22\n",
       "\n",
       "| <!--/--> | Y &lt;dbl&gt; | X.1 &lt;dbl&gt; | X.2 &lt;dbl&gt; | X.3 &lt;dbl&gt; | X.4 &lt;dbl&gt; | X.5 &lt;dbl&gt; | X.6 &lt;dbl&gt; | X.7 &lt;dbl&gt; | X.8 &lt;dbl&gt; | X.9 &lt;dbl&gt; | ⋯ ⋯ | X.12 &lt;dbl&gt; | X.13 &lt;dbl&gt; | X.14 &lt;dbl&gt; | X.15 &lt;dbl&gt; | X.16 &lt;dbl&gt; | X.17 &lt;dbl&gt; | X.18 &lt;dbl&gt; | X.19 &lt;dbl&gt; | X.20 &lt;dbl&gt; | e &lt;dbl&gt; |\n",
       "|---|---|---|---|---|---|---|---|---|---|---|---|---|---|---|---|---|---|---|---|---|---|\n",
       "| 1 | -2.8010455 | -0.6264538 |  1.13496509 | -0.88614959 |  0.7391149 | -1.1346302 | -1.5163733 | -0.61882708 | -1.3254177 |  0.2637034 | ⋯ | -1.4115219 | -0.93910663 |  0.2264537 |  0.5232667 | -0.2139090 |  0.8576341 |  1.0496171 |  0.9514099 | -2.07771241 |  0.2353485 |\n",
       "| 2 |  1.1169222 |  0.1836433 |  1.11193185 | -1.92225490 |  0.3866087 |  0.7645571 |  0.6291412 | -1.10942196 |  0.9519797 | -0.8294518 | ⋯ |  1.0838697 |  1.39366493 | -0.8185942 |  0.9935537 | -0.1067233 | -1.6253951 |  0.2903237 |  0.4570987 | -0.45446091 |  0.2448250 |\n",
       "| 3 | -0.9195718 | -0.8356286 | -0.87077763 |  1.61970074 |  1.2963972 |  0.5707101 | -1.6781940 | -2.17033523 |  0.8600044 | -1.4616348 | ⋯ |  1.1702224 |  1.62581486 | -0.8471526 |  0.2737370 | -0.4645893 | -0.2342783 |  1.2421262 | -0.3586935 | -0.16555991 | -0.6421869 |\n",
       "| 4 | -1.8713950 |  1.5952808 |  0.21073159 |  0.51926990 | -0.8035584 | -1.3516939 |  1.1797811 | -0.03130307 |  1.0607903 |  1.6839902 | ⋯ |  0.2947545 |  0.40900106 | -1.9843326 | -0.6949193 | -0.6842725 | -1.0326545 | -0.6850857 | -1.0458614 |  0.89765209 | -1.9348085 |\n",
       "| 5 | -4.0704756 |  0.3295078 |  0.06939565 | -0.05584993 | -1.6026257 | -2.0298855 |  1.1176545 | -0.26039848 | -0.3505840 | -1.5443243 | ⋯ | -0.5544277 | -0.09255856 | -0.8127788 | -0.7180502 | -0.7908007 | -1.1411412 | -0.6677681 |  0.3075345 | -0.02948916 |  1.0386957 |\n",
       "| 6 | -2.0470835 | -0.8204684 | -1.66264885 |  0.69641761 |  0.9332510 |  0.5904787 | -1.2377359 |  0.53443047 | -0.1307656 | -0.1908871 | ⋯ | -0.4034407 |  0.20609871 |  1.4616707 | -0.1019895 | -0.3389638 | -1.5219369 |  0.9409138 |  1.9943876 |  1.85838843 | -0.2835501 |\n",
       "\n"
      ],
      "text/plain": [
       "  Y          X.1        X.2         X.3         X.4        X.5       \n",
       "1 -2.8010455 -0.6264538  1.13496509 -0.88614959  0.7391149 -1.1346302\n",
       "2  1.1169222  0.1836433  1.11193185 -1.92225490  0.3866087  0.7645571\n",
       "3 -0.9195718 -0.8356286 -0.87077763  1.61970074  1.2963972  0.5707101\n",
       "4 -1.8713950  1.5952808  0.21073159  0.51926990 -0.8035584 -1.3516939\n",
       "5 -4.0704756  0.3295078  0.06939565 -0.05584993 -1.6026257 -2.0298855\n",
       "6 -2.0470835 -0.8204684 -1.66264885  0.69641761  0.9332510  0.5904787\n",
       "  X.6        X.7         X.8        X.9        ⋯ X.12       X.13       \n",
       "1 -1.5163733 -0.61882708 -1.3254177  0.2637034 ⋯ -1.4115219 -0.93910663\n",
       "2  0.6291412 -1.10942196  0.9519797 -0.8294518 ⋯  1.0838697  1.39366493\n",
       "3 -1.6781940 -2.17033523  0.8600044 -1.4616348 ⋯  1.1702224  1.62581486\n",
       "4  1.1797811 -0.03130307  1.0607903  1.6839902 ⋯  0.2947545  0.40900106\n",
       "5  1.1176545 -0.26039848 -0.3505840 -1.5443243 ⋯ -0.5544277 -0.09255856\n",
       "6 -1.2377359  0.53443047 -0.1307656 -0.1908871 ⋯ -0.4034407  0.20609871\n",
       "  X.14       X.15       X.16       X.17       X.18       X.19       X.20       \n",
       "1  0.2264537  0.5232667 -0.2139090  0.8576341  1.0496171  0.9514099 -2.07771241\n",
       "2 -0.8185942  0.9935537 -0.1067233 -1.6253951  0.2903237  0.4570987 -0.45446091\n",
       "3 -0.8471526  0.2737370 -0.4645893 -0.2342783  1.2421262 -0.3586935 -0.16555991\n",
       "4 -1.9843326 -0.6949193 -0.6842725 -1.0326545 -0.6850857 -1.0458614  0.89765209\n",
       "5 -0.8127788 -0.7180502 -0.7908007 -1.1411412 -0.6677681  0.3075345 -0.02948916\n",
       "6  1.4616707 -0.1019895 -0.3389638 -1.5219369  0.9409138  1.9943876  1.85838843\n",
       "  e         \n",
       "1  0.2353485\n",
       "2  0.2448250\n",
       "3 -0.6421869\n",
       "4 -1.9348085\n",
       "5  1.0386957\n",
       "6 -0.2835501"
      ]
     },
     "metadata": {},
     "output_type": "display_data"
    }
   ],
   "source": [
    "# WRITE YOUR CODE HERE\n",
    "set.seed(1)\n",
    "X = matrix(NA,nrow=1000,ncol=20)\n",
    "for (i in 1:20){\n",
    "    X[,i] = rnorm(1000)\n",
    "}\n",
    "colnames(X) = c(paste(\"X\",1:20))\n",
    "head(X)\n",
    "\n",
    "e = rnorm(1000)\n",
    "head(e)\n",
    "\n",
    "B = runif(20)\n",
    "zero = sample(1:20,5)\n",
    "B[zero] = 0\n",
    "B\n",
    "\n",
    "Y = (X %*% B) + e\n",
    "colnames(Y) = \"Y\"\n",
    "head(Y)\n",
    "\n",
    "data2 = data.frame(cbind(Y,X,e))\n",
    "head(data2)\n",
    "\n",
    "train = sample(1:nrow(data2),100)\n",
    "test = (-train)"
   ]
  },
  {
   "cell_type": "markdown",
   "id": "5f05a340",
   "metadata": {
    "id": "5886639c"
   },
   "source": [
    "b) Perform best subset selection on the training set, and plot the associated training and test set MSE for the best model of each size."
   ]
  },
  {
   "cell_type": "code",
   "execution_count": null,
   "id": "d0fa93ca",
   "metadata": {
    "id": "a1dbdf04"
   },
   "outputs": [],
   "source": [
    "# WRITE YOUR CODE HERE\n",
    "reg2 = regsubsets(Y~ . - e,data=data2[train,],nvmax=21)\n",
    "test = model.matrix(Y ~ . - e, data2[test,])\n",
    "err = rep(NA,20)\n",
    "for (n in 1:20){\n",
    "    coef = coef(reg2,n)\n",
    "    pred = test[,names(coef)]%*%coef\n",
    "    err[n] = mean((test$Y-pred)^2)\n",
    "}\n",
    "\n",
    "mse = (1/100) * summary(reg2)$rss\n",
    "plot(mse)\n",
    "plot(err)"
   ]
  },
  {
   "cell_type": "markdown",
   "id": "44d791db",
   "metadata": {
    "id": "24f9d2f1"
   },
   "source": [
    "c) Identify the best model according the test MSE. How does this model compare to the actual model used to simulate the dataset?\n",
    "\n",
    "*Note: If the model identified contains only an intercept or all of the features, then generate a new dataset (i.e. repeat part a with a different random seed) until the test set MSE is minimized for an intermediate model size.*"
   ]
  },
  {
   "cell_type": "code",
   "execution_count": 74,
   "id": "2cd08023",
   "metadata": {
    "id": "87db7d52"
   },
   "outputs": [
    {
     "data": {
      "text/html": [
       "<table class=\"dataframe\">\n",
       "<caption>A data.frame: 1 × 1</caption>\n",
       "<thead>\n",
       "\t<tr><th></th><th scope=col>X.6</th></tr>\n",
       "\t<tr><th></th><th scope=col>&lt;dbl&gt;</th></tr>\n",
       "</thead>\n",
       "<tbody>\n",
       "\t<tr><th scope=row>1</th><td>-1.516373</td></tr>\n",
       "</tbody>\n",
       "</table>\n"
      ],
      "text/latex": [
       "A data.frame: 1 × 1\n",
       "\\begin{tabular}{r|l}\n",
       "  & X.6\\\\\n",
       "  & <dbl>\\\\\n",
       "\\hline\n",
       "\t1 & -1.516373\\\\\n",
       "\\end{tabular}\n"
      ],
      "text/markdown": [
       "\n",
       "A data.frame: 1 × 1\n",
       "\n",
       "| <!--/--> | X.6 &lt;dbl&gt; |\n",
       "|---|---|\n",
       "| 1 | -1.516373 |\n",
       "\n"
      ],
      "text/plain": [
       "  X.6      \n",
       "1 -1.516373"
      ]
     },
     "metadata": {},
     "output_type": "display_data"
    }
   ],
   "source": [
    "# WRITE YOUR CODE HERE"
   ]
  },
  {
   "cell_type": "markdown",
   "id": "7304f37e",
   "metadata": {
    "id": "894b4503"
   },
   "source": [
    "> *Write your response here* \n",
    "> "
   ]
  },
  {
   "cell_type": "markdown",
   "id": "67ef28d7",
   "metadata": {
    "id": "35b974f0"
   },
   "source": [
    "**DUE:** 5pm EST, April 10, 2023"
   ]
  },
  {
   "cell_type": "markdown",
   "id": "13c6002e",
   "metadata": {
    "id": "957a72c5"
   },
   "source": [
    "**IMPORTANT** Did you collaborate with anyone on this assignment? If so, list their names here. \n",
    "> *Someone's Name*"
   ]
  }
 ],
 "metadata": {
  "colab": {
   "provenance": []
  },
  "kernelspec": {
   "display_name": "R",
   "language": "R",
   "name": "ir"
  },
  "language_info": {
   "codemirror_mode": "r",
   "file_extension": ".r",
   "mimetype": "text/x-r-source",
   "name": "R",
   "pygments_lexer": "r",
   "version": "4.2.1"
  }
 },
 "nbformat": 4,
 "nbformat_minor": 5
}
