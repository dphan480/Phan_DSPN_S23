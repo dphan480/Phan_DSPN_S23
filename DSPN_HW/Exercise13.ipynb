{
 "cells": [
  {
   "cell_type": "markdown",
   "metadata": {
    "id": "YO9Lm6oNn8Ol"
   },
   "source": [
    "# Exercise 13:  Resampling methods\n",
    "\n",
    "This homework assignment is designed to give you practice with bootstrapping and permutation tests.\n",
    "\n",
    "You will need to download the **unrestricted_trimmed_1_7_2020_10_50_44.csv** file from the *Homework/hcp_data* folder in the class GitHub repository. \n",
    "\n",
    "This data is a portion of the [Human Connectome Project database](http://www.humanconnectomeproject.org/). It provides measures of cognitive tasks and brain morphology measuresments from 1206 participants. The full description of each variable is provided in the **HCP_S1200_DataDictionary_April_20_2018.csv** file in the *Homework/hcp_data* folder in the class GitHub repository."
   ]
  },
  {
   "cell_type": "markdown",
   "metadata": {
    "id": "h8YQJS8Dn8Or"
   },
   "source": [
    "---\n",
    "## 1. Loading & Visualizing the Data (1 point)\n",
    "\n",
    "Use the `setwd` and `read.csv` functions to load data from the **unrestricted_trimmed_1_7_2020_10_50_44.csv** file. \n",
    "\n",
    "(a) Using the tidyverse tools, make a new dataframe `d1` that only inclues the subject ID (`Subject`), gender (`Gender`, self reported at time of data collection), Flanker Task performance (`Flanker_Unadj`), total intracranial volume (`FS_IntraCranial_Vol`), total white matter volume (`FS_Tot_WM_Vol`), and total grey matter volume (`FS_Total_GM_Vol`) variables and remove all _na_ values.\n",
    "\n",
    "Use the `head` function to look at the first few rows of each data frame. "
   ]
  },
  {
   "cell_type": "code",
   "execution_count": 9,
   "metadata": {
    "id": "ja0PYvbIn8Os",
    "vscode": {
     "languageId": "r"
    }
   },
   "outputs": [
    {
     "data": {
      "text/html": [
       "<table class=\"dataframe\">\n",
       "<caption>A data.frame: 6 × 6</caption>\n",
       "<thead>\n",
       "\t<tr><th></th><th scope=col>Subject</th><th scope=col>Gender</th><th scope=col>Flanker_Unadj</th><th scope=col>FS_IntraCranial_Vol</th><th scope=col>FS_Tot_WM_Vol</th><th scope=col>FS_Total_GM_Vol</th></tr>\n",
       "\t<tr><th></th><th scope=col>&lt;int&gt;</th><th scope=col>&lt;chr&gt;</th><th scope=col>&lt;dbl&gt;</th><th scope=col>&lt;dbl&gt;</th><th scope=col>&lt;int&gt;</th><th scope=col>&lt;int&gt;</th></tr>\n",
       "</thead>\n",
       "<tbody>\n",
       "\t<tr><th scope=row>1</th><td>100206</td><td>M</td><td>130.42</td><td>1864518</td><td>543134</td><td>807245</td></tr>\n",
       "\t<tr><th scope=row>2</th><td>100307</td><td>F</td><td>112.56</td><td>1512540</td><td>407292</td><td>664124</td></tr>\n",
       "\t<tr><th scope=row>3</th><td>100408</td><td>M</td><td>121.18</td><td>1684117</td><td>500417</td><td>726206</td></tr>\n",
       "\t<tr><th scope=row>4</th><td>100610</td><td>M</td><td>126.53</td><td>1816044</td><td>512946</td><td>762308</td></tr>\n",
       "\t<tr><th scope=row>5</th><td>101006</td><td>F</td><td>101.85</td><td>1437868</td><td>429449</td><td>579632</td></tr>\n",
       "\t<tr><th scope=row>6</th><td>101107</td><td>M</td><td>107.04</td><td>1512727</td><td>416995</td><td>665024</td></tr>\n",
       "</tbody>\n",
       "</table>\n"
      ],
      "text/latex": [
       "A data.frame: 6 × 6\n",
       "\\begin{tabular}{r|llllll}\n",
       "  & Subject & Gender & Flanker\\_Unadj & FS\\_IntraCranial\\_Vol & FS\\_Tot\\_WM\\_Vol & FS\\_Total\\_GM\\_Vol\\\\\n",
       "  & <int> & <chr> & <dbl> & <dbl> & <int> & <int>\\\\\n",
       "\\hline\n",
       "\t1 & 100206 & M & 130.42 & 1864518 & 543134 & 807245\\\\\n",
       "\t2 & 100307 & F & 112.56 & 1512540 & 407292 & 664124\\\\\n",
       "\t3 & 100408 & M & 121.18 & 1684117 & 500417 & 726206\\\\\n",
       "\t4 & 100610 & M & 126.53 & 1816044 & 512946 & 762308\\\\\n",
       "\t5 & 101006 & F & 101.85 & 1437868 & 429449 & 579632\\\\\n",
       "\t6 & 101107 & M & 107.04 & 1512727 & 416995 & 665024\\\\\n",
       "\\end{tabular}\n"
      ],
      "text/markdown": [
       "\n",
       "A data.frame: 6 × 6\n",
       "\n",
       "| <!--/--> | Subject &lt;int&gt; | Gender &lt;chr&gt; | Flanker_Unadj &lt;dbl&gt; | FS_IntraCranial_Vol &lt;dbl&gt; | FS_Tot_WM_Vol &lt;int&gt; | FS_Total_GM_Vol &lt;int&gt; |\n",
       "|---|---|---|---|---|---|---|\n",
       "| 1 | 100206 | M | 130.42 | 1864518 | 543134 | 807245 |\n",
       "| 2 | 100307 | F | 112.56 | 1512540 | 407292 | 664124 |\n",
       "| 3 | 100408 | M | 121.18 | 1684117 | 500417 | 726206 |\n",
       "| 4 | 100610 | M | 126.53 | 1816044 | 512946 | 762308 |\n",
       "| 5 | 101006 | F | 101.85 | 1437868 | 429449 | 579632 |\n",
       "| 6 | 101107 | M | 107.04 | 1512727 | 416995 | 665024 |\n",
       "\n"
      ],
      "text/plain": [
       "  Subject Gender Flanker_Unadj FS_IntraCranial_Vol FS_Tot_WM_Vol\n",
       "1 100206  M      130.42        1864518             543134       \n",
       "2 100307  F      112.56        1512540             407292       \n",
       "3 100408  M      121.18        1684117             500417       \n",
       "4 100610  M      126.53        1816044             512946       \n",
       "5 101006  F      101.85        1437868             429449       \n",
       "6 101107  M      107.04        1512727             416995       \n",
       "  FS_Total_GM_Vol\n",
       "1 807245         \n",
       "2 664124         \n",
       "3 726206         \n",
       "4 762308         \n",
       "5 579632         \n",
       "6 665024         "
      ]
     },
     "metadata": {},
     "output_type": "display_data"
    }
   ],
   "source": [
    "# WRITE YOUR CODE HERE\n",
    "library(tidyverse)\n",
    "data = read.csv(\"unrestricted_trimmed_1_7_2020_10_50_44.csv\")\n",
    "d1 = data %>% select(Subject, Gender, Flanker_Unadj, FS_IntraCranial_Vol, FS_Tot_WM_Vol, FS_Total_GM_Vol) %>% drop_na()"
   ]
  },
  {
   "cell_type": "markdown",
   "metadata": {
    "id": "t7Eonkzzn8Ot"
   },
   "source": [
    "(b) Plot grey matter volume (x axis) against intracranial volume (y axis) and Gender (point color). "
   ]
  },
  {
   "cell_type": "code",
   "execution_count": 4,
   "metadata": {
    "id": "eJuQ_rSYn8Ou",
    "vscode": {
     "languageId": "r"
    }
   },
   "outputs": [
    {
     "data": {
      "image/png": "[encoded data removed]",
      "text/plain": [
       "plot without title"
      ]
     },
     "metadata": {
      "image/png": {
       "height": 420,
       "width": 420
      }
     },
     "output_type": "display_data"
    }
   ],
   "source": [
    "# WRITE YOUR CODE HERE\n",
    "library(ggplot2)\n",
    "ggplot(d1, aes(x=FS_Total_GM_Vol, y=FS_IntraCranial_Vol, color=Gender)) +\n",
    "    geom_point()\n"
   ]
  },
  {
   "cell_type": "markdown",
   "metadata": {
    "id": "GgrlW2Lkn8Ou"
   },
   "source": [
    "What patterns do you observe in the scatter plot?"
   ]
  },
  {
   "cell_type": "markdown",
   "metadata": {
    "id": "L9IcxyXrn8Ou"
   },
   "source": [
    "> Gray matter volume correlates positively with intracranial volume for both men and women. It appears that the strength of correlation is the same regardless of gender. However, men tend to have more gray matter and intracranial volume than women."
   ]
  },
  {
   "cell_type": "markdown",
   "metadata": {
    "id": "ZyRo6pa9n8Oy"
   },
   "source": [
    "---\n",
    "## 2. Logistic classifier (2 points)"
   ]
  },
  {
   "cell_type": "markdown",
   "metadata": {
    "id": "ZOwhhD43n8Oz"
   },
   "source": [
    "We want to try predicting gender using the neural data you have loaded.\n",
    "\n",
    "(a) Run a logisic regression model to predict gender from total white matter volume, total grey matter volume, and intracranial volume. "
   ]
  },
  {
   "cell_type": "code",
   "execution_count": 18,
   "metadata": {
    "id": "SHnmjiGEalHa",
    "scrolled": true,
    "vscode": {
     "languageId": "r"
    }
   },
   "outputs": [
    {
     "data": {
      "text/plain": [
       "\n",
       "Call:\n",
       "glm(formula = Gender ~ FS_IntraCranial_Vol + FS_Tot_WM_Vol + \n",
       "    FS_Total_GM_Vol, family = binomial, data = d1)\n",
       "\n",
       "Deviance Residuals: \n",
       "    Min       1Q   Median       3Q      Max  \n",
       "-2.7695  -0.6173  -0.1863   0.5997   3.2309  \n",
       "\n",
       "Coefficients:\n",
       "                      Estimate Std. Error z value Pr(>|z|)    \n",
       "(Intercept)         -2.262e+01  1.347e+00 -16.787  < 2e-16 ***\n",
       "FS_IntraCranial_Vol  5.020e-06  1.177e-06   4.263 2.01e-05 ***\n",
       "FS_Tot_WM_Vol        2.140e-06  3.059e-06   0.699    0.484    \n",
       "FS_Total_GM_Vol      1.959e-05  3.145e-06   6.229 4.70e-10 ***\n",
       "---\n",
       "Signif. codes:  0 '***' 0.001 '**' 0.01 '*' 0.05 '.' 0.1 ' ' 1\n",
       "\n",
       "(Dispersion parameter for binomial family taken to be 1)\n",
       "\n",
       "    Null deviance: 1534.13  on 1112  degrees of freedom\n",
       "Residual deviance:  919.85  on 1109  degrees of freedom\n",
       "AIC: 927.85\n",
       "\n",
       "Number of Fisher Scoring iterations: 5\n"
      ]
     },
     "metadata": {},
     "output_type": "display_data"
    }
   ],
   "source": [
    "# WRITE YOUR CODE HERE\n",
    "d1$Gender = as.factor(d1$Gender)\n",
    "\n",
    "glm = glm(Gender ~ FS_IntraCranial_Vol + FS_Tot_WM_Vol + FS_Total_GM_Vol, data=d1, family=binomial)\n",
    "summary(glm)\n"
   ]
  },
  {
   "cell_type": "markdown",
   "metadata": {
    "id": "TJsxKecfn8Oz"
   },
   "source": [
    "Which factors are signficantly associated with gender?"
   ]
  },
  {
   "cell_type": "markdown",
   "metadata": {
    "id": "Zx8Qoy7Xn8O0"
   },
   "source": [
    "> Intracranial volume and gray matter volume are significantly associated with gender."
   ]
  },
  {
   "cell_type": "markdown",
   "metadata": {
    "id": "mcxF31C7n8O0"
   },
   "source": [
    "(b) Estimate the prediction accuracy of your model (Note: this is the training set accuracy). Set your prediction threshold to 0.5."
   ]
  },
  {
   "cell_type": "code",
   "execution_count": 23,
   "metadata": {
    "id": "2qb1RosDn8O0",
    "vscode": {
     "languageId": "r"
    }
   },
   "outputs": [
    {
     "data": {
      "text/plain": [
       "         actual\n",
       "predicted   F   M\n",
       "        F 516 110\n",
       "        M  90 397"
      ]
     },
     "metadata": {},
     "output_type": "display_data"
    },
    {
     "data": {
      "text/html": [
       "0.820305480682839"
      ],
      "text/latex": [
       "0.820305480682839"
      ],
      "text/markdown": [
       "0.820305480682839"
      ],
      "text/plain": [
       "[1] 0.8203055"
      ]
     },
     "metadata": {},
     "output_type": "display_data"
    }
   ],
   "source": [
    "# WRITE YOUR CODE HERE\n",
    "model = data.frame(predict(glm, type=\"response\"))\n",
    "colnames(model) = c(\"predict\")\n",
    "model$binary = rep(\"F\", nrow(model))\n",
    "model$binary[model$predict > 0.5] = \"M\"\n",
    "\n",
    "confusion = data.frame(model$binary, d1$Gender)\n",
    "colnames(confusion) = c(\"predicted\", \"actual\")\n",
    "table(confusion)\n",
    "mean(confusion$actual == confusion$predicted)"
   ]
  },
  {
   "cell_type": "markdown",
   "metadata": {
    "id": "KHLfOMe-n8O0"
   },
   "source": [
    "What is the prediction accuracy for gender from the full model?"
   ]
  },
  {
   "cell_type": "markdown",
   "metadata": {
    "id": "eN9SGyESn8O1"
   },
   "source": [
    "> The model has 82.03% accuracy for gender."
   ]
  },
  {
   "cell_type": "markdown",
   "metadata": {
    "id": "9Y_ftEZPn8O1"
   },
   "source": [
    "---\n",
    "## 3. Bootstrapped accuracy (3 points)\n",
    "\n",
    "Use bootstrapping to estimate the confidence intervals of the _prediction accuracy_ of your model (i.e., the confidence of the correlation between $\\hat{y}$ and $y$). Plot the histogram of the bootstrapped prediction accuracies and estimate the confidence intervals off of the standard deviation from the bootstrap.\n"
   ]
  },
  {
   "cell_type": "code",
   "execution_count": 54,
   "metadata": {
    "id": "mwBjwZLIn8O1",
    "vscode": {
     "languageId": "r"
    }
   },
   "outputs": [
    {
     "data": {
      "text/plain": [
       "\n",
       "ORDINARY NONPARAMETRIC BOOTSTRAP\n",
       "\n",
       "\n",
       "Call:\n",
       "boot(data = d1, statistic = boot.fn, R = 1000)\n",
       "\n",
       "\n",
       "Bootstrap Statistics :\n",
       "     original       bias    std. error\n",
       "t1* 0.8203055 2.515723e-05  0.01182065"
      ]
     },
     "metadata": {},
     "output_type": "display_data"
    },
    {
     "data": {
      "text/html": [
       "0.796689346054361"
      ],
      "text/latex": [
       "0.796689346054361"
      ],
      "text/markdown": [
       "0.796689346054361"
      ],
      "text/plain": [
       "[1] 0.7966893"
      ]
     },
     "metadata": {},
     "output_type": "display_data"
    },
    {
     "data": {
      "text/html": [
       "0.843971929776726"
      ],
      "text/latex": [
       "0.843971929776726"
      ],
      "text/markdown": [
       "0.843971929776726"
      ],
      "text/plain": [
       "[1] 0.8439719"
      ]
     },
     "metadata": {},
     "output_type": "display_data"
    },
    {
     "data": {
      "image/png": "[encoded data removed]",
      "text/plain": [
       "Plot with title \"Histogram of boot$t[, 1]\""
      ]
     },
     "metadata": {
      "image/png": {
       "height": 420,
       "width": 420
      }
     },
     "output_type": "display_data"
    }
   ],
   "source": [
    "# WRITE YOUR CODE HERE\n",
    "#install.packages(\"boot\")\n",
    "#install.packages(\"ISLR\")\n",
    "library(ISLR)\n",
    "library(boot)\n",
    "\n",
    "boot.fn = function(data, index){\n",
    "    model_temp = data.frame(predict(glm, data[index,], type='response'))\n",
    "    colnames(model_temp) = c(\"predict\")\n",
    "    model_temp$binary = rep(\"F\", nrow(model_temp))\n",
    "    model_temp$binary[model_temp$predict > 0.5] = \"M\"\n",
    "\n",
    "    confusion = data.frame(model_temp$binary, d1$Gender[index])\n",
    "    colnames(confusion) = c(\"predicted\", \"actual\")\n",
    "    mean(confusion$actual == confusion$predicted)\n",
    "}\n",
    "\n",
    "#boot = boot(d1, boot.fn, R=1000)\n",
    "boot\n",
    "hist(boot$t[,1])\n",
    "mean(boot$t) - 2*sd(boot$t)\n",
    "mean(boot$t) + 2*sd(boot$t)"
   ]
  },
  {
   "cell_type": "markdown",
   "metadata": {
    "id": "RflF_i36n8O2"
   },
   "source": [
    "How robust is the prediction accuracy of the full model?"
   ]
  },
  {
   "cell_type": "markdown",
   "metadata": {
    "id": "JDM2tpBMn8O2"
   },
   "source": [
    "> The bootstrap mean is 0.8203, which is the same as our full model prediction accuracy. The standard deviation is within the single digits (of percentage). Our confidence interval for prediction accuracy is 0.7967 to 0.8440.  I would say that the prediction accuracy for the full model is robust."
   ]
  },
  {
   "cell_type": "markdown",
   "metadata": {
    "id": "jZVWq9SVn8O2"
   },
   "source": [
    "---\n",
    "## 4. Permutation test for grey matter effects (3 points)\n",
    "\n",
    "Now run a permutation test, with 1000 iterations, to evaluate how much grey matter volume contributes to the prediction accuracy. Compare the prediction accuracy of the full (unpermuted model) with the distribution of accuracies you get with a randomized grey matter volume term using a histogram (Hint: use the `abline` function to show the original accuracy on the histogram)."
   ]
  },
  {
   "cell_type": "code",
   "execution_count": 82,
   "metadata": {
    "id": "SmtoqASUn8O2",
    "vscode": {
     "languageId": "r"
    }
   },
   "outputs": [
    {
     "data": {
      "text/html": [
       "0.805271338724169"
      ],
      "text/latex": [
       "0.805271338724169"
      ],
      "text/markdown": [
       "0.805271338724169"
      ],
      "text/plain": [
       "[1] 0.8052713"
      ]
     },
     "metadata": {},
     "output_type": "display_data"
    },
    {
     "data": {
      "image/png": "[encoded data removed]",
      "text/plain": [
       "Plot with title \"Histogram of perm.acc\""
      ]
     },
     "metadata": {
      "image/png": {
       "height": 420,
       "width": 420
      }
     },
     "output_type": "display_data"
    }
   ],
   "source": [
    "# WRITE YOUR CODE HERE\n",
    "# permd1 = d1\n",
    "# R = 1000\n",
    "# perm.acc = rep(NA, R)\n",
    "\n",
    "# for (i in 1:R){\n",
    "#     permd1$FS_Total_GM_Vol = d1$FS_Total_GM_Vol[sample(nrow(d1))]\n",
    "#     glm_temp = glm(Gender ~ FS_IntraCranial_Vol + FS_Tot_WM_Vol + FS_Total_GM_Vol, data=permd1, family=binomial)\n",
    "    \n",
    "#     model_temp = data.frame(predict(glm_temp, permd1, type=\"response\"))\n",
    "#     colnames(model_temp) = c(\"predict\")\n",
    "#     model_temp$binary = rep(\"F\", nrow(model_temp))\n",
    "#     model_temp$binary[model_temp$predict > 0.5] = \"M\"\n",
    "\n",
    "#     confusion_temp = data.frame(model_temp$binary, permd1$Gender)\n",
    "#     colnames(confusion_temp) = c(\"predicted\", \"actual\")\n",
    "#     table(confusion_temp)\n",
    "#     perm.acc[i] = mean(confusion_temp$actual == confusion_temp$predicted)\n",
    "# }\n",
    "\n",
    "hist(perm.acc, breaks = seq(0.79, 0.85, 0.001)) #abline went past the original x-axis so I had to change the breaks\n",
    "abline(v=mean(confusion$actual == confusion$predicted), col='red')\n",
    "mean(perm.acc)"
   ]
  },
  {
   "cell_type": "markdown",
   "metadata": {
    "id": "lMCPgckCn8O3"
   },
   "source": [
    "How much does the grey matter volume influence the prediction accuracy of the model?"
   ]
  },
  {
   "cell_type": "markdown",
   "metadata": {
    "id": "jNk69mfmn8O4"
   },
   "source": [
    "> Gray matter seems to have a significant influence on prediction accuracy. However that influence does not appear to be very large as it seems the mean prediction accuracy without gray matter is 0.805 compared to the full model mean (0.8203)"
   ]
  },
  {
   "cell_type": "markdown",
   "metadata": {
    "id": "E827AOcUn8O4"
   },
   "source": [
    "---\n",
    "## 5. Reflection (1 point)\n",
    "\n",
    "Differentiate the bootstrap from a permutation test. Describe each and when is it appropriate to each."
   ]
  },
  {
   "cell_type": "markdown",
   "metadata": {
    "id": "wVcR2qaOn8O4"
   },
   "source": [
    "> Bootstrapping is a method of creating \"new data\" from existing data by sampling with replacement in order to create confidence intervals for model parameters. Permutation tests destroy any relationship between certain variables by randomizing the (relevant) explanatory variables -- this way we can create a null distribution so we can perform hypothesis tests on model parameters."
   ]
  },
  {
   "cell_type": "markdown",
   "metadata": {
    "id": "8PoekVTAn8O4"
   },
   "source": [
    "**DUE:** 5pm EST, March 29, 2023"
   ]
  },
  {
   "cell_type": "markdown",
   "metadata": {
    "id": "PTVa2-bEn8O4"
   },
   "source": [
    "**IMPORTANT** Did you collaborate with anyone on this assignment? If so, list their names here. \n",
    "> *Someone's Name*"
   ]
  }
 ],
 "metadata": {
  "colab": {
   "provenance": []
  },
  "kernelspec": {
   "display_name": "R",
   "language": "R",
   "name": "ir"
  },
  "language_info": {
   "codemirror_mode": "r",
   "file_extension": ".r",
   "mimetype": "text/x-r-source",
   "name": "R",
   "pygments_lexer": "r",
   "version": "4.2.1"
  }
 },
 "nbformat": 4,
 "nbformat_minor": 1
}
