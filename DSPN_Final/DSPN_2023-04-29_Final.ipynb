{
 "cells": [
  {
   "cell_type": "markdown",
   "id": "98ce0623",
   "metadata": {},
   "source": [
    "# The Land Plan - Finding the Optimal Number of Lands to Play in Magic: The Gathering\n",
    "  \n",
    "by David Phan"
   ]
  },
  {
   "cell_type": "markdown",
   "id": "ace9d9ae",
   "metadata": {},
   "source": [
    "# Background\n",
    "\n",
    "## What is this about?\n",
    "\n",
    "Let me start by trying to explain what Magic: the Gathering is.\n",
    "  \n",
    "Magic: the Gathering, also called Magic or MTG, is a card game where players build decks with cards that represent spells, creatures, and lands in order to defeat their opponents. It is usually played between two players, who both start with 20 life and 7 cards in hand. The goal for both players is to bring their opponent's life down to 0. Gameplay works in alternating turns. During their turn, players can do things like play lands, spend mana to play spells or creatures, and attack with creatures they've played.  \n",
    "  \n",
    "There are many different types of cards, but the most important one is land. Why? Because they provide the mana necessary to play your other cards! However, they tend not to do too much on their own.  \n",
    "  \n",
    "This creates an interesting problem. You can only play cards that you have drawn, and aside from the seven that you start with, you only draw one card each turn. If you draw too few lands, you can't play your other cards. However, if you draw too many lands, you won't have many other cards to play at all.  \n",
    "  \n",
    "From this predicament, a fundamental deckbuilding question arises: how many lands do you put in your deck? What is the optimal number that will minimize the risk of you drawing too few or too many? What'll make Goldilocks happy? That's what I set to find out.  \n",
    "  \n",
    "## Why should I care?\n",
    "  \n",
    "That's a good question!  \n",
    "  \n",
    "...  \n",
    "...  \n",
    "...  \n",
    "<br>\n",
    "  \n",
    "In all seriousness, I think that if you are someone who plays MTG and wants to build better decks, this will be a useful read. Even if you don't play Magic, I think that this can help people analyze other card games with similar gameplay rules or those interested in the more scientific aspects of game design.\n",
    "  \n",
    "## Hasn't someone done this before?\n",
    "  \n",
    "Yes! If you're a competitive Magic player, you've probably heard of Frank Karsten. He's a professional Magic player most known for his statistical analyses. In fact, his article [\"How Many Lands Do You Need in Your Deck?\"](https://strategy.channelfireball.com/home/how-many-lands-do-you-need-in-your-deck-an-updated-analysis/) is the direct inspiration for this!  \n",
    "  \n",
    "While his analysis is excellent, it does not account for deck format or archetype (more on that below). In addition, it relies on winrate, which is limited and prone to random variation, to filter out less competitive decks. I was curious if these factors would matter, and that is my motivation for this analysis."
   ]
  },
  {
   "cell_type": "markdown",
   "id": "47152338",
   "metadata": {},
   "source": [
    "# VARIABLES\n",
    "\n",
    "## Categorical:\n",
    "- **deck**: unique deck name  \n",
    "- **companion**: presence of companion in sideboard  \n",
    "- **archetype**: type of deck  \n",
    "- **format**: type of format  \n",
    "\n",
    "## Quantitative:\n",
    "- **lands**: number of lands in decklist  \n",
    "- **mdfcs**: number of modal dual faced lands in decklist  \n",
    "- **cantrips**: number of cantrips in decklist  \n",
    "- **ramp**: number of ramp cards in deck  \n",
    "- **other**: number of other nonland cards in deck  \n",
    "- **decksize**: number of cards in deck  \n",
    "- **MV**: average mana value (cost) of nonland cards  \n",
    "  \n",
    "As you can see, Magic has a lot of jargon, which makes it a bit difficult to explain to people that have never played it. I will do my best to do so here.  \n",
    "<br>\n",
    "  \n",
    "### Companions\n",
    "  \n",
    "Companions are a special type of card. You can play them as normal cards in your deck just like any other card. However, if you meet certain deckbuilding requirements (for example, Yorion asks that your deck is at least 80 cards rather than 60), you can begin the game with it in your companion zone. While it's in there, it can't be used. However, during any one of your turns, you can pay 3 mana to put your companion into your hand. After that, it acts as a normal card in your hand; you still have to pay its mana value in order to play it. In this sense, decks with companions can be sure that they will have an expensive card to play, which should in theory lead to including more lands.  \n",
    "<br>\n",
    "  \n",
    "<img src=\"Images/companion.jpg\" width=\"250\" height=\"Auto\">\n",
    "<br>\n",
    "  \n",
    "### Archetypes\n",
    "  \n",
    "Magic: the Gathering has many cards, and there are many potential decks you can create. These decks (at least the ones built to win) can be categorized into various gameplay strategies, also known as archetypes. The two I will be looking at are aggro decks and control decks.  \n",
    "  \n",
    "**Aggro** (short for aggressive) decks want to bring their opponent's life down to 0 as soon as possible. They tend to do this by playing many cheap creatures, and as such do not need many lands to play all their cards. Since they want to end the game quickly, they are not planning to draw many cards, which makes the cards they do draw matter all the more. While other decks can handle drawing a few extra lands, for an aggro deck, drawing just one extra land rather than a relevant card can stop them from winning before their opponent turns the tables.\n",
    "  \n",
    "**Control** decks want to survive as long as possible. They do this by playing spells that let them control what their opponent does. At the same time, they also try to accumulate resources, typically by drawing cards, so that as time goes on, they have more and more while their opponent have less and less. They plan on drawing many cards *and* having the resources to play these cards, so they tend to be fine with drawing a few extra lands. However, if they don't draw enough lands early on, they may be unable to play the cards that would stop more aggressive opponents from overunning them.  \n",
    "<br>\n",
    "  \n",
    "### Formats\n",
    "  \n",
    "Formats are an additional set of rules that people agree to abide by. There are many formats, but they can generally be categorized into the following groups:  \n",
    "  \n",
    "**Rotating** formats allow you to only play cards from a recent period of time (usually ~2 years). As time passes, new cards will enter, and old cards will leave, like a revolving door.  \n",
    "  \n",
    "**Nonrotating** formats, on the other hand, do not restrict cards to the past X years. Instead, they allow you to play cards from a certain timepoint onwards. So new cards will enter, but old cards will not leave (unless they're banned).  \n",
    "  \n",
    "Rotating formats tend to be slower than nonrotating ones. Rotating formats are typically \"turn five formats,\" which means that turn five is usually the turn where it becomes obvious who will win. Nonrotating formats are at most turn four formats. Knowledge of this may incentivize people to play more or less lands depending on the speed of the format.  \n",
    "<br>\n",
    "  \n",
    "### MDFCs\n",
    "  \n",
    "MDFC stands for \"modal dual-faced card.\" In this context, these are cards that you can play as either a land or a spell. To compensate for this flexibility, the land and spell are both worse than what could normally get, so it's not a great idea to count these cards as full lands.  \n",
    "<br>\n",
    "  \n",
    "<img src=\"Images/MDFC.webp\" width=\"500\" height=\"Auto\">\n",
    "<br>\n",
    "  \n",
    "### Ramp\n",
    "  \n",
    "Normally, you can only play one land a turn. That means a player will have access to one mana on turn one, two mana on turn two, and so on and so forth until they run out of lands to play. However, some cards let you accumulate resources faster than that. These are known as ramp cards. Getting more resources faster is great, but ramp cards are usually fragile or costly in some way to compensate, so much like MDFCs, they don't quite count as a full land.  \n",
    "<br>\n",
    "  \n",
    "<img src=\"Images/ramp.jpg\" width=\"250\" height=\"Auto\">\n",
    "<br>\n",
    "  \n",
    "### Cantrips\n",
    "A cantrip is a cheap card that draws a card. Many people play cantrips to ensure that they can draw lands, thus reducing the number of lands they need to put in their deck.\n",
    "<br>\n",
    "  \n",
    "<img src=\"Images/cantrip.jpg\" width=\"250\" height=\"Auto\">\n",
    "<br>\n",
    "  \n",
    "## Data Collection:\n",
    "4451 decklists were collected by scraping search results from mtgtop8.com, a website that collects tournament data. Data was gathered for the following formats: Standard, Pioneer, Alchemy, Historic, and Explorer. These formats were chosen because they are 1) popular, 2) share similar rulesets, and 3) do not contain many cards that break important assumptions (mana value reflects actual cost, lands add one mana, etc.)\n",
    "\n",
    "Only decklists from March 2021 onward were collected. This was chosen because cards that *did* break fundamental assumptions had just been banned from Pioneer. In addition, only decklists submitted for \"major\" or \"professional\" events were collected, in order to ensure that decks were built with a competitive mindset.\n",
    "\n",
    "A database of cards legal in the formats was also collected via api.scryfall.com. This was done to attach mana values and types to the decklists, which only had card names and counts. I used Frank Karsten's definitions to determine what counted as cantrips or ramp.  \n",
    "  \n",
    "After that, decklist text was read, matched with cards in the card database, and categorized into variable info. These variables were then written into a CSV file.\n",
    "  \n",
    "Here is the Python code for mtgtop8:"
   ]
  },
  {
   "cell_type": "code",
   "execution_count": 2,
   "id": "504a119f",
   "metadata": {},
   "outputs": [],
   "source": [
    "# import regex, os, requests\n",
    "# from bs4 import BeautifulSoup\n",
    "\n",
    "# #inputs for search form\n",
    "# inputs = {\n",
    "#     'compet_check[P]' : 'checked',\n",
    "#     'compet_check[M]' : 'checked',\n",
    "#     'date_start' : '01/03/2021',\n",
    "#     'format' : 'ST',\n",
    "#     'current_page' : 1\n",
    "#     }\n",
    "# formats = ['ST','EXP','PI''HI','ALCH']\n",
    "\n",
    "# #get deck ids\n",
    "# deck_ids = {}\n",
    "# for f in formats:\n",
    "#     inputs['format'] = f\n",
    "#     deck_ids[f] = []\n",
    "#     #loop through pages\n",
    "#     for page in range(1,70):\n",
    "#         inputs['current_page'] = page\n",
    "#         #extract deck ids\n",
    "#         html = requests.post('https://mtgtop8.com/search',data=inputs)\n",
    "#         soup = BeautifulSoup(html.content, 'html.parser')\n",
    "#         tables = soup.findAll('table')\n",
    "#         deck_ids[f].extend(regex.findall(\"event\\?e=.+d=.+(?=\\\")\",\n",
    "#                             str(tables[2])))\n",
    "\n",
    "# #fix ampersands\n",
    "# for format in deck_ids:\n",
    "#     for i in range(len(deck_ids[format])):\n",
    "#         deck_ids[format][i] = deck_ids[format][i].replace('amp;','')\n",
    "\n",
    "# #retrieve decklists using deck ids\n",
    "# os.chdir(r\"DSPN_Final\\Data\\Decks\")\n",
    "# for format in deck_ids:\n",
    "#     n = 1\n",
    "#     for id in deck_ids[format]:\n",
    "#         #get deck archetype\n",
    "#         html = requests.get('https://mtgtop8.com/' + id)\n",
    "#         soup = BeautifulSoup(html.content,'html.parser')\n",
    "#         arche = regex.findall('(?<=archetype.+>).+(?= decks)',str(soup))\n",
    "#         if len(arche) == 0:\n",
    "#             arche = \"Other\"\n",
    "#         else:\n",
    "#             arche = arche[0]\n",
    "#             arche = arche.replace(\"/\",\"or\")\n",
    "#             arche = arche.replace(\"-\",\"\")\n",
    "#             arche = arche.replace(\" \",\"\")\n",
    "#         #retrieve decklist\n",
    "#         url = 'https://mtgtop8.com/mtgo?' + id.split('&',1)[1]\n",
    "#         req = requests.get(url,allow_redirects=True)\n",
    "#         name = format + str(n) + \"_\" + arche\n",
    "#         open(name,'wb').write(req.content)\n",
    "#         print(name)\n",
    "#         n += 1"
   ]
  },
  {
   "cell_type": "markdown",
   "id": "b0653944",
   "metadata": {},
   "source": [
    "Here is the scryfall code:"
   ]
  },
  {
   "cell_type": "code",
   "execution_count": 3,
   "id": "f55a6982",
   "metadata": {},
   "outputs": [],
   "source": [
    "# import os, requests, json\n",
    "\n",
    "# os.chdir(r\"DSPN_Final\\Data\")\n",
    "\n",
    "# #retrieve cards\n",
    "# def gather(link,dict):\n",
    "#     data = requests.get(link)\n",
    "#     data = data.json()\n",
    "#     #add card name and mana value to cards\n",
    "#     for card in data['data']:\n",
    "#         name = card['name'].split(\" // \")[0]\n",
    "#         mv = card['cmc']\n",
    "#         if (name not in cards.values()) or (dict == cards['companion']):\n",
    "#             dict[name] = mv\n",
    "#     #go to the next page if there is one, otherwise stop\n",
    "#     if data['has_more'] == False:\n",
    "#         return\n",
    "#     else:\n",
    "#         gather(data['next_page'],dict)\n",
    "\n",
    "# #create dictionary\n",
    "# cards = {}\n",
    "# cards['lands'] = {}\n",
    "# cards['mdfcs'] = {}\n",
    "# cards['cantrips'] = {}\n",
    "# cards['ramp'] = {}\n",
    "# cards['other'] = {}\n",
    "# cards['companions'] = {}\n",
    "\n",
    "# #get normal lands\n",
    "# link = \"https://api.scryfall.com/cards/search?q=(legal:pioneer+or+banned:pioneer+or+legal:historic+or+banned:historic)+t:land+mv:0&order=name\"\n",
    "# gather(link,cards['lands'])\n",
    "\n",
    "# #get mdfc lands\n",
    "# link = \"https://api.scryfall.com/cards/search?q=is:mdfc+t:land+mv>0&order=name\"\n",
    "# gather(link,cards['mdfcs'])\n",
    "\n",
    "# #get cantrips\n",
    "# link = \"https://api.scryfall.com/cards/search?q=(legal:pioneer+or+banned:pioneer+or+legal:historic+or+banned:historic)+t:creature+mv<=2+fo:'when'+fo:'enters'+fo:'draw'+-fo:'investigate'+-fo:'blood'&order=name\"\n",
    "# gather(link,cards['cantrips'])\n",
    "\n",
    "# link = \"https://api.scryfall.com/cards/search?q=(legal:pioneer+or+banned:pioneer+or+legal:historic+or+banned:historic)+-t:creature+-t:land+mv<=2+((fo:'look'+fo:'library'+fo:'put'+fo:'hand'+-fo:'pay')+or+(fo:'draw'+-fo:'investigate'+-fo:'blood'))&order=name\"\n",
    "# gather(link,cards['cantrips'])\n",
    "\n",
    "# link = \"https://api.scryfall.com/cards/search?q=(legal:pioneer+or+banned:pioneer+or+legal:historic+or+banned:historic)+(fo:'cycling+{1}+'+or+fo:'cycling+{w}'+or+fo:'cycling+{u}'+or+fo:'cycling+{b}'+or+fo:'cycling+{r}'+or+fo:'cycling+{g})&order=name\"\n",
    "# gather(link,cards['cantrips'])\n",
    "\n",
    "# #get ramp cards\n",
    "# link = \"https://api.scryfall.com/cards/search?q=(legal:pioneer+or+banned:pioneer+or+legal:historic+or+banned:historic)+mv<=2+-t:land+is:permanent+fo:'add+'+-fo:'add+its+ability'+-fo:'add+a+lore+counter'+-fo:'dies'&order=name\"\n",
    "# gather(link,cards['ramp'])\n",
    "\n",
    "# link = \"https://api.scryfall.com/cards/search?q=(legal:pioneer+or+banned:pioneer+or+legal:historic+or+banned:historic)+mv<=2+-t:land+((fo:'search'+fo:'library'+(fo:'land'+or+fo:'basic')+-fo:'sacrifice')+or+(fo:'enchanted+land+is+tapped'+fo:'adds+an+additional')+or+(fo:'put+a+creature+card+with'+fo:'from+your+hand+onto+the+battlefield'))&order=name\"\n",
    "# gather(link,cards['ramp'])\n",
    "\n",
    "# #get everything else\n",
    "# link = \"https://api.scryfall.com/cards/search?q=(legal:pioneer+or+banned:pioneer+or+legal:historic+or+banned:historic)&order=name\"\n",
    "# gather(link,cards['other'])\n",
    "\n",
    "# #get companions, they're a little weird since they're technically put in the sideboard\n",
    "# link = \"https://api.scryfall.com/cards/search?q=is:companion&order=name\"\n",
    "# gather(link,cards['companions'])\n",
    "\n",
    "# #export list\n",
    "# json_cards = json.dumps(cards,indent=4)\n",
    "# with open(\"RelevantCards\",'w') as file:\n",
    "#     file.write(json_cards)"
   ]
  },
  {
   "cell_type": "markdown",
   "id": "22683122",
   "metadata": {},
   "source": [
    "And here is the variable code:"
   ]
  },
  {
   "cell_type": "code",
   "execution_count": 4,
   "id": "c952fc0c",
   "metadata": {},
   "outputs": [],
   "source": [
    "# import csv, json, os, regex\n",
    "# import pandas as pd\n",
    "\n",
    "# os.chdir(\"DSPN_Final/Data\")\n",
    "# with open(\"RelevantCards\") as file:\n",
    "#     cards = json.load(file)\n",
    "\n",
    "# #get correct MV category\n",
    "# def MV_cat(cat,card):\n",
    "#     if float(cards[cat][card]) >= 6:\n",
    "#         return 'MV6+'\n",
    "#     else:\n",
    "#         return 'MV' + str(int(cards[cat][card]))\n",
    "\n",
    "# #analyze decklist\n",
    "# def categorize(deck):\n",
    "#     dict = {}\n",
    "#     dict['lands'] = 0\n",
    "#     dict['mdfcs'] = 0\n",
    "#     dict['cantrips'] = 0\n",
    "#     dict['ramp'] = 0\n",
    "#     dict['other'] = 0\n",
    "#     dict['companion'] = 0\n",
    "#     dict['decksize'] = 0\n",
    "#     dict['MV'] = 0\n",
    "#     dict['MV0'] = 0\n",
    "#     dict['MV1'] = 0\n",
    "#     dict['MV2'] = 0\n",
    "#     dict['MV3'] = 0\n",
    "#     dict['MV4'] = 0\n",
    "#     dict['MV5'] = 0\n",
    "#     dict['MV6+'] = 0\n",
    "#     #split mainboard and sideboard\n",
    "#     if 'Sideboard' in deck:\n",
    "#         mainboard = deck[:deck.index('Sideboard')]\n",
    "#         sideboard = deck[deck.index('Sideboard')+1:]\n",
    "#     else:\n",
    "#         mainboard = deck\n",
    "#         sideboard = []\n",
    "#     #categorize cards in mainboard\n",
    "#     for line in mainboard:\n",
    "#         count = float(line.split(\" \",1)[0])\n",
    "#         card = line.split(\" \",1)[1]\n",
    "#         card = card.split(\" / \")[0]\n",
    "#         dict['decksize'] += count\n",
    "#         for cat in cards:\n",
    "#             if card in cards[cat]:\n",
    "#                 dict[cat] += float(count)\n",
    "#                 dict[MV_cat(cat,card)] += float(count)\n",
    "#                 dict['MV'] += count * float(cards[cat][card])\n",
    "#                 break\n",
    "#     #check for companion\n",
    "#     for line in sideboard:\n",
    "#         card = line.split(\" \",1)[1]\n",
    "#         if card in cards['companions']:\n",
    "#             dict['companion'] = 1\n",
    "#             break\n",
    "#     return list(dict.values())\n",
    "\n",
    "\n",
    "# #categorize training set decklists\n",
    "# deck_data = pd.DataFrame(columns = ['lands',\n",
    "#                                 'mdfcs',\n",
    "#                                 'cantrips',\n",
    "#                                 'ramp',\n",
    "#                                 'other',\n",
    "#                                 'companion',\n",
    "#                                 'decksize',\n",
    "#                                 'MV',\n",
    "#                                 'MV0',\n",
    "#                                 'MV1',\n",
    "#                                 'MV2',\n",
    "#                                 'MV3',\n",
    "#                                 'MV4',\n",
    "#                                 'MV5',\n",
    "#                                 'MV6plus',\n",
    "#                                 'archetype',\n",
    "#                                 'format'])\n",
    "\n",
    "# for filename in os.listdir(\"Decks\"):\n",
    "#     decklist = open(\"Decks/\" + filename)\n",
    "#     decklist = decklist.readlines()\n",
    "#     #remove newlines\n",
    "#     decklist = [line.replace('\\n', '') for line in decklist]\n",
    "#     split = regex.split(\"\\d+_\",filename)\n",
    "#     arche = split[1]\n",
    "#     format = split[0]\n",
    "#     deck_data.loc[filename] = categorize(decklist) + [arche] + [format]\n",
    "\n",
    "# filename = \"deck_data\"\n",
    "# deck_data.to_csv(filename)"
   ]
  },
  {
   "cell_type": "markdown",
   "id": "b39673d4",
   "metadata": {},
   "source": [
    "# HYPOTHESIS\n",
    "I hypothesize that there will be a linear relationship between the number of lands played and the mana value; the number of mdfcs, cantrips, and ramp cards; the presence of a companion; and the deck archetype and format.  \n",
    "<br>\n",
    "  \n",
    "$$Lands = B_0 + B_1MV - B_2mdfcs - B_3cantrips - B_4ramp + B_5I_{companion} + B_6I_{control} + B_7I_{rotating}$$\n",
    "<br>\n",
    "  \n",
    "Linear regression was chosen based on previous literature by Frank Karsten. Also, this analysis will focus more on prediction than inference."
   ]
  },
  {
   "cell_type": "markdown",
   "id": "f22bb87e",
   "metadata": {},
   "source": [
    "# DATA ORGANIZATION\n",
    "  \n",
    "1. Retrieve relevant data\n",
    "2. Categorize deck archetypes\n",
    "3. Remove irrelevant archetypes\n",
    "4. Categorize formats\n",
    "5. Account for decksize\n",
    "6. Factor categorical variables\n",
    "7. Check for NAs\n",
    "8. Final table\n",
    "  \n",
    "## 1. Retrieve relevant data"
   ]
  },
  {
   "cell_type": "code",
   "execution_count": 5,
   "id": "fd8fde87",
   "metadata": {},
   "outputs": [
    {
     "name": "stderr",
     "output_type": "stream",
     "text": [
      "Warning message:\n",
      "\"package 'tidyverse' was built under R version 4.2.2\"\n",
      "── \u001b[1mAttaching packages\u001b[22m ─────────────────────────────────────────────────────────────────────────────── tidyverse 1.3.2 ──\n",
      "\u001b[32m✔\u001b[39m \u001b[34mggplot2\u001b[39m 3.4.0      \u001b[32m✔\u001b[39m \u001b[34mpurrr  \u001b[39m 1.0.1 \n",
      "\u001b[32m✔\u001b[39m \u001b[34mtibble \u001b[39m 3.1.8      \u001b[32m✔\u001b[39m \u001b[34mdplyr  \u001b[39m 1.0.10\n",
      "\u001b[32m✔\u001b[39m \u001b[34mtidyr  \u001b[39m 1.2.1      \u001b[32m✔\u001b[39m \u001b[34mstringr\u001b[39m 1.4.1 \n",
      "\u001b[32m✔\u001b[39m \u001b[34mreadr  \u001b[39m 2.1.3      \u001b[32m✔\u001b[39m \u001b[34mforcats\u001b[39m 1.0.0 \n",
      "Warning message:\n",
      "\"package 'ggplot2' was built under R version 4.2.2\"\n",
      "Warning message:\n",
      "\"package 'tibble' was built under R version 4.2.2\"\n",
      "Warning message:\n",
      "\"package 'tidyr' was built under R version 4.2.2\"\n",
      "Warning message:\n",
      "\"package 'readr' was built under R version 4.2.2\"\n",
      "Warning message:\n",
      "\"package 'purrr' was built under R version 4.2.2\"\n",
      "Warning message:\n",
      "\"package 'dplyr' was built under R version 4.2.2\"\n",
      "Warning message:\n",
      "\"package 'forcats' was built under R version 4.2.2\"\n",
      "── \u001b[1mConflicts\u001b[22m ────────────────────────────────────────────────────────────────────────────────── tidyverse_conflicts() ──\n",
      "\u001b[31m✖\u001b[39m \u001b[34mdplyr\u001b[39m::\u001b[32mfilter()\u001b[39m masks \u001b[34mstats\u001b[39m::filter()\n",
      "\u001b[31m✖\u001b[39m \u001b[34mdplyr\u001b[39m::\u001b[32mlag()\u001b[39m    masks \u001b[34mstats\u001b[39m::lag()\n",
      "Warning message:\n",
      "\"package 'leaps' was built under R version 4.2.3\"\n",
      "Warning message:\n",
      "\"package 'boot' was built under R version 4.2.3\"\n",
      "Warning message:\n",
      "\"package 'GGally' was built under R version 4.2.2\"\n",
      "Registered S3 method overwritten by 'GGally':\n",
      "  method from   \n",
      "  +.gg   ggplot2\n",
      "\n"
     ]
    },
    {
     "data": {
      "text/html": [
       "<style>\n",
       ".list-inline {list-style: none; margin:0; padding: 0}\n",
       ".list-inline>li {display: inline-block}\n",
       ".list-inline>li:not(:last-child)::after {content: \"\\00b7\"; padding: 0 .5ex}\n",
       "</style>\n",
       "<ol class=list-inline><li>'X'</li><li>'lands'</li><li>'mdfcs'</li><li>'cantrips'</li><li>'ramp'</li><li>'other'</li><li>'companion'</li><li>'decksize'</li><li>'MV'</li><li>'MV0'</li><li>'MV1'</li><li>'MV2'</li><li>'MV3'</li><li>'MV4'</li><li>'MV5'</li><li>'MV6.'</li><li>'archetype'</li><li>'format'</li></ol>\n"
      ],
      "text/latex": [
       "\\begin{enumerate*}\n",
       "\\item 'X'\n",
       "\\item 'lands'\n",
       "\\item 'mdfcs'\n",
       "\\item 'cantrips'\n",
       "\\item 'ramp'\n",
       "\\item 'other'\n",
       "\\item 'companion'\n",
       "\\item 'decksize'\n",
       "\\item 'MV'\n",
       "\\item 'MV0'\n",
       "\\item 'MV1'\n",
       "\\item 'MV2'\n",
       "\\item 'MV3'\n",
       "\\item 'MV4'\n",
       "\\item 'MV5'\n",
       "\\item 'MV6.'\n",
       "\\item 'archetype'\n",
       "\\item 'format'\n",
       "\\end{enumerate*}\n"
      ],
      "text/markdown": [
       "1. 'X'\n",
       "2. 'lands'\n",
       "3. 'mdfcs'\n",
       "4. 'cantrips'\n",
       "5. 'ramp'\n",
       "6. 'other'\n",
       "7. 'companion'\n",
       "8. 'decksize'\n",
       "9. 'MV'\n",
       "10. 'MV0'\n",
       "11. 'MV1'\n",
       "12. 'MV2'\n",
       "13. 'MV3'\n",
       "14. 'MV4'\n",
       "15. 'MV5'\n",
       "16. 'MV6.'\n",
       "17. 'archetype'\n",
       "18. 'format'\n",
       "\n",
       "\n"
      ],
      "text/plain": [
       " [1] \"X\"         \"lands\"     \"mdfcs\"     \"cantrips\"  \"ramp\"      \"other\"    \n",
       " [7] \"companion\" \"decksize\"  \"MV\"        \"MV0\"       \"MV1\"       \"MV2\"      \n",
       "[13] \"MV3\"       \"MV4\"       \"MV5\"       \"MV6.\"      \"archetype\" \"format\"   "
      ]
     },
     "metadata": {},
     "output_type": "display_data"
    },
    {
     "data": {
      "text/html": [
       "<table class=\"dataframe\">\n",
       "<caption>A data.frame: 6 × 11</caption>\n",
       "<thead>\n",
       "\t<tr><th></th><th scope=col>deck</th><th scope=col>lands</th><th scope=col>mdfcs</th><th scope=col>cantrips</th><th scope=col>ramp</th><th scope=col>other</th><th scope=col>companion</th><th scope=col>decksize</th><th scope=col>MV</th><th scope=col>archetype</th><th scope=col>format</th></tr>\n",
       "\t<tr><th></th><th scope=col>&lt;chr&gt;</th><th scope=col>&lt;dbl&gt;</th><th scope=col>&lt;dbl&gt;</th><th scope=col>&lt;dbl&gt;</th><th scope=col>&lt;dbl&gt;</th><th scope=col>&lt;dbl&gt;</th><th scope=col>&lt;int&gt;</th><th scope=col>&lt;dbl&gt;</th><th scope=col>&lt;dbl&gt;</th><th scope=col>&lt;chr&gt;</th><th scope=col>&lt;chr&gt;</th></tr>\n",
       "</thead>\n",
       "<tbody>\n",
       "\t<tr><th scope=row>1</th><td>ALCH100_WeenieWhite</td><td>21</td><td>0</td><td> 0</td><td>0</td><td>35</td><td>0</td><td>60</td><td>90</td><td>WeenieWhite</td><td>ALCH</td></tr>\n",
       "\t<tr><th scope=row>2</th><td>ALCH101_NayaAggro  </td><td>23</td><td>0</td><td>16</td><td>0</td><td>21</td><td>0</td><td>60</td><td>80</td><td>NayaAggro  </td><td>ALCH</td></tr>\n",
       "\t<tr><th scope=row>3</th><td>ALCH102_WeenieWhite</td><td>22</td><td>0</td><td> 0</td><td>0</td><td>30</td><td>0</td><td>60</td><td>78</td><td>WeenieWhite</td><td>ALCH</td></tr>\n",
       "\t<tr><th scope=row>4</th><td>ALCH103_GruulAggro </td><td>24</td><td>0</td><td> 0</td><td>0</td><td>33</td><td>0</td><td>60</td><td>76</td><td>GruulAggro </td><td>ALCH</td></tr>\n",
       "\t<tr><th scope=row>5</th><td>ALCH104_WeenieWhite</td><td>22</td><td>0</td><td> 0</td><td>0</td><td>35</td><td>0</td><td>61</td><td>85</td><td>WeenieWhite</td><td>ALCH</td></tr>\n",
       "\t<tr><th scope=row>6</th><td>ALCH105_WeenieWhite</td><td>20</td><td>0</td><td> 0</td><td>0</td><td>36</td><td>0</td><td>60</td><td>81</td><td>WeenieWhite</td><td>ALCH</td></tr>\n",
       "</tbody>\n",
       "</table>\n"
      ],
      "text/latex": [
       "A data.frame: 6 × 11\n",
       "\\begin{tabular}{r|lllllllllll}\n",
       "  & deck & lands & mdfcs & cantrips & ramp & other & companion & decksize & MV & archetype & format\\\\\n",
       "  & <chr> & <dbl> & <dbl> & <dbl> & <dbl> & <dbl> & <int> & <dbl> & <dbl> & <chr> & <chr>\\\\\n",
       "\\hline\n",
       "\t1 & ALCH100\\_WeenieWhite & 21 & 0 &  0 & 0 & 35 & 0 & 60 & 90 & WeenieWhite & ALCH\\\\\n",
       "\t2 & ALCH101\\_NayaAggro   & 23 & 0 & 16 & 0 & 21 & 0 & 60 & 80 & NayaAggro   & ALCH\\\\\n",
       "\t3 & ALCH102\\_WeenieWhite & 22 & 0 &  0 & 0 & 30 & 0 & 60 & 78 & WeenieWhite & ALCH\\\\\n",
       "\t4 & ALCH103\\_GruulAggro  & 24 & 0 &  0 & 0 & 33 & 0 & 60 & 76 & GruulAggro  & ALCH\\\\\n",
       "\t5 & ALCH104\\_WeenieWhite & 22 & 0 &  0 & 0 & 35 & 0 & 61 & 85 & WeenieWhite & ALCH\\\\\n",
       "\t6 & ALCH105\\_WeenieWhite & 20 & 0 &  0 & 0 & 36 & 0 & 60 & 81 & WeenieWhite & ALCH\\\\\n",
       "\\end{tabular}\n"
      ],
      "text/markdown": [
       "\n",
       "A data.frame: 6 × 11\n",
       "\n",
       "| <!--/--> | deck &lt;chr&gt; | lands &lt;dbl&gt; | mdfcs &lt;dbl&gt; | cantrips &lt;dbl&gt; | ramp &lt;dbl&gt; | other &lt;dbl&gt; | companion &lt;int&gt; | decksize &lt;dbl&gt; | MV &lt;dbl&gt; | archetype &lt;chr&gt; | format &lt;chr&gt; |\n",
       "|---|---|---|---|---|---|---|---|---|---|---|---|\n",
       "| 1 | ALCH100_WeenieWhite | 21 | 0 |  0 | 0 | 35 | 0 | 60 | 90 | WeenieWhite | ALCH |\n",
       "| 2 | ALCH101_NayaAggro   | 23 | 0 | 16 | 0 | 21 | 0 | 60 | 80 | NayaAggro   | ALCH |\n",
       "| 3 | ALCH102_WeenieWhite | 22 | 0 |  0 | 0 | 30 | 0 | 60 | 78 | WeenieWhite | ALCH |\n",
       "| 4 | ALCH103_GruulAggro  | 24 | 0 |  0 | 0 | 33 | 0 | 60 | 76 | GruulAggro  | ALCH |\n",
       "| 5 | ALCH104_WeenieWhite | 22 | 0 |  0 | 0 | 35 | 0 | 61 | 85 | WeenieWhite | ALCH |\n",
       "| 6 | ALCH105_WeenieWhite | 20 | 0 |  0 | 0 | 36 | 0 | 60 | 81 | WeenieWhite | ALCH |\n",
       "\n"
      ],
      "text/plain": [
       "  deck                lands mdfcs cantrips ramp other companion decksize MV\n",
       "1 ALCH100_WeenieWhite 21    0      0       0    35    0         60       90\n",
       "2 ALCH101_NayaAggro   23    0     16       0    21    0         60       80\n",
       "3 ALCH102_WeenieWhite 22    0      0       0    30    0         60       78\n",
       "4 ALCH103_GruulAggro  24    0      0       0    33    0         60       76\n",
       "5 ALCH104_WeenieWhite 22    0      0       0    35    0         61       85\n",
       "6 ALCH105_WeenieWhite 20    0      0       0    36    0         60       81\n",
       "  archetype   format\n",
       "1 WeenieWhite ALCH  \n",
       "2 NayaAggro   ALCH  \n",
       "3 WeenieWhite ALCH  \n",
       "4 GruulAggro  ALCH  \n",
       "5 WeenieWhite ALCH  \n",
       "6 WeenieWhite ALCH  "
      ]
     },
     "metadata": {},
     "output_type": "display_data"
    },
    {
     "data": {
      "text/html": [
       "<style>\n",
       ".list-inline {list-style: none; margin:0; padding: 0}\n",
       ".list-inline>li {display: inline-block}\n",
       ".list-inline>li:not(:last-child)::after {content: \"\\00b7\"; padding: 0 .5ex}\n",
       "</style>\n",
       "<ol class=list-inline><li>4451</li><li>11</li></ol>\n"
      ],
      "text/latex": [
       "\\begin{enumerate*}\n",
       "\\item 4451\n",
       "\\item 11\n",
       "\\end{enumerate*}\n"
      ],
      "text/markdown": [
       "1. 4451\n",
       "2. 11\n",
       "\n",
       "\n"
      ],
      "text/plain": [
       "[1] 4451   11"
      ]
     },
     "metadata": {},
     "output_type": "display_data"
    }
   ],
   "source": [
    "#load libraries\n",
    "library(tidyverse)\n",
    "library(leaps)\n",
    "library(boot)\n",
    "library(GGally)\n",
    "\n",
    "#get data\n",
    "df = read.csv(\"./Data/deck_data\")\n",
    "\n",
    "names(df)\n",
    "names(df)[names(df) == 'X'] <- 'deck'\n",
    "df = df %>% select(-MV0,-MV1,-MV2,-MV3,-MV4,-MV5,-MV6.)\n",
    "\n",
    "head(df)\n",
    "dim(df)"
   ]
  },
  {
   "cell_type": "markdown",
   "id": "54eafc24",
   "metadata": {},
   "source": [
    "## 2. Categorize deck archetypes\n",
    "  \n",
    "I wanted to categorize decks into aggro or control archetypes. For many decks, that was easy: \"Mono Green Aggro\" is clearly an aggro deck, and \"Blue White Control\" is clearly a control deck. However, there were also many decks with not so standard names. It's hard to tell what archetype \"Auras\" or \"Jund\" belongs to just by name.  \n",
    "  \n",
    "Unfortunately, I ended up categorizing unique decknames by hand. Mtgtop8 had them categorized properly, but I could not figure out how to extract that information."
   ]
  },
  {
   "cell_type": "code",
   "execution_count": 6,
   "id": "e1004c58",
   "metadata": {},
   "outputs": [
    {
     "data": {
      "text/html": [
       "<style>\n",
       ".list-inline {list-style: none; margin:0; padding: 0}\n",
       ".list-inline>li {display: inline-block}\n",
       ".list-inline>li:not(:last-child)::after {content: \"\\00b7\"; padding: 0 .5ex}\n",
       "</style>\n",
       "<ol class=list-inline><li>'WeenieWhite'</li><li>'Aggro'</li><li>'Control'</li><li>'Other'</li><li>'RedDeckWins'</li><li>'Jund'</li><li>'Combo'</li><li>'Dragons'</li><li>'Transmogrify'</li><li>'Greasefang'</li><li>'Angels'</li><li>'FiresofInvention'</li><li>'Humans'</li><li>'Auras'</li><li>'Goblins'</li><li>'ArclightPhoenix'</li><li>'Elves'</li><li>'Affinity'</li><li>'NivMizzetReborn'</li><li>'Enchantress'</li><li>'Dragonstorm'</li><li>'Merfolk'</li><li>'Creativity'</li><li>'KinnanEmry'</li><li>'JeskaiTurns'</li><li>'TaintedOracle'</li><li>'GreenRamp'</li><li>'JeskaiAscendancy'</li><li>'DevotiontoGreen'</li><li>'Winota'</li><li>'LotusField'</li><li>'OmnathRamp'</li><li>'GreasefangParhelion'</li><li>'NeoformAtraxa'</li><li>'Reanimator'</li><li>'Gyruda'</li></ol>\n"
      ],
      "text/latex": [
       "\\begin{enumerate*}\n",
       "\\item 'WeenieWhite'\n",
       "\\item 'Aggro'\n",
       "\\item 'Control'\n",
       "\\item 'Other'\n",
       "\\item 'RedDeckWins'\n",
       "\\item 'Jund'\n",
       "\\item 'Combo'\n",
       "\\item 'Dragons'\n",
       "\\item 'Transmogrify'\n",
       "\\item 'Greasefang'\n",
       "\\item 'Angels'\n",
       "\\item 'FiresofInvention'\n",
       "\\item 'Humans'\n",
       "\\item 'Auras'\n",
       "\\item 'Goblins'\n",
       "\\item 'ArclightPhoenix'\n",
       "\\item 'Elves'\n",
       "\\item 'Affinity'\n",
       "\\item 'NivMizzetReborn'\n",
       "\\item 'Enchantress'\n",
       "\\item 'Dragonstorm'\n",
       "\\item 'Merfolk'\n",
       "\\item 'Creativity'\n",
       "\\item 'KinnanEmry'\n",
       "\\item 'JeskaiTurns'\n",
       "\\item 'TaintedOracle'\n",
       "\\item 'GreenRamp'\n",
       "\\item 'JeskaiAscendancy'\n",
       "\\item 'DevotiontoGreen'\n",
       "\\item 'Winota'\n",
       "\\item 'LotusField'\n",
       "\\item 'OmnathRamp'\n",
       "\\item 'GreasefangParhelion'\n",
       "\\item 'NeoformAtraxa'\n",
       "\\item 'Reanimator'\n",
       "\\item 'Gyruda'\n",
       "\\end{enumerate*}\n"
      ],
      "text/markdown": [
       "1. 'WeenieWhite'\n",
       "2. 'Aggro'\n",
       "3. 'Control'\n",
       "4. 'Other'\n",
       "5. 'RedDeckWins'\n",
       "6. 'Jund'\n",
       "7. 'Combo'\n",
       "8. 'Dragons'\n",
       "9. 'Transmogrify'\n",
       "10. 'Greasefang'\n",
       "11. 'Angels'\n",
       "12. 'FiresofInvention'\n",
       "13. 'Humans'\n",
       "14. 'Auras'\n",
       "15. 'Goblins'\n",
       "16. 'ArclightPhoenix'\n",
       "17. 'Elves'\n",
       "18. 'Affinity'\n",
       "19. 'NivMizzetReborn'\n",
       "20. 'Enchantress'\n",
       "21. 'Dragonstorm'\n",
       "22. 'Merfolk'\n",
       "23. 'Creativity'\n",
       "24. 'KinnanEmry'\n",
       "25. 'JeskaiTurns'\n",
       "26. 'TaintedOracle'\n",
       "27. 'GreenRamp'\n",
       "28. 'JeskaiAscendancy'\n",
       "29. 'DevotiontoGreen'\n",
       "30. 'Winota'\n",
       "31. 'LotusField'\n",
       "32. 'OmnathRamp'\n",
       "33. 'GreasefangParhelion'\n",
       "34. 'NeoformAtraxa'\n",
       "35. 'Reanimator'\n",
       "36. 'Gyruda'\n",
       "\n",
       "\n"
      ],
      "text/plain": [
       " [1] \"WeenieWhite\"         \"Aggro\"               \"Control\"            \n",
       " [4] \"Other\"               \"RedDeckWins\"         \"Jund\"               \n",
       " [7] \"Combo\"               \"Dragons\"             \"Transmogrify\"       \n",
       "[10] \"Greasefang\"          \"Angels\"              \"FiresofInvention\"   \n",
       "[13] \"Humans\"              \"Auras\"               \"Goblins\"            \n",
       "[16] \"ArclightPhoenix\"     \"Elves\"               \"Affinity\"           \n",
       "[19] \"NivMizzetReborn\"     \"Enchantress\"         \"Dragonstorm\"        \n",
       "[22] \"Merfolk\"             \"Creativity\"          \"KinnanEmry\"         \n",
       "[25] \"JeskaiTurns\"         \"TaintedOracle\"       \"GreenRamp\"          \n",
       "[28] \"JeskaiAscendancy\"    \"DevotiontoGreen\"     \"Winota\"             \n",
       "[31] \"LotusField\"          \"OmnathRamp\"          \"GreasefangParhelion\"\n",
       "[34] \"NeoformAtraxa\"       \"Reanimator\"          \"Gyruda\"             "
      ]
     },
     "metadata": {},
     "output_type": "display_data"
    },
    {
     "data": {
      "text/html": [
       "<style>\n",
       ".list-inline {list-style: none; margin:0; padding: 0}\n",
       ".list-inline>li {display: inline-block}\n",
       ".list-inline>li:not(:last-child)::after {content: \"\\00b7\"; padding: 0 .5ex}\n",
       "</style>\n",
       "<ol class=list-inline><li>'Aggro'</li><li>'Control'</li><li>'Other'</li><li>'Combo'</li></ol>\n"
      ],
      "text/latex": [
       "\\begin{enumerate*}\n",
       "\\item 'Aggro'\n",
       "\\item 'Control'\n",
       "\\item 'Other'\n",
       "\\item 'Combo'\n",
       "\\end{enumerate*}\n"
      ],
      "text/markdown": [
       "1. 'Aggro'\n",
       "2. 'Control'\n",
       "3. 'Other'\n",
       "4. 'Combo'\n",
       "\n",
       "\n"
      ],
      "text/plain": [
       "[1] \"Aggro\"   \"Control\" \"Other\"   \"Combo\"  "
      ]
     },
     "metadata": {},
     "output_type": "display_data"
    }
   ],
   "source": [
    "#categorize archetypes into aggro, control, or combo\n",
    "df = df %>%\n",
    "  mutate(archetype=case_when(grepl(\"Aggro\",archetype) ~ 'Aggro',\n",
    "                            grepl(\"Control\",archetype) ~ 'Control',\n",
    "                            grepl(\"Combo\",archetype) ~ 'Combo',\n",
    "                            TRUE ~ archetype))\n",
    "\n",
    "#categorize unique archetypes\n",
    "#mtgtop8 categorizes these but I couldn't figure out how to extract that\n",
    "unique(df$archetype)\n",
    "df = df %>% mutate(archetype=case_when(\n",
    "    archetype %in% c(\"WeenieWhite\",\"DevotiontoGreen\",\"RedDeckWins\",\"Angels\",\n",
    "                    \"ArclightPhoenix\",\"Auras\",\"Elves\",\"Humans\",\"Dragons\",\n",
    "                    \"Goblins\",\"Affinity\",\"Merfolk\") ~ \"Aggro\",\n",
    "    archetype %in% c(\"FiresofInvention\",\"Jund\",\"OmnathRamp\",\n",
    "                     \"NivMizzetReborn\",\"GreenRamp\",\"Enchantress\") ~ \"Control\",\n",
    "    archetype %in% c(\"JeskaiAscendancy\",\"LotusField\",\"Winota\",\"Greasefang\",\n",
    "                    \"Creativity\",\"Transmogrify\",\"GreasefangParhelion\",\n",
    "                    \"Reanimator\",\"NeoformAtraxa\",\"Gyruda\",\"Dragonstorm\",\n",
    "                    \"KinnanEmry\",\"TaintedOracle\",\"JeskaiTurns\") ~ \"Combo\",\n",
    "    TRUE ~ archetype))\n",
    "\n",
    "unique(df$archetype)"
   ]
  },
  {
   "cell_type": "markdown",
   "id": "c7fd0c0d",
   "metadata": {},
   "source": [
    "## 3. Remove irrelevant archetypes\n",
    "\n",
    "After that, I wanted to drop decks that did not fit into those archetypes. Some decks did not have one assigned to them. Other decks were \"combo\" decks. These decks rely on playing multiple cards that work together in an \"unfair\" way (for example, having infinite mana). Because of that, I could not trust them to not violate my assumptions, so I chose to remove them."
   ]
  },
  {
   "cell_type": "code",
   "execution_count": 7,
   "id": "b52905ff",
   "metadata": {},
   "outputs": [],
   "source": [
    "#drop decks without relevant archetypes\n",
    "drop = which(df$archetype==\"Other\" | df$archetype==\"Combo\")\n",
    "df = df[-drop,]"
   ]
  },
  {
   "cell_type": "markdown",
   "id": "2220c985",
   "metadata": {},
   "source": [
    "## 4. Categorize formats\n",
    "\n",
    "I also wanted to categorize formats into rotating or nonrotating. While all the formats have their own unique cards, with the exception of rotating or nonroating, they are quite similar to each other."
   ]
  },
  {
   "cell_type": "code",
   "execution_count": 8,
   "id": "2602e941",
   "metadata": {},
   "outputs": [
    {
     "data": {
      "text/html": [
       "<style>\n",
       ".list-inline {list-style: none; margin:0; padding: 0}\n",
       ".list-inline>li {display: inline-block}\n",
       ".list-inline>li:not(:last-child)::after {content: \"\\00b7\"; padding: 0 .5ex}\n",
       "</style>\n",
       "<ol class=list-inline><li>'Rotating'</li><li>'Nonrotating'</li></ol>\n"
      ],
      "text/latex": [
       "\\begin{enumerate*}\n",
       "\\item 'Rotating'\n",
       "\\item 'Nonrotating'\n",
       "\\end{enumerate*}\n"
      ],
      "text/markdown": [
       "1. 'Rotating'\n",
       "2. 'Nonrotating'\n",
       "\n",
       "\n"
      ],
      "text/plain": [
       "[1] \"Rotating\"    \"Nonrotating\""
      ]
     },
     "metadata": {},
     "output_type": "display_data"
    }
   ],
   "source": [
    "#categorize formats\n",
    "df = df %>% mutate(format=case_when(format %in% c(\"ST\",\"ALCH\") ~ \"Rotating\",\n",
    "                                    TRUE ~ \"Nonrotating\"))\n",
    "unique(df$format)"
   ]
  },
  {
   "cell_type": "markdown",
   "id": "6fbed097",
   "metadata": {},
   "source": [
    "## 5. Account for decksize\n",
    "  \n",
    "I wanted to adjust for decksize as well. Even though decks require a minimum of 60 cards, aside from physical shuffling limits, there is no maximum limit. While the vast majority of decks played 60 cards, there were still many decks that played 80 cards due to Yorion (the card from the companion section). This would of course increase the card counts, so I divided all the counts by the decksize to account for that."
   ]
  },
  {
   "cell_type": "code",
   "execution_count": 9,
   "id": "6263f23d",
   "metadata": {},
   "outputs": [],
   "source": [
    "#control for decksize\n",
    "df = df %>%\n",
    "  mutate(MV=MV/(decksize-lands)) %>%\n",
    "  mutate(across(c(lands:other),~ .*60/decksize)) %>%\n",
    "  mutate(across(lands:other,round))"
   ]
  },
  {
   "cell_type": "markdown",
   "id": "58330173",
   "metadata": {},
   "source": [
    "## 6. Factor categorical variables"
   ]
  },
  {
   "cell_type": "code",
   "execution_count": 10,
   "id": "0400c1b0",
   "metadata": {},
   "outputs": [],
   "source": [
    "#make sure categorical variables are factors\n",
    "df$archetype = as.factor(df$archetype)\n",
    "df$companion = as.factor(df$companion)\n",
    "df$format = as.factor(df$format)"
   ]
  },
  {
   "cell_type": "markdown",
   "id": "44358701",
   "metadata": {},
   "source": [
    "## 7. Check for NAs"
   ]
  },
  {
   "cell_type": "code",
   "execution_count": 11,
   "id": "c978be45",
   "metadata": {},
   "outputs": [
    {
     "data": {
      "text/html": [
       "<table class=\"dataframe\">\n",
       "<caption>A data.frame: 0 × 11</caption>\n",
       "<thead>\n",
       "\t<tr><th scope=col>deck</th><th scope=col>lands</th><th scope=col>mdfcs</th><th scope=col>cantrips</th><th scope=col>ramp</th><th scope=col>other</th><th scope=col>companion</th><th scope=col>decksize</th><th scope=col>MV</th><th scope=col>archetype</th><th scope=col>format</th></tr>\n",
       "\t<tr><th scope=col>&lt;chr&gt;</th><th scope=col>&lt;dbl&gt;</th><th scope=col>&lt;dbl&gt;</th><th scope=col>&lt;dbl&gt;</th><th scope=col>&lt;dbl&gt;</th><th scope=col>&lt;dbl&gt;</th><th scope=col>&lt;fct&gt;</th><th scope=col>&lt;dbl&gt;</th><th scope=col>&lt;dbl&gt;</th><th scope=col>&lt;fct&gt;</th><th scope=col>&lt;fct&gt;</th></tr>\n",
       "</thead>\n",
       "<tbody>\n",
       "</tbody>\n",
       "</table>\n"
      ],
      "text/latex": [
       "A data.frame: 0 × 11\n",
       "\\begin{tabular}{lllllllllll}\n",
       " deck & lands & mdfcs & cantrips & ramp & other & companion & decksize & MV & archetype & format\\\\\n",
       " <chr> & <dbl> & <dbl> & <dbl> & <dbl> & <dbl> & <fct> & <dbl> & <dbl> & <fct> & <fct>\\\\\n",
       "\\hline\n",
       "\\end{tabular}\n"
      ],
      "text/markdown": [
       "\n",
       "A data.frame: 0 × 11\n",
       "\n",
       "| deck &lt;chr&gt; | lands &lt;dbl&gt; | mdfcs &lt;dbl&gt; | cantrips &lt;dbl&gt; | ramp &lt;dbl&gt; | other &lt;dbl&gt; | companion &lt;fct&gt; | decksize &lt;dbl&gt; | MV &lt;dbl&gt; | archetype &lt;fct&gt; | format &lt;fct&gt; |\n",
       "|---|---|---|---|---|---|---|---|---|---|---|\n",
       "\n"
      ],
      "text/plain": [
       "     deck lands mdfcs cantrips ramp other companion decksize MV archetype\n",
       "     format"
      ]
     },
     "metadata": {},
     "output_type": "display_data"
    }
   ],
   "source": [
    "na = df[!complete.cases(df),]\n",
    "na"
   ]
  },
  {
   "cell_type": "markdown",
   "id": "ed44b1d1",
   "metadata": {},
   "source": [
    "## 8. Final table\n",
    "  \n",
    "Here's the final table."
   ]
  },
  {
   "cell_type": "code",
   "execution_count": 12,
   "id": "d524f70b",
   "metadata": {},
   "outputs": [
    {
     "data": {
      "text/html": [
       "<table class=\"dataframe\">\n",
       "<caption>A data.frame: 6 × 11</caption>\n",
       "<thead>\n",
       "\t<tr><th></th><th scope=col>deck</th><th scope=col>lands</th><th scope=col>mdfcs</th><th scope=col>cantrips</th><th scope=col>ramp</th><th scope=col>other</th><th scope=col>companion</th><th scope=col>decksize</th><th scope=col>MV</th><th scope=col>archetype</th><th scope=col>format</th></tr>\n",
       "\t<tr><th></th><th scope=col>&lt;chr&gt;</th><th scope=col>&lt;dbl&gt;</th><th scope=col>&lt;dbl&gt;</th><th scope=col>&lt;dbl&gt;</th><th scope=col>&lt;dbl&gt;</th><th scope=col>&lt;dbl&gt;</th><th scope=col>&lt;fct&gt;</th><th scope=col>&lt;dbl&gt;</th><th scope=col>&lt;dbl&gt;</th><th scope=col>&lt;fct&gt;</th><th scope=col>&lt;fct&gt;</th></tr>\n",
       "</thead>\n",
       "<tbody>\n",
       "\t<tr><th scope=row>1</th><td>ALCH100_WeenieWhite</td><td>21</td><td>0</td><td> 0</td><td>0</td><td>35</td><td>0</td><td>60</td><td>2.307692</td><td>Aggro</td><td>Rotating</td></tr>\n",
       "\t<tr><th scope=row>2</th><td>ALCH101_NayaAggro  </td><td>23</td><td>0</td><td>16</td><td>0</td><td>21</td><td>0</td><td>60</td><td>2.162162</td><td>Aggro</td><td>Rotating</td></tr>\n",
       "\t<tr><th scope=row>3</th><td>ALCH102_WeenieWhite</td><td>22</td><td>0</td><td> 0</td><td>0</td><td>30</td><td>0</td><td>60</td><td>2.052632</td><td>Aggro</td><td>Rotating</td></tr>\n",
       "\t<tr><th scope=row>4</th><td>ALCH103_GruulAggro </td><td>24</td><td>0</td><td> 0</td><td>0</td><td>33</td><td>0</td><td>60</td><td>2.111111</td><td>Aggro</td><td>Rotating</td></tr>\n",
       "\t<tr><th scope=row>5</th><td>ALCH104_WeenieWhite</td><td>22</td><td>0</td><td> 0</td><td>0</td><td>34</td><td>0</td><td>61</td><td>2.179487</td><td>Aggro</td><td>Rotating</td></tr>\n",
       "\t<tr><th scope=row>6</th><td>ALCH105_WeenieWhite</td><td>20</td><td>0</td><td> 0</td><td>0</td><td>36</td><td>0</td><td>60</td><td>2.025000</td><td>Aggro</td><td>Rotating</td></tr>\n",
       "</tbody>\n",
       "</table>\n"
      ],
      "text/latex": [
       "A data.frame: 6 × 11\n",
       "\\begin{tabular}{r|lllllllllll}\n",
       "  & deck & lands & mdfcs & cantrips & ramp & other & companion & decksize & MV & archetype & format\\\\\n",
       "  & <chr> & <dbl> & <dbl> & <dbl> & <dbl> & <dbl> & <fct> & <dbl> & <dbl> & <fct> & <fct>\\\\\n",
       "\\hline\n",
       "\t1 & ALCH100\\_WeenieWhite & 21 & 0 &  0 & 0 & 35 & 0 & 60 & 2.307692 & Aggro & Rotating\\\\\n",
       "\t2 & ALCH101\\_NayaAggro   & 23 & 0 & 16 & 0 & 21 & 0 & 60 & 2.162162 & Aggro & Rotating\\\\\n",
       "\t3 & ALCH102\\_WeenieWhite & 22 & 0 &  0 & 0 & 30 & 0 & 60 & 2.052632 & Aggro & Rotating\\\\\n",
       "\t4 & ALCH103\\_GruulAggro  & 24 & 0 &  0 & 0 & 33 & 0 & 60 & 2.111111 & Aggro & Rotating\\\\\n",
       "\t5 & ALCH104\\_WeenieWhite & 22 & 0 &  0 & 0 & 34 & 0 & 61 & 2.179487 & Aggro & Rotating\\\\\n",
       "\t6 & ALCH105\\_WeenieWhite & 20 & 0 &  0 & 0 & 36 & 0 & 60 & 2.025000 & Aggro & Rotating\\\\\n",
       "\\end{tabular}\n"
      ],
      "text/markdown": [
       "\n",
       "A data.frame: 6 × 11\n",
       "\n",
       "| <!--/--> | deck &lt;chr&gt; | lands &lt;dbl&gt; | mdfcs &lt;dbl&gt; | cantrips &lt;dbl&gt; | ramp &lt;dbl&gt; | other &lt;dbl&gt; | companion &lt;fct&gt; | decksize &lt;dbl&gt; | MV &lt;dbl&gt; | archetype &lt;fct&gt; | format &lt;fct&gt; |\n",
       "|---|---|---|---|---|---|---|---|---|---|---|---|\n",
       "| 1 | ALCH100_WeenieWhite | 21 | 0 |  0 | 0 | 35 | 0 | 60 | 2.307692 | Aggro | Rotating |\n",
       "| 2 | ALCH101_NayaAggro   | 23 | 0 | 16 | 0 | 21 | 0 | 60 | 2.162162 | Aggro | Rotating |\n",
       "| 3 | ALCH102_WeenieWhite | 22 | 0 |  0 | 0 | 30 | 0 | 60 | 2.052632 | Aggro | Rotating |\n",
       "| 4 | ALCH103_GruulAggro  | 24 | 0 |  0 | 0 | 33 | 0 | 60 | 2.111111 | Aggro | Rotating |\n",
       "| 5 | ALCH104_WeenieWhite | 22 | 0 |  0 | 0 | 34 | 0 | 61 | 2.179487 | Aggro | Rotating |\n",
       "| 6 | ALCH105_WeenieWhite | 20 | 0 |  0 | 0 | 36 | 0 | 60 | 2.025000 | Aggro | Rotating |\n",
       "\n"
      ],
      "text/plain": [
       "  deck                lands mdfcs cantrips ramp other companion decksize\n",
       "1 ALCH100_WeenieWhite 21    0      0       0    35    0         60      \n",
       "2 ALCH101_NayaAggro   23    0     16       0    21    0         60      \n",
       "3 ALCH102_WeenieWhite 22    0      0       0    30    0         60      \n",
       "4 ALCH103_GruulAggro  24    0      0       0    33    0         60      \n",
       "5 ALCH104_WeenieWhite 22    0      0       0    34    0         61      \n",
       "6 ALCH105_WeenieWhite 20    0      0       0    36    0         60      \n",
       "  MV       archetype format  \n",
       "1 2.307692 Aggro     Rotating\n",
       "2 2.162162 Aggro     Rotating\n",
       "3 2.052632 Aggro     Rotating\n",
       "4 2.111111 Aggro     Rotating\n",
       "5 2.179487 Aggro     Rotating\n",
       "6 2.025000 Aggro     Rotating"
      ]
     },
     "metadata": {},
     "output_type": "display_data"
    },
    {
     "data": {
      "text/html": [
       "<style>\n",
       ".list-inline {list-style: none; margin:0; padding: 0}\n",
       ".list-inline>li {display: inline-block}\n",
       ".list-inline>li:not(:last-child)::after {content: \"\\00b7\"; padding: 0 .5ex}\n",
       "</style>\n",
       "<ol class=list-inline><li>3869</li><li>11</li></ol>\n"
      ],
      "text/latex": [
       "\\begin{enumerate*}\n",
       "\\item 3869\n",
       "\\item 11\n",
       "\\end{enumerate*}\n"
      ],
      "text/markdown": [
       "1. 3869\n",
       "2. 11\n",
       "\n",
       "\n"
      ],
      "text/plain": [
       "[1] 3869   11"
      ]
     },
     "metadata": {},
     "output_type": "display_data"
    }
   ],
   "source": [
    "head(df)\n",
    "dim(df)"
   ]
  },
  {
   "cell_type": "markdown",
   "id": "e50a3380",
   "metadata": {},
   "source": [
    "# Analysis\n",
    "  \n",
    "How does average mana value, presence of certain card types (mdfcs, cantrips, ramp, companion), deck archetype, and format predict land count in a deck?\n",
    "  \n",
    "1. Split dataset into training and testing subsets\n",
    "2. Perform EDA on training set\n",
    "3. Use LOOCV subset selection to determine best variables\n",
    "4. Create model and check for assumptions\n",
    "5. Check coefficients with bootstrapping\n",
    "6. Check p-values with permutation testing\n",
    "7. Get test prediction error\n",
    "8. Call it a day\n",
    "  \n",
    "## 1. Split dataset into training and testing subsets"
   ]
  },
  {
   "cell_type": "code",
   "execution_count": 13,
   "id": "8bc7f36e",
   "metadata": {},
   "outputs": [],
   "source": [
    "#split the data\n",
    "set.seed(20495)\n",
    "test = sample(1:nrow(df),nrow(df)/2)\n",
    "df_test = df[test,]\n",
    "df_train = df[-test,]"
   ]
  },
  {
   "cell_type": "markdown",
   "id": "0ab2784f",
   "metadata": {},
   "source": [
    "## 2. Perform EDA on training set"
   ]
  },
  {
   "cell_type": "code",
   "execution_count": 14,
   "id": "bf84d34c",
   "metadata": {},
   "outputs": [
    {
     "data": {
      "text/plain": [
       "     deck               lands          mdfcs           cantrips     \n",
       " Length:1935        Min.   :15.0   Min.   : 0.000   Min.   : 0.000  \n",
       " Class :character   1st Qu.:21.0   1st Qu.: 0.000   1st Qu.: 0.000  \n",
       " Mode  :character   Median :23.0   Median : 0.000   Median : 3.000  \n",
       "                    Mean   :23.1   Mean   : 1.417   Mean   : 4.028  \n",
       "                    3rd Qu.:25.0   3rd Qu.: 2.000   3rd Qu.: 6.000  \n",
       "                    Max.   :28.0   Max.   :11.000   Max.   :33.000  \n",
       "      ramp            other       companion    decksize           MV       \n",
       " Min.   : 0.000   Min.   : 8.00   0:1438    Min.   :60.00   Min.   :1.077  \n",
       " 1st Qu.: 0.000   1st Qu.:26.00   1: 497    1st Qu.:60.00   1st Qu.:2.158  \n",
       " Median : 0.000   Median :30.00             Median :60.00   Median :2.575  \n",
       " Mean   : 1.675   Mean   :29.33             Mean   :61.61   Mean   :2.602  \n",
       " 3rd Qu.: 3.000   3rd Qu.:33.00             3rd Qu.:60.00   3rd Qu.:2.988  \n",
       " Max.   :17.000   Max.   :41.00             Max.   :88.00   Max.   :4.576  \n",
       "   archetype            format   \n",
       " Aggro  :1327   Nonrotating:976  \n",
       " Control: 608   Rotating   :959  \n",
       "                                 \n",
       "                                 \n",
       "                                 \n",
       "                                 "
      ]
     },
     "metadata": {},
     "output_type": "display_data"
    },
    {
     "data": {
      "text/html": [
       "<pre class=language-r><code>function (x, ...) \n",
       "UseMethod(\"print\")</code></pre>"
      ],
      "text/latex": [
       "\\begin{minted}{r}\n",
       "function (x, ...) \n",
       "UseMethod(\"print\")\n",
       "\\end{minted}"
      ],
      "text/markdown": [
       "```r\n",
       "function (x, ...) \n",
       "UseMethod(\"print\")\n",
       "```"
      ],
      "text/plain": [
       "function (x, ...) \n",
       "UseMethod(\"print\")\n",
       "<bytecode: 0x000001975d0af418>\n",
       "<environment: namespace:base>"
      ]
     },
     "metadata": {},
     "output_type": "display_data"
    }
   ],
   "source": [
    "#EDA\n",
    "summary(df_train)\n",
    "pairs = df_train %>%\n",
    "        select(lands,mdfcs,cantrips,ramp,companion,MV,archetype,format) %>%\n",
    "        ggpairs()\n",
    "suppressMessages(print,(pairs))"
   ]
  },
  {
   "cell_type": "markdown",
   "id": "40737fc1",
   "metadata": {},
   "source": [
    "I didn't see anything out of the ordinary, so I carried on. There may have been some collinearity, but I was more interested in prediction than inference, and research (aka Google searches) suggested that mild to moderate collinearity would not affect overall prediction.  \n",
    "  \n",
    "## 3. Use LOOCV subset selection to determine best variables"
   ]
  },
  {
   "cell_type": "code",
   "execution_count": 15,
   "id": "d4e42b63",
   "metadata": {},
   "outputs": [
    {
     "data": {
      "text/plain": [
       "\n",
       "   7 \n",
       "1935 "
      ]
     },
     "metadata": {},
     "output_type": "display_data"
    },
    {
     "data": {
      "text/plain": [
       "\n",
       "   7 \n",
       "1935 "
      ]
     },
     "metadata": {},
     "output_type": "display_data"
    },
    {
     "data": {
      "text/plain": [
       "\n",
       "   7 \n",
       "1935 "
      ]
     },
     "metadata": {},
     "output_type": "display_data"
    }
   ],
   "source": [
    "#best fit model\n",
    "best_fit = matrix(NA,nrow(df_train),3)\n",
    "for (i in 1:nrow(df_train)){\n",
    "  lm_cv = regsubsets(lands~MV+mdfcs+cantrips+ramp+companion+archetype+format,\n",
    "                      df_train[-i,],\n",
    "                      nvmax=30)\n",
    "  cv_summary = summary(lm_cv)\n",
    "  best_fit[i,] = c(which.min(cv_summary$bic),\n",
    "                  which.max(cv_summary$adjr2),\n",
    "                  which.min(cv_summary$cp))\n",
    "}\n",
    "table(best_fit[,1])\n",
    "table(best_fit[,2])\n",
    "table(best_fit[,3])"
   ]
  },
  {
   "cell_type": "markdown",
   "id": "23f37960",
   "metadata": {},
   "source": [
    "## 4. Create linear model and check for assumptions\n",
    "  \n",
    "There is one assumption that is harder to check, and that is independence of observations. This was almost surely violated to some extent. People can bring the same decks to different events under different names. Even if they didn't, Magic deckbuilding is a collaborative process. People copy each other, work in teams, contribute to the discourse around certain decks, etc. And while people almost assuredly create decks independently, I am not sure how common that is.  \n",
    "  \n",
    "I will say, however, that this process is a big reason why I think linear regression could reveal the best land counts, rather than the most common ones. Because of this collaboration, decks generally converge to the best versions of themselves. So even though independence is not assured, I think that that's okay for the purposes of this project."
   ]
  },
  {
   "cell_type": "code",
   "execution_count": 16,
   "id": "c12a1fa2",
   "metadata": {},
   "outputs": [
    {
     "data": {
      "text/plain": [
       "\n",
       "Call:\n",
       "lm(formula = lands ~ MV + mdfcs + cantrips + ramp + companion + \n",
       "    archetype + format, data = df_train)\n",
       "\n",
       "Residuals:\n",
       "    Min      1Q  Median      3Q     Max \n",
       "-5.2915 -0.8516  0.0905  0.9910  4.6154 \n",
       "\n",
       "Coefficients:\n",
       "                  Estimate Std. Error t value Pr(>|t|)    \n",
       "(Intercept)      20.090255   0.141078 142.405  < 2e-16 ***\n",
       "MV                1.676762   0.059505  28.178  < 2e-16 ***\n",
       "mdfcs            -0.600661   0.016326 -36.793  < 2e-16 ***\n",
       "cantrips         -0.182431   0.005374 -33.946  < 2e-16 ***\n",
       "ramp             -0.224387   0.010314 -21.756  < 2e-16 ***\n",
       "companion1        0.520731   0.073639   7.071 2.14e-12 ***\n",
       "archetypeControl  0.710381   0.081078   8.762  < 2e-16 ***\n",
       "formatRotating    0.502386   0.070310   7.145 1.27e-12 ***\n",
       "---\n",
       "Signif. codes:  0 '***' 0.001 '**' 0.01 '*' 0.05 '.' 0.1 ' ' 1\n",
       "\n",
       "Residual standard error: 1.325 on 1927 degrees of freedom\n",
       "Multiple R-squared:  0.6628,\tAdjusted R-squared:  0.6616 \n",
       "F-statistic: 541.1 on 7 and 1927 DF,  p-value: < 2.2e-16\n"
      ]
     },
     "metadata": {},
     "output_type": "display_data"
    },
    {
     "data": {
      "text/html": [
       "1.74780054091644"
      ],
      "text/latex": [
       "1.74780054091644"
      ],
      "text/markdown": [
       "1.74780054091644"
      ],
      "text/plain": [
       "[1] 1.747801"
      ]
     },
     "metadata": {},
     "output_type": "display_data"
    },
    {
     "data": {
      "image/png": "[encoded data removed]",
      "text/plain": [
       "Plot with title \"\""
      ]
     },
     "metadata": {
      "image/png": {
       "height": 420,
       "width": 420
      }
     },
     "output_type": "display_data"
    },
    {
     "data": {
      "image/png": "[encoded data removed]",
      "text/plain": [
       "Plot with title \"\""
      ]
     },
     "metadata": {
      "image/png": {
       "height": 420,
       "width": 420
      }
     },
     "output_type": "display_data"
    },
    {
     "data": {
      "image/png": "[encoded data removed]",
      "text/plain": [
       "Plot with title \"\""
      ]
     },
     "metadata": {
      "image/png": {
       "height": 420,
       "width": 420
      }
     },
     "output_type": "display_data"
    },
    {
     "data": {
      "image/png": "[encoded data removed]",
      "text/plain": [
       "Plot with title \"\""
      ]
     },
     "metadata": {
      "image/png": {
       "height": 420,
       "width": 420
      }
     },
     "output_type": "display_data"
    }
   ],
   "source": [
    "#make lm and check for assumptions\n",
    "lm = lm(lands~MV+mdfcs+cantrips+ramp+companion+archetype+format,data=df_train)\n",
    "summary(lm)\n",
    "mean(lm$residuals^2)\n",
    "plot(lm)"
   ]
  },
  {
   "cell_type": "markdown",
   "id": "cc07b48b",
   "metadata": {},
   "source": [
    "## 5. Check coefficients with bootstrapping\n",
    "  \n",
    "Assumptions seemed to fit well enough for the most part, but I wasn't sure so I did bootstrapping to see what that would show."
   ]
  },
  {
   "cell_type": "code",
   "execution_count": 17,
   "id": "89421150",
   "metadata": {},
   "outputs": [
    {
     "data": {
      "text/plain": [
       "\n",
       "ORDINARY NONPARAMETRIC BOOTSTRAP\n",
       "\n",
       "\n",
       "Call:\n",
       "boot(data = df_train, statistic = boot_func, R = 1000)\n",
       "\n",
       "\n",
       "Bootstrap Statistics :\n",
       "      original        bias    std. error\n",
       "t1* 20.0902553 -0.0004090394 0.152492066\n",
       "t2*  1.6767618  0.0006345927 0.062998812\n",
       "t3* -0.6006613 -0.0011676300 0.016662511\n",
       "t4* -0.1824311  0.0003748523 0.005364283\n",
       "t5* -0.2243867  0.0001243633 0.007754578\n",
       "t6*  0.5207308  0.0002570635 0.076389327\n",
       "t7*  0.7103807 -0.0027743030 0.075179511\n",
       "t8*  0.5023858  0.0013830216 0.073012646"
      ]
     },
     "metadata": {},
     "output_type": "display_data"
    }
   ],
   "source": [
    "#bootstrapping\n",
    "set.seed(20495)\n",
    "boot_func <- function(data, index){  \n",
    "    return(coef(lm(lands~MV+mdfcs+cantrips+ramp+companion+archetype+format,\n",
    "                    data=data,\n",
    "                    subset=index)))\n",
    "  }\n",
    "\n",
    "boot = boot(df_train,boot_func,R=1000)\n",
    "boot"
   ]
  },
  {
   "cell_type": "markdown",
   "id": "040cea52",
   "metadata": {},
   "source": [
    "## 6. Check p-values with permutation testing\n",
    "  \n",
    "I also did permutation testing to get another look at p-values."
   ]
  },
  {
   "cell_type": "code",
   "execution_count": 18,
   "id": "37784281",
   "metadata": {},
   "outputs": [
    {
     "data": {
      "text/html": [
       "<style>\n",
       ".list-inline {list-style: none; margin:0; padding: 0}\n",
       ".list-inline>li {display: inline-block}\n",
       ".list-inline>li:not(:last-child)::after {content: \"\\00b7\"; padding: 0 .5ex}\n",
       "</style>\n",
       "<ol class=list-inline><li>0</li><li>0</li><li>0</li><li>0</li><li>0</li><li>0</li><li>0</li><li>0</li></ol>\n"
      ],
      "text/latex": [
       "\\begin{enumerate*}\n",
       "\\item 0\n",
       "\\item 0\n",
       "\\item 0\n",
       "\\item 0\n",
       "\\item 0\n",
       "\\item 0\n",
       "\\item 0\n",
       "\\item 0\n",
       "\\end{enumerate*}\n"
      ],
      "text/markdown": [
       "1. 0\n",
       "2. 0\n",
       "3. 0\n",
       "4. 0\n",
       "5. 0\n",
       "6. 0\n",
       "7. 0\n",
       "8. 0\n",
       "\n",
       "\n"
      ],
      "text/plain": [
       "[1] 0 0 0 0 0 0 0 0"
      ]
     },
     "metadata": {},
     "output_type": "display_data"
    },
    {
     "data": {
      "image/png": "[encoded data removed]",
      "text/plain": [
       "Plot with title \"Histogram of perm_coefs[, i]\""
      ]
     },
     "metadata": {
      "image/png": {
       "height": 420,
       "width": 420
      }
     },
     "output_type": "display_data"
    },
    {
     "data": {
      "image/png": "[encoded data removed]",
      "text/plain": [
       "Plot with title \"Histogram of perm_coefs[, i]\""
      ]
     },
     "metadata": {
      "image/png": {
       "height": 420,
       "width": 420
      }
     },
     "output_type": "display_data"
    },
    {
     "data": {
      "image/png": "[encoded data removed]",
      "text/plain": [
       "Plot with title \"Histogram of perm_coefs[, i]\""
      ]
     },
     "metadata": {
      "image/png": {
       "height": 420,
       "width": 420
      }
     },
     "output_type": "display_data"
    },
    {
     "data": {
      "image/png": "[encoded data removed]",
      "text/plain": [
       "Plot with title \"Histogram of perm_coefs[, i]\""
      ]
     },
     "metadata": {
      "image/png": {
       "height": 420,
       "width": 420
      }
     },
     "output_type": "display_data"
    },
    {
     "data": {
      "image/png": "[encoded data removed]",
      "text/plain": [
       "Plot with title \"Histogram of perm_coefs[, i]\""
      ]
     },
     "metadata": {
      "image/png": {
       "height": 420,
       "width": 420
      }
     },
     "output_type": "display_data"
    },
    {
     "data": {
      "image/png": "[encoded data removed]",
      "text/plain": [
       "Plot with title \"Histogram of perm_coefs[, i]\""
      ]
     },
     "metadata": {
      "image/png": {
       "height": 420,
       "width": 420
      }
     },
     "output_type": "display_data"
    },
    {
     "data": {
      "image/png": "[encoded data removed]",
      "text/plain": [
       "Plot with title \"Histogram of perm_coefs[, i]\""
      ]
     },
     "metadata": {
      "image/png": {
       "height": 420,
       "width": 420
      }
     },
     "output_type": "display_data"
    },
    {
     "data": {
      "image/png": "[encoded data removed]",
      "text/plain": [
       "Plot with title \"Histogram of perm_coefs[, i]\""
      ]
     },
     "metadata": {
      "image/png": {
       "height": 420,
       "width": 420
      }
     },
     "output_type": "display_data"
    }
   ],
   "source": [
    "#permutation testing\n",
    "df_perm = df_train\n",
    "perm_coefs = matrix(NA,1000,8)\n",
    "colnames(perm_coefs) = c(\"intercept\",\n",
    "                         \"MV\",\n",
    "                         \"mdfcs\",\n",
    "                         \"cantrips\",\n",
    "                         \"ramp\",\n",
    "                         \"companion\",\n",
    "                         \"control\",\n",
    "                         \"format\")\n",
    "\n",
    "set.seed(20495)\n",
    "for (i in 1:1000){\n",
    "  df_perm = df_perm %>% mutate(across(c(MV,mdfcs,cantrips,ramp,companion,\n",
    "                                        archetype,format),\n",
    "                                      ~.[sample(nrow(df_perm))]))\n",
    "  perm_coefs[i,] = coef(lm(lands ~\n",
    "                            MV+mdfcs+cantrips+ramp+companion+archetype+format,\n",
    "                            data=df_perm))\n",
    "}\n",
    "\n",
    "#get p-values\n",
    "p_values = rep(NA,8)\n",
    "for (i in 1:8){\n",
    "  p_values[i] = ifelse(coef(lm)[i] > mean(perm_coefs[,i]),\n",
    "                  sum(perm_coefs[,i]>coef(lm)[i])/nrow(df_train),\n",
    "                  sum(perm_coefs[,i]<coef(lm)[i])/nrow(df_train))\n",
    "}\n",
    "p_values\n",
    "\n",
    "#plot null distributions\n",
    "for (i in 1:8){\n",
    "  hist(perm_coefs[,i],xlab=colnames(perm_coefs)[i])\n",
    "}"
   ]
  },
  {
   "cell_type": "markdown",
   "id": "697fc66f",
   "metadata": {},
   "source": [
    "## 7. Get test prediction error\n",
    "  \n",
    "Finally, it was time to see how well the model could predict the test set data."
   ]
  },
  {
   "cell_type": "code",
   "execution_count": 19,
   "id": "ad8f9c6d",
   "metadata": {},
   "outputs": [
    {
     "data": {
      "text/html": [
       "1.95656670113754"
      ],
      "text/latex": [
       "1.95656670113754"
      ],
      "text/markdown": [
       "1.95656670113754"
      ],
      "text/plain": [
       "[1] 1.956567"
      ]
     },
     "metadata": {},
     "output_type": "display_data"
    },
    {
     "data": {
      "image/png": "[encoded data removed]",
      "text/plain": [
       "Plot with title \"Histogram of err\""
      ]
     },
     "metadata": {
      "image/png": {
       "height": 420,
       "width": 420
      }
     },
     "output_type": "display_data"
    },
    {
     "data": {
      "image/png": "[encoded data removed]",
      "text/plain": [
       "Plot with title \"Histogram of abs(err)\""
      ]
     },
     "metadata": {
      "image/png": {
       "height": 420,
       "width": 420
      }
     },
     "output_type": "display_data"
    }
   ],
   "source": [
    "#predict test set\n",
    "predict = round(predict(lm, df_test))\n",
    "err = predict - df_test$lands\n",
    "\n",
    "mean(err^2)\n",
    "\n",
    "hist(err)\n",
    "hist(abs(err))"
   ]
  },
  {
   "cell_type": "markdown",
   "id": "6a3d328f",
   "metadata": {},
   "source": [
    "# Conclusions\n",
    "  \n",
    "I tested my hypothesis that there would be a linear relation between land count and average mana value; MDFCs, cantrips, and ramp cards; the presence of a companion; and deck archetype and format. Subset selection indicated that all variables should be used. Linear regression coefficients for all variables had low p-values (<.0001), which was further supported by permutation testing. Bootstrapping supported linear model coefficients with low bias (<0.01) and low standard errors (<0.1). Mean squared prediction error was 1.957, which was acceptable. In comparison to Frank Karsten's model, r-squared was higher (0.663 vs. 0.395) and root MSE was lower (1.322 vs. 2.75), suggesting that archetype and format may affect land count.\n",
    "<br>\n",
    "  \n",
    "My Model:  \n",
    "  \n",
    "$$Lands = 20.09 + 1.68MV - 0.60mdfcs - 0.18cantrips - 0.22ramp + 0.52I_{companion} + 0.71I_{control} + 0.60I_{rotating}$$\n",
    "<br>\n",
    "  \n",
    "Frank Karsten's Model:  \n",
    "  \n",
    "$$Lands = 19.59 + 1.9MV - 0.38mdfcs - 0.28cantrips - 0.28ramp + 0.27I_{companion}$$"
   ]
  },
  {
   "cell_type": "code",
   "execution_count": null,
   "id": "290f76b3",
   "metadata": {},
   "outputs": [],
   "source": []
  }
 ],
 "metadata": {
  "kernelspec": {
   "display_name": "R",
   "language": "R",
   "name": "ir"
  },
  "language_info": {
   "codemirror_mode": "r",
   "file_extension": ".r",
   "mimetype": "text/x-r-source",
   "name": "R",
   "pygments_lexer": "r",
   "version": "4.2.1"
  }
 },
 "nbformat": 4,
 "nbformat_minor": 5
}
